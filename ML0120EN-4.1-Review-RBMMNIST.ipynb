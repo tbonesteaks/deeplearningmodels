{
 "cells": [
  {
   "cell_type": "markdown",
   "metadata": {},
   "source": [
    "<a href=\"https://www.skills.network/?utm_medium=Exinfluencer&utm_source=Exinfluencer&utm_content=000026UJ&utm_term=10006555&utm_id=NA-SkillsNetwork-Channel-SkillsNetworkCoursesIBMDeveloperSkillsNetworkDL0120ENSkillsNetwork20629446-2021-01-01\"><img src=\"https://cf-courses-data.s3.us.cloud-object-storage.appdomain.cloud/IBM-DL0120ENedX/labs/Template%20for%20Instructional%20Hands-on%20Labs/images/IDSNlogo.png\" width=\"400px\" align=\"center\"></a>\n",
    "\n",
    "<h1 align=\"center\"><font size=\"5\">RESTRICTED BOLTZMANN MACHINES</font></h1>\n"
   ]
  },
  {
   "cell_type": "markdown",
   "metadata": {},
   "source": [
    "<h3>Introduction</h3>\n",
    "<b>Restricted Boltzmann Machine (RBM):</b>  RBMs are shallow neural nets that learn to reconstruct data by themselves in an unsupervised fashion.  \n",
    "\n",
    "<h4>Why are RBMs important?</h4>\n",
    "An RBM are a basic form of autoencoder.  It can automatically extract <b>meaningful</b> features from a given input.\n",
    "\n",
    "<h4>How does it work?</h4>\n",
    "RBM is a 2 layer neural network. Simply, RBM takes the inputs and translates those into a set of binary values that represents them in the hidden layer. Then, these numbers can be translated back to reconstruct the inputs. Through several forward and backward passes, the RBM will be trained, and a trained RBM can reveal which features are the most important ones when detecting patterns.   \n",
    "\n",
    "<h4>What are the applications of an RBM?</h4>\n",
    "RBM is useful for <a href='http://www.cs.utoronto.ca/~hinton/absps/netflixICML.pdf?utm_medium=Exinfluencer&utm_source=Exinfluencer&utm_content=000026UJ&utm_term=10006555&utm_id=NA-SkillsNetwork-Channel-SkillsNetworkCoursesIBMDeveloperSkillsNetworkDL0120ENSkillsNetwork20629446-2021-01-01'>  Collaborative Filtering</a>, dimensionality reduction, classification, regression, feature learning, topic modeling and even <b>Deep Belief Networks</b>.\n",
    "\n",
    "<h4>Is RBM a generative or Discriminative model?</h4>\n",
    "RBM is a generative model. Let me explain it by first, see what is different between discriminative and generative models: \n",
    "\n",
    "<b>Discriminative:</b> Consider a classification problem where we want to learn to distinguish between Sedan cars (y = 1) and SUV cars (y = 0), based on some features of cars. Given a training set, an algorithm like logistic regression tries to find a straight line, or <i>decision boundary</i>, that separates the suv and sedan.\n",
    "\n",
    "<b>Generative:</b> looking at cars, we can build a model of what Sedan cars look like. Then, looking at SUVs, we can build a separate model of what SUV cars look like. Finally, to classify a new car, we can match the new car against the Sedan model, and match it against the SUV model, to see whether the new car looks more like the SUV or Sedan.\n",
    "\n",
    "Generative Models specify a probability distribution over a dataset of input vectors. We can carry out both supervised and unsupervised tasks with generative models:\n",
    "\n",
    "<ul>\n",
    "    <li>In an unsupervised task, we try to form a model for $P(x)$, where $P$ is the probability given $x$ as an input vector.</li>\n",
    "    <li>In the supervised task, we first form a model for $P(x|y)$, where $P$ is the probability of $x$ given $y$(the label for $x$). For example, if $y = 0$ indicates that a car is an SUV, and $y = 1$ indicates that a car is a sedan, then $p(x|y = 0)$ models the distribution of SUV features, and $p(x|y = 1)$ models the distribution of sedan features. If we manage to find $P(x|y)$ and $P(y)$, then we can use <b>Bayes rule</b> to estimate $P(y|x)$, because:   \n",
    "        $$p(y|x) = \\frac{p(x|y)p(y)}{p(x)}$$</li>\n",
    "</ul>\n",
    "Now the question is, can we build a generative model, and then use it to create synthetic data by directly sampling from the modeled probability distributions? Lets see. \n"
   ]
  },
  {
   "cell_type": "markdown",
   "metadata": {},
   "source": [
    "<h2>Table of Contents</h2>\n",
    "<ol>\n",
    "    <li><a href=\"https://#ref1\">Initialization</a></li>\n",
    "    <li><a href=\"https://#ref2\">RBM layers</a></li>\n",
    "    <li><a href=\"https://#ref3\">What RBM can do after training?</a></li>\n",
    "    <li><a href=\"https://#ref4\">How to train the model?</a></li>\n",
    "    <li><a href=\"https://#ref5\">Learned features</a></li>\n",
    "</ol>\n",
    "<p></p>\n",
    "</div>\n",
    "<br>\n",
    "\n",
    "<hr>\n"
   ]
  },
  {
   "cell_type": "markdown",
   "metadata": {},
   "source": [
    "<a id=\"ref1\"></a>\n",
    "\n",
    "<h3>Initialization</h3>\n",
    "\n",
    "First, we have to load the utility file which contains different utility functions that are not connected\n",
    "in any way to the networks presented in the tutorials, but rather help in\n",
    "processing the outputs into a more understandable way.\n"
   ]
  },
  {
   "cell_type": "code",
   "execution_count": 1,
   "metadata": {},
   "outputs": [],
   "source": [
    "import urllib.request\n",
    "with urllib.request.urlopen(\"https://cf-courses-data.s3.us.cloud-object-storage.appdomain.cloud/IBMDeveloperSkillsNetwork-DL0120EN-SkillsNetwork/labs/Week4/data/utils.py\") as url:\n",
    "    response = url.read()\n",
    "target = open('utils.py', 'w')\n",
    "target.write(response.decode('utf-8'))\n",
    "target.close()"
   ]
  },
  {
   "cell_type": "markdown",
   "metadata": {},
   "source": [
    "<h2>Installing TensorFlow </h2>\n",
    "\n",
    "We will installing TensorFlow version 2.2.0 and its required prerequistes.  Also installing pillow\\...\n"
   ]
  },
  {
   "cell_type": "code",
   "execution_count": 2,
   "metadata": {},
   "outputs": [
    {
     "name": "stdout",
     "output_type": "stream",
     "text": [
      "Requirement already satisfied: grpcio==1.24.3 in /home/jupyterlab/conda/envs/python/lib/python3.6/site-packages (1.24.3)\n",
      "Requirement already satisfied: six>=1.5.2 in /home/jupyterlab/conda/envs/python/lib/python3.6/site-packages (from grpcio==1.24.3) (1.15.0)\n",
      "Collecting tensorflow==2.2.0\n",
      "  Using cached https://files.pythonhosted.org/packages/3d/be/679ce5254a8c8d07470efb4a4c00345fae91f766e64f1c2aece8796d7218/tensorflow-2.2.0-cp36-cp36m-manylinux2010_x86_64.whl\n",
      "Requirement already satisfied: opt-einsum>=2.3.2 in /home/jupyterlab/conda/envs/python/lib/python3.6/site-packages (from tensorflow==2.2.0) (3.3.0)\n",
      "Requirement already satisfied: scipy==1.4.1; python_version >= \"3\" in /home/jupyterlab/conda/envs/python/lib/python3.6/site-packages (from tensorflow==2.2.0) (1.4.1)\n",
      "Requirement already satisfied: numpy<2.0,>=1.16.0 in /home/jupyterlab/conda/envs/python/lib/python3.6/site-packages (from tensorflow==2.2.0) (1.19.5)\n",
      "Requirement already satisfied: keras-preprocessing>=1.1.0 in /home/jupyterlab/conda/envs/python/lib/python3.6/site-packages (from tensorflow==2.2.0) (1.1.2)\n",
      "Collecting tensorflow-estimator<2.3.0,>=2.2.0 (from tensorflow==2.2.0)\n",
      "  Using cached https://files.pythonhosted.org/packages/a4/f5/926ae53d6a226ec0fda5208e0e581cffed895ccc89e36ba76a8e60895b78/tensorflow_estimator-2.2.0-py2.py3-none-any.whl\n",
      "Requirement already satisfied: google-pasta>=0.1.8 in /home/jupyterlab/conda/envs/python/lib/python3.6/site-packages (from tensorflow==2.2.0) (0.2.0)\n",
      "Requirement already satisfied: protobuf>=3.8.0 in /home/jupyterlab/conda/envs/python/lib/python3.6/site-packages (from tensorflow==2.2.0) (3.17.2)\n",
      "Requirement already satisfied: six>=1.12.0 in /home/jupyterlab/conda/envs/python/lib/python3.6/site-packages (from tensorflow==2.2.0) (1.15.0)\n",
      "Requirement already satisfied: astunparse==1.6.3 in /home/jupyterlab/conda/envs/python/lib/python3.6/site-packages (from tensorflow==2.2.0) (1.6.3)\n",
      "Requirement already satisfied: wrapt>=1.11.1 in /home/jupyterlab/conda/envs/python/lib/python3.6/site-packages (from tensorflow==2.2.0) (1.12.1)\n",
      "Requirement already satisfied: h5py<2.11.0,>=2.10.0 in /home/jupyterlab/conda/envs/python/lib/python3.6/site-packages (from tensorflow==2.2.0) (2.10.0)\n",
      "Requirement already satisfied: termcolor>=1.1.0 in /home/jupyterlab/conda/envs/python/lib/python3.6/site-packages (from tensorflow==2.2.0) (1.1.0)\n",
      "Requirement already satisfied: gast==0.3.3 in /home/jupyterlab/conda/envs/python/lib/python3.6/site-packages (from tensorflow==2.2.0) (0.3.3)\n",
      "Requirement already satisfied: absl-py>=0.7.0 in /home/jupyterlab/conda/envs/python/lib/python3.6/site-packages (from tensorflow==2.2.0) (0.13.0)\n",
      "Requirement already satisfied: grpcio>=1.8.6 in /home/jupyterlab/conda/envs/python/lib/python3.6/site-packages (from tensorflow==2.2.0) (1.24.3)\n",
      "Requirement already satisfied: wheel>=0.26; python_version >= \"3\" in /home/jupyterlab/conda/envs/python/lib/python3.6/site-packages (from tensorflow==2.2.0) (0.36.2)\n",
      "Collecting tensorboard<2.3.0,>=2.2.0 (from tensorflow==2.2.0)\n",
      "  Using cached https://files.pythonhosted.org/packages/1d/74/0a6fcb206dcc72a6da9a62dd81784bfdbff5fedb099982861dc2219014fb/tensorboard-2.2.2-py3-none-any.whl\n",
      "Requirement already satisfied: werkzeug>=0.11.15 in /home/jupyterlab/conda/envs/python/lib/python3.6/site-packages (from tensorboard<2.3.0,>=2.2.0->tensorflow==2.2.0) (2.0.1)\n",
      "Requirement already satisfied: markdown>=2.6.8 in /home/jupyterlab/conda/envs/python/lib/python3.6/site-packages (from tensorboard<2.3.0,>=2.2.0->tensorflow==2.2.0) (3.3.4)\n",
      "Requirement already satisfied: requests<3,>=2.21.0 in /home/jupyterlab/conda/envs/python/lib/python3.6/site-packages (from tensorboard<2.3.0,>=2.2.0->tensorflow==2.2.0) (2.25.1)\n",
      "Requirement already satisfied: setuptools>=41.0.0 in /home/jupyterlab/conda/envs/python/lib/python3.6/site-packages (from tensorboard<2.3.0,>=2.2.0->tensorflow==2.2.0) (49.6.0.post20210108)\n",
      "Requirement already satisfied: google-auth<2,>=1.6.3 in /home/jupyterlab/conda/envs/python/lib/python3.6/site-packages (from tensorboard<2.3.0,>=2.2.0->tensorflow==2.2.0) (1.35.0)\n",
      "Requirement already satisfied: tensorboard-plugin-wit>=1.6.0 in /home/jupyterlab/conda/envs/python/lib/python3.6/site-packages (from tensorboard<2.3.0,>=2.2.0->tensorflow==2.2.0) (1.8.0)\n",
      "Requirement already satisfied: google-auth-oauthlib<0.5,>=0.4.1 in /home/jupyterlab/conda/envs/python/lib/python3.6/site-packages (from tensorboard<2.3.0,>=2.2.0->tensorflow==2.2.0) (0.4.6)\n",
      "Requirement already satisfied: dataclasses; python_version < \"3.7\" in /home/jupyterlab/conda/envs/python/lib/python3.6/site-packages (from werkzeug>=0.11.15->tensorboard<2.3.0,>=2.2.0->tensorflow==2.2.0) (0.8)\n",
      "Requirement already satisfied: importlib-metadata; python_version < \"3.8\" in /home/jupyterlab/conda/envs/python/lib/python3.6/site-packages (from markdown>=2.6.8->tensorboard<2.3.0,>=2.2.0->tensorflow==2.2.0) (4.6.1)\n",
      "Requirement already satisfied: idna<3,>=2.5 in /home/jupyterlab/conda/envs/python/lib/python3.6/site-packages (from requests<3,>=2.21.0->tensorboard<2.3.0,>=2.2.0->tensorflow==2.2.0) (2.10)\n",
      "Requirement already satisfied: urllib3<1.27,>=1.21.1 in /home/jupyterlab/conda/envs/python/lib/python3.6/site-packages (from requests<3,>=2.21.0->tensorboard<2.3.0,>=2.2.0->tensorflow==2.2.0) (1.26.6)\n",
      "Requirement already satisfied: certifi>=2017.4.17 in /home/jupyterlab/conda/envs/python/lib/python3.6/site-packages (from requests<3,>=2.21.0->tensorboard<2.3.0,>=2.2.0->tensorflow==2.2.0) (2021.5.30)\n",
      "Requirement already satisfied: chardet<5,>=3.0.2 in /home/jupyterlab/conda/envs/python/lib/python3.6/site-packages (from requests<3,>=2.21.0->tensorboard<2.3.0,>=2.2.0->tensorflow==2.2.0) (4.0.0)\n",
      "Requirement already satisfied: rsa<5,>=3.1.4; python_version >= \"3.6\" in /home/jupyterlab/conda/envs/python/lib/python3.6/site-packages (from google-auth<2,>=1.6.3->tensorboard<2.3.0,>=2.2.0->tensorflow==2.2.0) (4.7.2)\n",
      "Requirement already satisfied: cachetools<5.0,>=2.0.0 in /home/jupyterlab/conda/envs/python/lib/python3.6/site-packages (from google-auth<2,>=1.6.3->tensorboard<2.3.0,>=2.2.0->tensorflow==2.2.0) (4.2.2)\n",
      "Requirement already satisfied: pyasn1-modules>=0.2.1 in /home/jupyterlab/conda/envs/python/lib/python3.6/site-packages (from google-auth<2,>=1.6.3->tensorboard<2.3.0,>=2.2.0->tensorflow==2.2.0) (0.2.8)\n",
      "Requirement already satisfied: requests-oauthlib>=0.7.0 in /home/jupyterlab/conda/envs/python/lib/python3.6/site-packages (from google-auth-oauthlib<0.5,>=0.4.1->tensorboard<2.3.0,>=2.2.0->tensorflow==2.2.0) (1.3.0)\n",
      "Requirement already satisfied: zipp>=0.5 in /home/jupyterlab/conda/envs/python/lib/python3.6/site-packages (from importlib-metadata; python_version < \"3.8\"->markdown>=2.6.8->tensorboard<2.3.0,>=2.2.0->tensorflow==2.2.0) (3.5.0)\n",
      "Requirement already satisfied: typing-extensions>=3.6.4; python_version < \"3.8\" in /home/jupyterlab/conda/envs/python/lib/python3.6/site-packages (from importlib-metadata; python_version < \"3.8\"->markdown>=2.6.8->tensorboard<2.3.0,>=2.2.0->tensorflow==2.2.0) (3.10.0.0)\n",
      "Requirement already satisfied: pyasn1>=0.1.3 in /home/jupyterlab/conda/envs/python/lib/python3.6/site-packages (from rsa<5,>=3.1.4; python_version >= \"3.6\"->google-auth<2,>=1.6.3->tensorboard<2.3.0,>=2.2.0->tensorflow==2.2.0) (0.4.8)\n",
      "Requirement already satisfied: oauthlib>=3.0.0 in /home/jupyterlab/conda/envs/python/lib/python3.6/site-packages (from requests-oauthlib>=0.7.0->google-auth-oauthlib<0.5,>=0.4.1->tensorboard<2.3.0,>=2.2.0->tensorflow==2.2.0) (3.1.1)\n",
      "Installing collected packages: tensorflow-estimator, tensorboard, tensorflow\n",
      "  Found existing installation: tensorflow-estimator 2.1.0\n",
      "    Uninstalling tensorflow-estimator-2.1.0:\n",
      "      Successfully uninstalled tensorflow-estimator-2.1.0\n",
      "  Found existing installation: tensorboard 2.1.1\n",
      "    Uninstalling tensorboard-2.1.1:\n",
      "      Successfully uninstalled tensorboard-2.1.1\n",
      "  Found existing installation: tensorflow 2.2.0rc0\n",
      "    Uninstalling tensorflow-2.2.0rc0:\n",
      "      Successfully uninstalled tensorflow-2.2.0rc0\n",
      "Successfully installed tensorboard-2.2.2 tensorflow-2.2.0 tensorflow-estimator-2.2.0\n",
      "Requirement already satisfied: pillow in /home/jupyterlab/conda/envs/python/lib/python3.6/site-packages (8.3.1)\n"
     ]
    }
   ],
   "source": [
    "!pip install grpcio==1.24.3\n",
    "!pip install tensorflow==2.2.0\n",
    "!pip install pillow"
   ]
  },
  {
   "cell_type": "markdown",
   "metadata": {},
   "source": [
    "<b>Notice:</b> This notebook has been created with TensorFlow version 2.2, and might not work with other versions. Therefore we check:\n"
   ]
  },
  {
   "cell_type": "code",
   "execution_count": 4,
   "metadata": {},
   "outputs": [],
   "source": [
    "import tensorflow as tf\n",
    "from IPython.display import Markdown, display\n",
    "\n",
    "def printmd(string):\n",
    "    display(Markdown('# <span style=\"color:red\">'+string+'</span>'))\n",
    "\n",
    "\n",
    "if not tf.__version__ == '2.2.0':\n",
    "    printmd('<<<<<!!!!! ERROR !!!! please upgrade to TensorFlow 2.2.0, or restart your Kernel (Kernel->Restart & Clear Output)>>>>>')"
   ]
  },
  {
   "cell_type": "markdown",
   "metadata": {},
   "source": [
    "Now, we load in all the packages that we use to create the net including the TensorFlow package:\n"
   ]
  },
  {
   "cell_type": "code",
   "execution_count": 5,
   "metadata": {},
   "outputs": [],
   "source": [
    "import tensorflow as tf\n",
    "import numpy as np\n",
    "\n",
    "from PIL import Image\n",
    "from utils import tile_raster_images\n",
    "import matplotlib.pyplot as plt\n",
    "%matplotlib inline"
   ]
  },
  {
   "cell_type": "markdown",
   "metadata": {},
   "source": [
    "<hr>\n"
   ]
  },
  {
   "cell_type": "markdown",
   "metadata": {},
   "source": [
    "<a id=\"ref2\"></a>\n",
    "\n",
    "<h3>RBM layers</h3>\n",
    "\n",
    "An RBM has two layers. The first layer of the RBM is called the <b>visible</b> (or input layer). Imagine that our toy example, has only vectors with 7 values, so the visible layer must have $V=7$ input nodes.\n",
    "The second layer is the <b>hidden</b> layer, which has $H$ neurons in our case. Each hidden node takes on values of either 0 or 1 (i.e., $h_i = 1$ or $h_i$ = 0), with a probability that is a logistic function of the inputs it receives from the other $V$ visible units, called for example, $p(h_i = 1)$. For our toy sample, we'll use 2 nodes in the hidden layer, so $H = 2$.\n",
    "\n",
    "<center><img src=\"https://ibm.box.com/shared/static/eu26opvcefgls6vnwuo29uwp0nudmokh.png\" alt=\"RBM Model\" style=\"width: 400px;\"></center>\n"
   ]
  },
  {
   "cell_type": "markdown",
   "metadata": {},
   "source": [
    "Each node in the first layer also has a <b>bias</b>. We will denote the bias as $v\\_{bias}$, and this single value is shared among the $V$ visible units.\n",
    "\n",
    "The <b>bias</b> of the second is defined similarly as $h\\_{bias}$, and this single value among the $H$ hidden units.\n"
   ]
  },
  {
   "cell_type": "code",
   "execution_count": 6,
   "metadata": {},
   "outputs": [],
   "source": [
    "v_bias = tf.Variable(tf.zeros([7]), tf.float32)\n",
    "h_bias = tf.Variable(tf.zeros([2]), tf.float32)"
   ]
  },
  {
   "cell_type": "markdown",
   "metadata": {},
   "source": [
    "We have to define weights among the input layer and hidden layer nodes. In the weight matrix, the number of rows are equal to the input nodes, and the number of columns are equal to the output nodes. We define a tensor $\\mathbf{W}$ of shape = (7,2), where the number of visible neurons = 7, and the number of hidden neurons = 2.\n"
   ]
  },
  {
   "cell_type": "code",
   "execution_count": 7,
   "metadata": {},
   "outputs": [],
   "source": [
    "W = tf.constant(np.random.normal(loc=0.0, scale=1.0, size=(7, 2)).astype(np.float32))"
   ]
  },
  {
   "cell_type": "markdown",
   "metadata": {},
   "source": [
    "<hr>\n"
   ]
  },
  {
   "cell_type": "markdown",
   "metadata": {},
   "source": [
    "<a id=\"ref3\"></a>\n",
    "\n",
    "<h3>What RBM can do after training?</h3>\n",
    "Think of RBM as a model that has been trained based on images of a dataset of many SUV and sedan cars. Also, imagine that the RBM network has only two hidden nodes, where one node encodes the weight and, and the other encodes the size.  \n",
    "In a sense, the different configurations represent different cars, where one is an SUV and the other is Sedan.  In a training process, through many forward and backward passes, the RBM adjust its weights to send a stronger signal to either the SUV node (0, 1) or the sedan node (1, 0) in the hidden layer, given the pixels of images. Now, given an SUV in hidden layer, which distribution of pixels should we expect? RBM can give you 2 things. First, it encodes your images in hidden layer. Second, it gives you the probability of observing a case, given some hidden values.\n",
    "\n",
    "<h3>The Inference Process</h3>\n",
    "\n",
    "RBM has two phases:\n",
    "\n",
    "<ul>\n",
    "    <li>Forward Pass</li>  \n",
    "    <li>Backward Pass or Reconstruction</li>\n",
    "</ul>\n",
    "\n",
    "<b>Phase 1) Forward pass:</b>\n",
    "\n",
    "Input one training sample (one image) $\\mathbf{x}$ through all visible nodes, and pass it to all hidden nodes. Processing happens in each node in the hidden layer. This computation begins by making stochastic decisions about whether to transmit that input or not (i.e. to determine the state of each hidden layer).  First, the probability vector is computed using the input feature vector $\\mathbf{x}$, the weight matrix $\\mathbf{W}$, and the bias term $h\\_{bias}$, as\n",
    "\n",
    "$$p({h_j}|\\mathbf x)= \\sigma( \\sum\\_{i=1}^V W\\_{ij} x_i + h\\_{bias} )$$,\n",
    "\n",
    "where $\\sigma(z) = (1+e^{-z})^{-1}$ is the logistic function.\n",
    "\n",
    "So, what does $p({h_j})$ represent? It is the <b>probability distribution</b> of the hidden units. That is, RBM uses inputs $x_i$ to make predictions about hidden node activations. For example, imagine that the hidden node activation values are \\[0.51 0.84] for the first training item. It tells you that the conditional probability for each hidden neuron for Phase 1 is:\n",
    "\n",
    "$$p(h\\_{1} = 1|\\mathbf{v}) = 0.51$$\n",
    "$$p(h\\_{2} = 1|\\mathbf{v}) = 0.84$$\n",
    "\n",
    "As a result, for each row in the training set, vector of probabilities is generated.  In TensorFlow, this is referred to as a `tensor` with a shape of (1,2).\n",
    "\n",
    "We then turn unit $j$ with probability $p(h\\_{j}|\\mathbf{v})$, and turn it off with probability $1 - p(h\\_{j}|\\mathbf{v})$ by generating a uniform random number vector $\\mathbf{\\xi}$, and comparing it to the activation probability as\n",
    "\n",
    "<center>If $\\xi_j>p(h_{j}|\\mathbf{v})$, then $h_j=1$, else $h_j=0$.</center>\n",
    "\n",
    "Therefore, the conditional probability of a configuration of $\\mathbf{h}$ given $\\mathbf{v}$ (for a training sample) is:\n",
    "\n",
    "$$p(\\mathbf{h} \\mid \\mathbf{v}) = \\prod\\_{j=1}^H p(h_j \\mid \\mathbf{v})$$\n",
    "\n",
    "where $H$ is the number of hidden units.\n"
   ]
  },
  {
   "cell_type": "markdown",
   "metadata": {},
   "source": [
    "Before we go further, let's look at a toy example for one case out of all input. Assume that we have a trained RBM, and a very simple input vector, such as \\[1.0, 0.0, 0.0, 1.0, 0.0, 0.0, 0.0].\\\n",
    "Let's see what the output of forward pass would look like:\n"
   ]
  },
  {
   "cell_type": "code",
   "execution_count": 8,
   "metadata": {},
   "outputs": [
    {
     "name": "stdout",
     "output_type": "stream",
     "text": [
      "Input:  tf.Tensor([[1. 0. 0. 1. 0. 0. 0.]], shape=(1, 7), dtype=float32)\n",
      "hb:  tf.Tensor([0.1 0.1], shape=(2,), dtype=float32)\n",
      "w:  tf.Tensor(\n",
      "[[-0.27853963  0.05054447]\n",
      " [ 0.01998256 -0.08787408]\n",
      " [ 1.453099    2.1181679 ]\n",
      " [ 1.9370782  -1.9563025 ]\n",
      " [-0.29383084 -0.40393102]\n",
      " [-1.048912   -0.10546462]\n",
      " [-0.48307985 -0.9542352 ]], shape=(7, 2), dtype=float32)\n",
      "p(h|v):  tf.Tensor([[0.8530265  0.14115159]], shape=(1, 2), dtype=float32)\n",
      "h0 states: tf.Tensor([[0. 0.]], shape=(1, 2), dtype=float32)\n"
     ]
    }
   ],
   "source": [
    "X = tf.constant([[1.0, 0.0, 0.0, 1.0, 0.0, 0.0, 0.0]], tf.float32)\n",
    "\n",
    "v_state = X\n",
    "print (\"Input: \", v_state)\n",
    "\n",
    "h_bias = tf.constant([0.1, 0.1])\n",
    "print (\"hb: \", h_bias)\n",
    "print (\"w: \", W)\n",
    "\n",
    "# Calculate the probabilities of turning the hidden units on:\n",
    "h_prob = tf.nn.sigmoid(tf.matmul(v_state, W) + h_bias)  #probabilities of the hidden units\n",
    "print (\"p(h|v): \", h_prob)\n",
    "\n",
    "# Draw samples from the distribution:\n",
    "h_state = tf.nn.relu(tf.sign(h_prob - tf.random.uniform(tf.shape(h_prob)))) #states\n",
    "print (\"h0 states:\", h_state)"
   ]
  },
  {
   "cell_type": "markdown",
   "metadata": {},
   "source": [
    "<b>Phase 2) Backward Pass (Reconstruction):</b>\n",
    "The RBM reconstructs data by making several forward and backward passes between the visible and hidden layers.\n",
    "\n",
    "So, in the second phase (i.e. reconstruction phase), the samples from the hidden layer (i.e. $\\mathbf h$) becomes the input in the backward pass. The same weight matrix and visible layer biases are used to passed to the sigmoid function. The reproduced output is a reconstruction which is an approximation of the original input.\n"
   ]
  },
  {
   "cell_type": "code",
   "execution_count": 9,
   "metadata": {},
   "outputs": [
    {
     "name": "stdout",
     "output_type": "stream",
     "text": [
      "b:  tf.Tensor([0.1 0.2 0.1 0.1 0.1 0.2 0.1], shape=(7,), dtype=float32)\n",
      "p(vi∣h):  tf.Tensor(\n",
      "[[0.5249792  0.54983395 0.5249792  0.5249792  0.5249792  0.54983395\n",
      "  0.5249792 ]], shape=(1, 7), dtype=float32)\n",
      "v probability states:  tf.Tensor([[1. 0. 0. 1. 0. 1. 0.]], shape=(1, 7), dtype=float32)\n"
     ]
    }
   ],
   "source": [
    "vb = tf.constant([0.1, 0.2, 0.1, 0.1, 0.1, 0.2, 0.1])\n",
    "print (\"b: \", vb)\n",
    "v_prob = tf.nn.sigmoid(tf.matmul(h_state, tf.transpose(W)) + vb)\n",
    "print (\"p(vi∣h): \", v_prob)\n",
    "v_state = tf.nn.relu(tf.sign(v_prob - tf.random.uniform(tf.shape(v_prob))))\n",
    "print (\"v probability states: \", v_state)"
   ]
  },
  {
   "cell_type": "markdown",
   "metadata": {},
   "source": [
    "RBM learns a probability distribution over the input, and then, after being trained, the RBM can generate new samples from the learned probability distribution. As you know, <b>probability distribution</b>, is a mathematical function that provides the probabilities of occurrence of different possible outcomes in an experiment.\n",
    "\n",
    "The (conditional) probability distribution over the visible units v is given by\n",
    "\n",
    "$$p(\\mathbf{v} \\mid \\mathbf{h}) = \\prod\\_{i=1}^V p(v_i \\mid \\mathbf{h}),$$\n",
    "\n",
    "where,\n",
    "\n",
    "$$p(v_i \\mid \\mathbf{h}) = \\sigma\\left(\\sum\\_{j=1}^H W\\_{ji} h_j + v\\_{bias} \\right)$$\n",
    "\n",
    "so, given current state of hidden units and weights, what is the probability of generating \\[1. 0. 0. 1. 0. 0. 0.] in reconstruction phase, based on the above <b>probability distribution</b> function?\n"
   ]
  },
  {
   "cell_type": "code",
   "execution_count": 10,
   "metadata": {},
   "outputs": [
    {
     "name": "stdout",
     "output_type": "stream",
     "text": [
      "input X: [[1. 0. 0. 1. 0. 0. 0.]]\n",
      "probablity vector: [0.5249792  0.54983395 0.5249792  0.5249792  0.5249792  0.54983395\n",
      " 0.5249792 ]\n",
      "probability of generating X:  0.0059864256\n"
     ]
    }
   ],
   "source": [
    "inp = X\n",
    "print(\"input X:\" , inp.numpy())\n",
    "\n",
    "print(\"probablity vector:\" , v_prob[0].numpy())\n",
    "v_probability = 1\n",
    "\n",
    "for elm, p in zip(inp[0],v_prob[0]) :\n",
    "    if elm ==1:\n",
    "        v_probability *= p\n",
    "    else:\n",
    "        v_probability *= (1-p)\n",
    "\n",
    "print(\"probability of generating X: \" , v_probability.numpy())"
   ]
  },
  {
   "cell_type": "markdown",
   "metadata": {},
   "source": [
    "How similar are vectors $\\mathbf{x}$ and $\\mathbf{v}$? Of course, the reconstructed values most likely will not look anything like the input vector, because our network has not been trained yet. Our objective is to train the model in such a way that the input vector and reconstructed vector to be same. Therefore, based on how different the input values look to the ones that we just reconstructed, the weights are adjusted.\n"
   ]
  },
  {
   "cell_type": "markdown",
   "metadata": {},
   "source": [
    "<hr>\n"
   ]
  },
  {
   "cell_type": "markdown",
   "metadata": {},
   "source": [
    "<h2>MNIST</h2>\n"
   ]
  },
  {
   "cell_type": "markdown",
   "metadata": {},
   "source": [
    "We will be using the MNIST dataset to practice the usage of RBMs. The following cell loads the MNIST dataset.\n"
   ]
  },
  {
   "cell_type": "code",
   "execution_count": 11,
   "metadata": {},
   "outputs": [],
   "source": [
    "#loading training and test data\n",
    "mnist = tf.keras.datasets.mnist\n",
    "(trX, trY), (teX, teY) = mnist.load_data()\n",
    "\n",
    "# showing an example of the Flatten class and operation\n",
    "from tensorflow.keras.layers import Flatten\n",
    "flatten = Flatten(dtype='float32')\n",
    "trX = flatten(trX/255.0)\n",
    "trY = flatten(trY/255.0)"
   ]
  },
  {
   "cell_type": "markdown",
   "metadata": {},
   "source": [
    "Lets look at the dimension of the images.\n"
   ]
  },
  {
   "cell_type": "markdown",
   "metadata": {},
   "source": [
    "MNIST images have 784 pixels, so the visible layer must have 784 input nodes.  For our case, we'll use 50 nodes in the hidden layer, so i = 50.\n"
   ]
  },
  {
   "cell_type": "code",
   "execution_count": 12,
   "metadata": {},
   "outputs": [],
   "source": [
    "vb = tf.Variable(tf.zeros([784]), tf.float32)\n",
    "hb = tf.Variable(tf.zeros([50]), tf.float32)"
   ]
  },
  {
   "cell_type": "markdown",
   "metadata": {},
   "source": [
    "Let $\\mathbf W$ be the Tensor of 784x50 (784 - number of visible neurons, 50 - number of hidden neurons) that represents weights between the neurons.\n"
   ]
  },
  {
   "cell_type": "code",
   "execution_count": 13,
   "metadata": {},
   "outputs": [],
   "source": [
    "W = tf.Variable(tf.zeros([784,50]), tf.float32)"
   ]
  },
  {
   "cell_type": "markdown",
   "metadata": {},
   "source": [
    "Lets define the visible layer:\n"
   ]
  },
  {
   "cell_type": "code",
   "execution_count": 14,
   "metadata": {},
   "outputs": [
    {
     "data": {
      "text/plain": [
       "<tf.Tensor: shape=(1, 50), dtype=float32, numpy=\n",
       "array([[0., 0., 0., 0., 0., 0., 0., 0., 0., 0., 0., 0., 0., 0., 0., 0.,\n",
       "        0., 0., 0., 0., 0., 0., 0., 0., 0., 0., 0., 0., 0., 0., 0., 0.,\n",
       "        0., 0., 0., 0., 0., 0., 0., 0., 0., 0., 0., 0., 0., 0., 0., 0.,\n",
       "        0., 0.]], dtype=float32)>"
      ]
     },
     "execution_count": 14,
     "metadata": {},
     "output_type": "execute_result"
    }
   ],
   "source": [
    "v0_state = tf.Variable(tf.zeros([784]), tf.float32)\n",
    "\n",
    "#testing to see if the matrix product works\n",
    "tf.matmul( [v0_state], W)"
   ]
  },
  {
   "cell_type": "markdown",
   "metadata": {},
   "source": [
    "Now, we can define hidden layer:\n"
   ]
  },
  {
   "cell_type": "code",
   "execution_count": 15,
   "metadata": {},
   "outputs": [
    {
     "name": "stdout",
     "output_type": "stream",
     "text": [
      "h0_state shape:  tf.Tensor([ 1 50], shape=(2,), dtype=int32)\n",
      "first 15 hidden states:  tf.Tensor([1. 0. 0. 0. 0. 0. 0. 0. 1. 0. 0. 1. 0. 1. 0.], shape=(15,), dtype=float32)\n"
     ]
    }
   ],
   "source": [
    "#computing the hidden nodes probability vector and checking shape\n",
    "h0_prob = tf.nn.sigmoid(tf.matmul([v0_state], W) + hb)  #probabilities of the hidden units\n",
    "print(\"h0_state shape: \" , tf.shape(h0_prob))\n",
    "\n",
    "#defining a function to return only the generated hidden states \n",
    "def hidden_layer(v0_state, W, hb):\n",
    "    h0_prob = tf.nn.sigmoid(tf.matmul([v0_state], W) + hb)  #probabilities of the hidden units\n",
    "    h0_state = tf.nn.relu(tf.sign(h0_prob - tf.random.uniform(tf.shape(h0_prob)))) #sample_h_given_X\n",
    "    return h0_state\n",
    "\n",
    "\n",
    "h0_state = hidden_layer(v0_state, W, hb)\n",
    "print(\"first 15 hidden states: \", h0_state[0][0:15])"
   ]
  },
  {
   "cell_type": "markdown",
   "metadata": {},
   "source": [
    "Now, we define reconstruction part:\n"
   ]
  },
  {
   "cell_type": "code",
   "execution_count": 16,
   "metadata": {},
   "outputs": [
    {
     "name": "stdout",
     "output_type": "stream",
     "text": [
      "hidden state shape:  (1, 50)\n",
      "v0 state shape:   (784,)\n",
      "v1 state shape:   (784,)\n"
     ]
    }
   ],
   "source": [
    "def reconstructed_output(h0_state, W, vb):\n",
    "    v1_prob = tf.nn.sigmoid(tf.matmul(h0_state, tf.transpose(W)) + vb) \n",
    "    v1_state = tf.nn.relu(tf.sign(v1_prob - tf.random.uniform(tf.shape(v1_prob)))) #sample_v_given_h\n",
    "    return v1_state[0]\n",
    "\n",
    "v1_state = reconstructed_output(h0_state, W, vb)\n",
    "print(\"hidden state shape: \", h0_state.shape)\n",
    "print(\"v0 state shape:  \", v0_state.shape)\n",
    "print(\"v1 state shape:  \", v1_state.shape)"
   ]
  },
  {
   "cell_type": "markdown",
   "metadata": {},
   "source": [
    "<h3>What is the objective function?</h3>\n",
    "\n",
    "<b>Goal</b>: Maximize the likelihood of our data being drawn from that distribution\n",
    "\n",
    "<b>Calculate error:</b>\\\n",
    "In each epoch, we compute the \"error\" as a sum of the squared difference between step 1 and step n,\n",
    "e.g the error shows the difference between the data and its reconstruction.\n",
    "\n",
    "<b>Note:</b> tf.reduce_mean computes the mean of elements across dimensions of a tensor.\n"
   ]
  },
  {
   "cell_type": "code",
   "execution_count": 17,
   "metadata": {},
   "outputs": [
    {
     "name": "stdout",
     "output_type": "stream",
     "text": [
      "error 0.4987245\n"
     ]
    }
   ],
   "source": [
    "def error(v0_state, v1_state):\n",
    "    return tf.reduce_mean(tf.square(v0_state - v1_state))\n",
    "\n",
    "err = tf.reduce_mean(tf.square(v0_state - v1_state))\n",
    "print(\"error\" , err.numpy())"
   ]
  },
  {
   "cell_type": "markdown",
   "metadata": {},
   "source": [
    "<a id=\"ref4\"></a>\n",
    "\n",
    "<h3>Training the Model</h3>\n",
    "<b>Warning...</b> The following part is math-heavy, but you can skip it if you just want to run the cells in the next section.\n",
    "\n",
    "As mentioned, we want to give a high probability to the input data we train on. So, in order to train an RBM, we have to maximize the product of probabilities assigned to all rows $\\mathbf{v}$ (images) in the training set $\\mathbf{V}$ (a matrix, where each row of it is treated as a visible vector $\\mathbf{v}$)\n",
    "\n",
    "$$\\arg \\max_W \\prod\\_{\\mathbf{v}\\in\\mathbf{V}\\_T} p(\\mathbf{v})$$\n",
    "\n",
    "which is equivalent to maximizing the expectation of the log probability, given as\n",
    "\n",
    "$$\\arg\\max_W\\left\\[ \\mathbb{E} \\left(\\prod\\_{\\mathbf v\\in \\mathbf V}\\text{log} \\left(p(\\mathbf v)\\right) \\right) \\right].$$\n",
    "\n",
    "So, we have to update the weights $W\\_{ij}$  to increase $p(\\mathbf{v})$ for all $\\mathbf{v}$ in our training data during training. So we have to calculate the derivative:\n",
    "\n",
    "$$\\frac{\\partial \\log p(\\mathbf v)}{\\partial W\\_{ij}}$$\n",
    "\n",
    "This cannot be easily done by typical <b>gradient descent (SGD)</b>, so we can use another approach, which has 2 steps:\n",
    "\n",
    "<ol>\n",
    "    <li>Gibbs Sampling</li>\n",
    "    <li>Contrastive Divergence</li>\n",
    "</ol>    \n",
    "\n",
    "<h3>Gibbs Sampling</h3>   \n",
    "\n",
    "<h4>Gibbs Sampling Step 1</h4> \n",
    "Given an input vector $\\mathbf{v}$, we are using $p(\\mathbf{h}|\\mathbf{v})$ to predict the hidden values $\\mathbf{h}$. \n",
    "  $$p({h_j}|\\mathbf v)= \\sigma\\left(\\sum_{i=1}^V W_{ij} v_i + h_{bias} \\right)$$\n",
    "The samples are generated from this distribution by generating the uniform random variate vector $\\mathbf{\\xi} \\sim U[0,1]$ of length $H$ and comparing to the computed probabilities as\n",
    "\n",
    "<center>If $\\xi_j>p(h_{j}|\\mathbf{v})$, then $h_j=1$, else $h_j=0$.</center>\n",
    "\n",
    "<h4>Gibbs Sampling Step 2</h4> \n",
    "Then, knowing the hidden values, we use $p(\\mathbf v| \\mathbf h)$ for reconstructing of new input values v. \n",
    "\n",
    "$$p({v_i}|\\mathbf h)= \\sigma\\left(\\sum\\_{j=1}^H W^{T}*{ij} h_j + v*{bias} \\right)$$\n",
    "\n",
    "The samples are generated from this distribution by generating a uniform random variate vector $\\mathbf{\\xi} \\sim U\\[0,1]$ of length $V$ and comparing to the computed probabilities as\n",
    "\n",
    "<center>If $\\xi_i>p(v_{i}|\\mathbf{h})$, then $v_i=1$, else $v_i=0$.</center>\n",
    "\n",
    "Let vectors $\\mathbf v_k$ and $\\mathbf h_k$ be for the $k$th iteration.  In general, the $kth$ state is generrated as:\n",
    "\n",
    "<b>Iteration</b> $k$:\n",
    "\n",
    "$$\\mathbf v\\_{k-1} \\Rightarrow p(\\mathbf h\\_{k-1}|\\mathbf v\\_{k-1})\\Rightarrow \\mathbf h\\_{k-1}\\Rightarrow p(\\mathbf v\\_{k}|\\mathbf h\\_{k-1})\\Rightarrow \\mathbf v_k$$\n",
    "\n",
    "<h3>Contrastive Divergence (CD-k)</h3>\n",
    "The update of the weight matrix is done during the Contrastive Divergence step. \n",
    "\n",
    "Vectors v0 and vk are used to calculate the activation probabilities for hidden values h0 and hk. The difference between the outer products of those probabilities with input vectors v0 and vk results in the update matrix:\n",
    "\n",
    "$$\\Delta \\mathbf W_k =\\mathbf v_k \\otimes \\mathbf h_k - \\mathbf v\\_{k-1} \\otimes \\mathbf h\\_{k-1}$$\n",
    "\n",
    "Contrastive Divergence is actually matrix of values that is computed and used to adjust values of the $\\mathbf W$ matrix. Changing $\\mathbf W$ incrementally leads to training of the  $\\mathbf W$ values. Then, on each step (epoch), $\\mathbf W$ is updated using the following:\n",
    "\n",
    "$$\\mathbf W_k = \\mathbf W\\_{k-1} + \\alpha \\* \\Delta \\mathbf W_k$$\n",
    "\n",
    "Reconstruction steps:\n",
    "\n",
    "<ul>\n",
    "    <li> Get one data point from data set, like <i>x</i>, and pass it through the following steps:</li>\n",
    "\n",
    "<b>Iteration</b> $k=1$:\n",
    "\n",
    "Sampling (starting with input image)\n",
    "$$\\mathbf x = \\mathbf v\\_0 \\Rightarrow p(\\mathbf h\\_0|\\mathbf v\\_0)\\Rightarrow \\mathbf h\\_0 \\Rightarrow p(\\mathbf v\\_1|\\mathbf h\\_0)\\Rightarrow \\mathbf v\\_1$$\\\n",
    "followed by the CD-k step\n",
    "$$\\Delta \\mathbf W\\_1 =\\mathbf v\\_1 \\otimes \\mathbf h\\_1 - \\mathbf v\\_{0} \\otimes \\mathbf h\\_{0}$$\\\n",
    "$$\\mathbf W\\_1 = \\mathbf W\\_{0} + \\alpha \\* \\Delta \\mathbf W\\_1$$\n",
    "\n",
    "<li> $\\mathbf v_1$ is the reconstruction of $\\mathbf x$ sent to the next iteration).</li>\n",
    "\n",
    "<b>Iteration</b> $k=2$:\n",
    "\n",
    "Sampling (starting with $\\mathbf v\\_1$)\n",
    "\n",
    "$$\\mathbf v\\_1 \\Rightarrow p(\\mathbf h\\_1|\\mathbf v\\_1)\\Rightarrow \\mathbf h\\_1\\Rightarrow p(\\mathbf v\\_2|\\mathbf h\\_1)\\Rightarrow \\mathbf v\\_2$$\n",
    "\n",
    "followed by the CD-k step\n",
    "$$\\Delta \\mathbf W\\_2 =\\mathbf v\\_2 \\otimes \\mathbf h\\_2 - \\mathbf v\\_{1} \\otimes \\mathbf h\\_{1}$$\\\n",
    "$$\\mathbf W\\_2 = \\mathbf W\\_{1} + \\alpha \\* \\Delta \\mathbf W\\_2$$\n",
    "\n",
    "<li> $\\mathbf v_2$ is the reconstruction of $\\mathbf v_1$ sent to the next iteration).</li>    \n",
    "\n",
    "<b>Iteration</b> $k=K$:\n",
    "\n",
    "Sampling (starting with $\\mathbf v\\_{K-1}$)\n",
    "\n",
    "$$\\mathbf v\\_{K-1} \\Rightarrow p(\\mathbf h\\_{K-1}|\\mathbf v\\_{K-1})\\Rightarrow \\mathbf h\\_{K-1}\\Rightarrow p(\\mathbf v_K|\\mathbf h\\_{K-1})\\Rightarrow \\mathbf v_K$$\n",
    "\n",
    "followed by the CD-k step\n",
    "$$\\Delta \\mathbf W_K =\\mathbf v_K \\otimes \\mathbf h_K - \\mathbf v\\_{K-1} \\otimes \\mathbf h\\_{K-1}$$\\\n",
    "$$\\mathbf W_K = \\mathbf W\\_{K-1} + \\alpha \\* \\Delta \\mathbf W_K$$\n",
    "\n",
    "<b>What is $\\alpha$?</b>\\\n",
    "Here, alpha is some small step size, and is also known as the \"learning rate\".\n"
   ]
  },
  {
   "cell_type": "markdown",
   "metadata": {},
   "source": [
    "$K$ is adjustable, and good performance can be achieved with $K=1$, so that we just take one set of sampling steps per image.\n"
   ]
  },
  {
   "cell_type": "code",
   "execution_count": 18,
   "metadata": {},
   "outputs": [],
   "source": [
    "h1_prob = tf.nn.sigmoid(tf.matmul([v1_state], W) + hb)\n",
    "h1_state = tf.nn.relu(tf.sign(h1_prob - tf.random.uniform(tf.shape(h1_prob)))) #sample_h_given_X"
   ]
  },
  {
   "cell_type": "markdown",
   "metadata": {},
   "source": [
    "Lets look at the error of the first run:\n"
   ]
  },
  {
   "cell_type": "code",
   "execution_count": 19,
   "metadata": {},
   "outputs": [
    {
     "name": "stdout",
     "output_type": "stream",
     "text": [
      "error:  tf.Tensor(0.4987245, shape=(), dtype=float32)\n"
     ]
    }
   ],
   "source": [
    "print(\"error: \", error(v0_state, v1_state))"
   ]
  },
  {
   "cell_type": "code",
   "execution_count": 20,
   "metadata": {},
   "outputs": [
    {
     "name": "stdout",
     "output_type": "stream",
     "text": [
      "Epoch: 0 batch #: 1  of 300 sample #: 199 reconstruction error: 0.172562\n",
      "Epoch: 0 batch #: 2  of 300 sample #: 199 reconstruction error: 0.236322\n",
      "Epoch: 0 batch #: 3  of 300 sample #: 199 reconstruction error: 0.109380\n",
      "Epoch: 0 batch #: 4  of 300 sample #: 199 reconstruction error: 0.120754\n",
      "Epoch: 0 batch #: 5  of 300 sample #: 199 reconstruction error: 0.103729\n",
      "Epoch: 0 batch #: 6  of 300 sample #: 199 reconstruction error: 0.193197\n",
      "Epoch: 0 batch #: 7  of 300 sample #: 199 reconstruction error: 0.091075\n",
      "Epoch: 0 batch #: 8  of 300 sample #: 199 reconstruction error: 0.105143\n",
      "Epoch: 0 batch #: 9  of 300 sample #: 199 reconstruction error: 0.088548\n",
      "Epoch: 0 batch #: 10  of 300 sample #: 199 reconstruction error: 0.180938\n",
      "Epoch: 0 batch #: 11  of 300 sample #: 199 reconstruction error: 0.078551\n",
      "Epoch: 0 batch #: 12  of 300 sample #: 199 reconstruction error: 0.141493\n",
      "Epoch: 0 batch #: 13  of 300 sample #: 199 reconstruction error: 0.057861\n",
      "Epoch: 0 batch #: 14  of 300 sample #: 199 reconstruction error: 0.120605\n",
      "Epoch: 0 batch #: 15  of 300 sample #: 199 reconstruction error: 0.107219\n",
      "Epoch: 0 batch #: 16  of 300 sample #: 199 reconstruction error: 0.101070\n",
      "Epoch: 0 batch #: 17  of 300 sample #: 199 reconstruction error: 0.078544\n",
      "Epoch: 0 batch #: 18  of 300 sample #: 199 reconstruction error: 0.124436\n",
      "Epoch: 0 batch #: 19  of 300 sample #: 199 reconstruction error: 0.136984\n",
      "Epoch: 0 batch #: 20  of 300 sample #: 199 reconstruction error: 0.102962\n",
      "Epoch: 0 batch #: 21  of 300 sample #: 199 reconstruction error: 0.108616\n",
      "Epoch: 0 batch #: 22  of 300 sample #: 199 reconstruction error: 0.085767\n",
      "Epoch: 0 batch #: 23  of 300 sample #: 199 reconstruction error: 0.124435\n",
      "Epoch: 0 batch #: 24  of 300 sample #: 199 reconstruction error: 0.146253\n",
      "Epoch: 0 batch #: 25  of 300 sample #: 199 reconstruction error: 0.089125\n",
      "Epoch: 0 batch #: 26  of 300 sample #: 199 reconstruction error: 0.078954\n",
      "Epoch: 0 batch #: 27  of 300 sample #: 199 reconstruction error: 0.115446\n",
      "Epoch: 0 batch #: 28  of 300 sample #: 199 reconstruction error: 0.087592\n",
      "Epoch: 0 batch #: 29  of 300 sample #: 199 reconstruction error: 0.097139\n",
      "Epoch: 0 batch #: 30  of 300 sample #: 199 reconstruction error: 0.076528\n",
      "Epoch: 0 batch #: 31  of 300 sample #: 199 reconstruction error: 0.110406\n",
      "Epoch: 0 batch #: 32  of 300 sample #: 199 reconstruction error: 0.112536\n",
      "Epoch: 0 batch #: 33  of 300 sample #: 199 reconstruction error: 0.062514\n",
      "Epoch: 0 batch #: 34  of 300 sample #: 199 reconstruction error: 0.059059\n",
      "Epoch: 0 batch #: 35  of 300 sample #: 199 reconstruction error: 0.071554\n",
      "Epoch: 0 batch #: 36  of 300 sample #: 199 reconstruction error: 0.093592\n",
      "Epoch: 0 batch #: 37  of 300 sample #: 199 reconstruction error: 0.049943\n",
      "Epoch: 0 batch #: 38  of 300 sample #: 199 reconstruction error: 0.056087\n",
      "Epoch: 0 batch #: 39  of 300 sample #: 199 reconstruction error: 0.111130\n",
      "Epoch: 0 batch #: 40  of 300 sample #: 199 reconstruction error: 0.127785\n",
      "Epoch: 0 batch #: 41  of 300 sample #: 199 reconstruction error: 0.068694\n",
      "Epoch: 0 batch #: 42  of 300 sample #: 199 reconstruction error: 0.065795\n",
      "Epoch: 0 batch #: 43  of 300 sample #: 199 reconstruction error: 0.101964\n",
      "Epoch: 0 batch #: 44  of 300 sample #: 199 reconstruction error: 0.060281\n",
      "Epoch: 0 batch #: 45  of 300 sample #: 199 reconstruction error: 0.053514\n",
      "Epoch: 0 batch #: 46  of 300 sample #: 199 reconstruction error: 0.036563\n",
      "Epoch: 0 batch #: 47  of 300 sample #: 199 reconstruction error: 0.049424\n",
      "Epoch: 0 batch #: 48  of 300 sample #: 199 reconstruction error: 0.046514\n",
      "Epoch: 0 batch #: 49  of 300 sample #: 199 reconstruction error: 0.102719\n",
      "Epoch: 0 batch #: 50  of 300 sample #: 199 reconstruction error: 0.061202\n",
      "Epoch: 0 batch #: 51  of 300 sample #: 199 reconstruction error: 0.063771\n",
      "Epoch: 0 batch #: 52  of 300 sample #: 199 reconstruction error: 0.054103\n",
      "Epoch: 0 batch #: 53  of 300 sample #: 199 reconstruction error: 0.123474\n",
      "Epoch: 0 batch #: 54  of 300 sample #: 199 reconstruction error: 0.052944\n",
      "Epoch: 0 batch #: 55  of 300 sample #: 199 reconstruction error: 0.113136\n",
      "Epoch: 0 batch #: 56  of 300 sample #: 199 reconstruction error: 0.059802\n",
      "Epoch: 0 batch #: 57  of 300 sample #: 199 reconstruction error: 0.054572\n",
      "Epoch: 0 batch #: 58  of 300 sample #: 199 reconstruction error: 0.068510\n",
      "Epoch: 0 batch #: 59  of 300 sample #: 199 reconstruction error: 0.053130\n",
      "Epoch: 0 batch #: 60  of 300 sample #: 199 reconstruction error: 0.089178\n",
      "Epoch: 0 batch #: 61  of 300 sample #: 199 reconstruction error: 0.076340\n",
      "Epoch: 0 batch #: 62  of 300 sample #: 199 reconstruction error: 0.095344\n",
      "Epoch: 0 batch #: 63  of 300 sample #: 199 reconstruction error: 0.053225\n",
      "Epoch: 0 batch #: 64  of 300 sample #: 199 reconstruction error: 0.090814\n",
      "Epoch: 0 batch #: 65  of 300 sample #: 199 reconstruction error: 0.090502\n",
      "Epoch: 0 batch #: 66  of 300 sample #: 199 reconstruction error: 0.060891\n",
      "Epoch: 0 batch #: 67  of 300 sample #: 199 reconstruction error: 0.055757\n",
      "Epoch: 0 batch #: 68  of 300 sample #: 199 reconstruction error: 0.064629\n",
      "Epoch: 0 batch #: 69  of 300 sample #: 199 reconstruction error: 0.083172\n",
      "Epoch: 0 batch #: 70  of 300 sample #: 199 reconstruction error: 0.091091\n",
      "Epoch: 0 batch #: 71  of 300 sample #: 199 reconstruction error: 0.067977\n",
      "Epoch: 0 batch #: 72  of 300 sample #: 199 reconstruction error: 0.059119\n",
      "Epoch: 0 batch #: 73  of 300 sample #: 199 reconstruction error: 0.099063\n",
      "Epoch: 0 batch #: 74  of 300 sample #: 199 reconstruction error: 0.112511\n",
      "Epoch: 0 batch #: 75  of 300 sample #: 199 reconstruction error: 0.052099\n",
      "Epoch: 0 batch #: 76  of 300 sample #: 199 reconstruction error: 0.070658\n",
      "Epoch: 0 batch #: 77  of 300 sample #: 199 reconstruction error: 0.105090\n",
      "Epoch: 0 batch #: 78  of 300 sample #: 199 reconstruction error: 0.103214\n",
      "Epoch: 0 batch #: 79  of 300 sample #: 199 reconstruction error: 0.096117\n",
      "Epoch: 0 batch #: 80  of 300 sample #: 199 reconstruction error: 0.040559\n",
      "Epoch: 0 batch #: 81  of 300 sample #: 199 reconstruction error: 0.041976\n",
      "Epoch: 0 batch #: 82  of 300 sample #: 199 reconstruction error: 0.048278\n",
      "Epoch: 0 batch #: 83  of 300 sample #: 199 reconstruction error: 0.083948\n",
      "Epoch: 0 batch #: 84  of 300 sample #: 199 reconstruction error: 0.084856\n",
      "Epoch: 0 batch #: 85  of 300 sample #: 199 reconstruction error: 0.037635\n",
      "Epoch: 0 batch #: 86  of 300 sample #: 199 reconstruction error: 0.084423\n",
      "Epoch: 0 batch #: 87  of 300 sample #: 199 reconstruction error: 0.070253\n",
      "Epoch: 0 batch #: 88  of 300 sample #: 199 reconstruction error: 0.031538\n",
      "Epoch: 0 batch #: 89  of 300 sample #: 199 reconstruction error: 0.044052\n",
      "Epoch: 0 batch #: 90  of 300 sample #: 199 reconstruction error: 0.083258\n",
      "Epoch: 0 batch #: 91  of 300 sample #: 199 reconstruction error: 0.055544\n",
      "Epoch: 0 batch #: 92  of 300 sample #: 199 reconstruction error: 0.058395\n",
      "Epoch: 0 batch #: 93  of 300 sample #: 199 reconstruction error: 0.100537\n",
      "Epoch: 0 batch #: 94  of 300 sample #: 199 reconstruction error: 0.124899\n",
      "Epoch: 0 batch #: 95  of 300 sample #: 199 reconstruction error: 0.052700\n",
      "Epoch: 0 batch #: 96  of 300 sample #: 199 reconstruction error: 0.060113\n",
      "Epoch: 0 batch #: 97  of 300 sample #: 199 reconstruction error: 0.102479\n",
      "Epoch: 0 batch #: 98  of 300 sample #: 199 reconstruction error: 0.099703\n",
      "Epoch: 0 batch #: 99  of 300 sample #: 199 reconstruction error: 0.054500\n",
      "Epoch: 0 batch #: 100  of 300 sample #: 199 reconstruction error: 0.101740\n",
      "Epoch: 0 batch #: 101  of 300 sample #: 199 reconstruction error: 0.096441\n",
      "Epoch: 0 batch #: 102  of 300 sample #: 199 reconstruction error: 0.075094\n",
      "Epoch: 0 batch #: 103  of 300 sample #: 199 reconstruction error: 0.088238\n",
      "Epoch: 0 batch #: 104  of 300 sample #: 199 reconstruction error: 0.076065\n",
      "Epoch: 0 batch #: 105  of 300 sample #: 199 reconstruction error: 0.046215\n",
      "Epoch: 0 batch #: 106  of 300 sample #: 199 reconstruction error: 0.100550\n",
      "Epoch: 0 batch #: 107  of 300 sample #: 199 reconstruction error: 0.132220\n",
      "Epoch: 0 batch #: 108  of 300 sample #: 199 reconstruction error: 0.066441\n",
      "Epoch: 0 batch #: 109  of 300 sample #: 199 reconstruction error: 0.110995\n",
      "Epoch: 0 batch #: 110  of 300 sample #: 199 reconstruction error: 0.053900\n",
      "Epoch: 0 batch #: 111  of 300 sample #: 199 reconstruction error: 0.105804\n",
      "Epoch: 0 batch #: 112  of 300 sample #: 199 reconstruction error: 0.043247\n",
      "Epoch: 0 batch #: 113  of 300 sample #: 199 reconstruction error: 0.070127\n",
      "Epoch: 0 batch #: 114  of 300 sample #: 199 reconstruction error: 0.073704\n",
      "Epoch: 0 batch #: 115  of 300 sample #: 199 reconstruction error: 0.055509\n",
      "Epoch: 0 batch #: 116  of 300 sample #: 199 reconstruction error: 0.061645\n",
      "Epoch: 0 batch #: 117  of 300 sample #: 199 reconstruction error: 0.039606\n",
      "Epoch: 0 batch #: 118  of 300 sample #: 199 reconstruction error: 0.066663\n",
      "Epoch: 0 batch #: 119  of 300 sample #: 199 reconstruction error: 0.130151\n",
      "Epoch: 0 batch #: 120  of 300 sample #: 199 reconstruction error: 0.071694\n",
      "Epoch: 0 batch #: 121  of 300 sample #: 199 reconstruction error: 0.044658\n",
      "Epoch: 0 batch #: 122  of 300 sample #: 199 reconstruction error: 0.079339\n",
      "Epoch: 0 batch #: 123  of 300 sample #: 199 reconstruction error: 0.060541\n",
      "Epoch: 0 batch #: 124  of 300 sample #: 199 reconstruction error: 0.073189\n",
      "Epoch: 0 batch #: 125  of 300 sample #: 199 reconstruction error: 0.041930\n",
      "Epoch: 0 batch #: 126  of 300 sample #: 199 reconstruction error: 0.084817\n",
      "Epoch: 0 batch #: 127  of 300 sample #: 199 reconstruction error: 0.101970\n",
      "Epoch: 0 batch #: 128  of 300 sample #: 199 reconstruction error: 0.071458\n",
      "Epoch: 0 batch #: 129  of 300 sample #: 199 reconstruction error: 0.045043\n",
      "Epoch: 0 batch #: 130  of 300 sample #: 199 reconstruction error: 0.077340\n",
      "Epoch: 0 batch #: 131  of 300 sample #: 199 reconstruction error: 0.057980\n",
      "Epoch: 0 batch #: 132  of 300 sample #: 199 reconstruction error: 0.053424\n",
      "Epoch: 0 batch #: 133  of 300 sample #: 199 reconstruction error: 0.061867\n",
      "Epoch: 0 batch #: 134  of 300 sample #: 199 reconstruction error: 0.098143\n",
      "Epoch: 0 batch #: 135  of 300 sample #: 199 reconstruction error: 0.096559\n",
      "Epoch: 0 batch #: 136  of 300 sample #: 199 reconstruction error: 0.095392\n",
      "Epoch: 0 batch #: 137  of 300 sample #: 199 reconstruction error: 0.071372\n",
      "Epoch: 0 batch #: 138  of 300 sample #: 199 reconstruction error: 0.076794\n",
      "Epoch: 0 batch #: 139  of 300 sample #: 199 reconstruction error: 0.109044\n",
      "Epoch: 0 batch #: 140  of 300 sample #: 199 reconstruction error: 0.081543\n",
      "Epoch: 0 batch #: 141  of 300 sample #: 199 reconstruction error: 0.102073\n",
      "Epoch: 0 batch #: 142  of 300 sample #: 199 reconstruction error: 0.059605\n",
      "Epoch: 0 batch #: 143  of 300 sample #: 199 reconstruction error: 0.058217\n",
      "Epoch: 0 batch #: 144  of 300 sample #: 199 reconstruction error: 0.080108\n",
      "Epoch: 0 batch #: 145  of 300 sample #: 199 reconstruction error: 0.117446\n",
      "Epoch: 0 batch #: 146  of 300 sample #: 199 reconstruction error: 0.102724\n",
      "Epoch: 0 batch #: 147  of 300 sample #: 199 reconstruction error: 0.073582\n",
      "Epoch: 0 batch #: 148  of 300 sample #: 199 reconstruction error: 0.082357\n",
      "Epoch: 0 batch #: 149  of 300 sample #: 199 reconstruction error: 0.043397\n",
      "Epoch: 0 batch #: 150  of 300 sample #: 199 reconstruction error: 0.050582\n",
      "Epoch: 0 batch #: 151  of 300 sample #: 199 reconstruction error: 0.098823\n",
      "Epoch: 0 batch #: 152  of 300 sample #: 199 reconstruction error: 0.088226\n",
      "Epoch: 0 batch #: 153  of 300 sample #: 199 reconstruction error: 0.046272\n",
      "Epoch: 0 batch #: 154  of 300 sample #: 199 reconstruction error: 0.077319\n",
      "Epoch: 0 batch #: 155  of 300 sample #: 199 reconstruction error: 0.055360\n",
      "Epoch: 0 batch #: 156  of 300 sample #: 199 reconstruction error: 0.075352\n",
      "Epoch: 0 batch #: 157  of 300 sample #: 199 reconstruction error: 0.097040\n",
      "Epoch: 0 batch #: 158  of 300 sample #: 199 reconstruction error: 0.080794\n",
      "Epoch: 0 batch #: 159  of 300 sample #: 199 reconstruction error: 0.069400\n",
      "Epoch: 0 batch #: 160  of 300 sample #: 199 reconstruction error: 0.061354\n",
      "Epoch: 0 batch #: 161  of 300 sample #: 199 reconstruction error: 0.087982\n",
      "Epoch: 0 batch #: 162  of 300 sample #: 199 reconstruction error: 0.115424\n",
      "Epoch: 0 batch #: 163  of 300 sample #: 199 reconstruction error: 0.044334\n",
      "Epoch: 0 batch #: 164  of 300 sample #: 199 reconstruction error: 0.079811\n",
      "Epoch: 0 batch #: 165  of 300 sample #: 199 reconstruction error: 0.086607\n",
      "Epoch: 0 batch #: 166  of 300 sample #: 199 reconstruction error: 0.059675\n",
      "Epoch: 0 batch #: 167  of 300 sample #: 199 reconstruction error: 0.089831\n",
      "Epoch: 0 batch #: 168  of 300 sample #: 199 reconstruction error: 0.060761\n",
      "Epoch: 0 batch #: 169  of 300 sample #: 199 reconstruction error: 0.027137\n",
      "Epoch: 0 batch #: 170  of 300 sample #: 199 reconstruction error: 0.054857\n",
      "Epoch: 0 batch #: 171  of 300 sample #: 199 reconstruction error: 0.037058\n",
      "Epoch: 0 batch #: 172  of 300 sample #: 199 reconstruction error: 0.056069\n",
      "Epoch: 0 batch #: 173  of 300 sample #: 199 reconstruction error: 0.082418\n",
      "Epoch: 0 batch #: 174  of 300 sample #: 199 reconstruction error: 0.092857\n",
      "Epoch: 0 batch #: 175  of 300 sample #: 199 reconstruction error: 0.078070\n",
      "Epoch: 0 batch #: 176  of 300 sample #: 199 reconstruction error: 0.039954\n",
      "Epoch: 0 batch #: 177  of 300 sample #: 199 reconstruction error: 0.033166\n",
      "Epoch: 0 batch #: 178  of 300 sample #: 199 reconstruction error: 0.108026\n",
      "Epoch: 0 batch #: 179  of 300 sample #: 199 reconstruction error: 0.071678\n",
      "Epoch: 0 batch #: 180  of 300 sample #: 199 reconstruction error: 0.093440\n",
      "Epoch: 0 batch #: 181  of 300 sample #: 199 reconstruction error: 0.088210\n",
      "Epoch: 0 batch #: 182  of 300 sample #: 199 reconstruction error: 0.074285\n",
      "Epoch: 0 batch #: 183  of 300 sample #: 199 reconstruction error: 0.111895\n",
      "Epoch: 0 batch #: 184  of 300 sample #: 199 reconstruction error: 0.068255\n",
      "Epoch: 0 batch #: 185  of 300 sample #: 199 reconstruction error: 0.078520\n",
      "Epoch: 0 batch #: 186  of 300 sample #: 199 reconstruction error: 0.106826\n",
      "Epoch: 0 batch #: 187  of 300 sample #: 199 reconstruction error: 0.061325\n",
      "Epoch: 0 batch #: 188  of 300 sample #: 199 reconstruction error: 0.119428\n",
      "Epoch: 0 batch #: 189  of 300 sample #: 199 reconstruction error: 0.071384\n",
      "Epoch: 0 batch #: 190  of 300 sample #: 199 reconstruction error: 0.058566\n",
      "Epoch: 0 batch #: 191  of 300 sample #: 199 reconstruction error: 0.113126\n",
      "Epoch: 0 batch #: 192  of 300 sample #: 199 reconstruction error: 0.119419\n",
      "Epoch: 0 batch #: 193  of 300 sample #: 199 reconstruction error: 0.093775\n",
      "Epoch: 0 batch #: 194  of 300 sample #: 199 reconstruction error: 0.080800\n",
      "Epoch: 0 batch #: 195  of 300 sample #: 199 reconstruction error: 0.043852\n",
      "Epoch: 0 batch #: 196  of 300 sample #: 199 reconstruction error: 0.053225\n",
      "Epoch: 0 batch #: 197  of 300 sample #: 199 reconstruction error: 0.047557\n",
      "Epoch: 0 batch #: 198  of 300 sample #: 199 reconstruction error: 0.096361\n",
      "Epoch: 0 batch #: 199  of 300 sample #: 199 reconstruction error: 0.088872\n",
      "Epoch: 0 batch #: 200  of 300 sample #: 199 reconstruction error: 0.111600\n",
      "Epoch: 0 batch #: 201  of 300 sample #: 199 reconstruction error: 0.079113\n",
      "Epoch: 0 batch #: 202  of 300 sample #: 199 reconstruction error: 0.030794\n",
      "Epoch: 0 batch #: 203  of 300 sample #: 199 reconstruction error: 0.111395\n",
      "Epoch: 0 batch #: 204  of 300 sample #: 199 reconstruction error: 0.049164\n",
      "Epoch: 0 batch #: 205  of 300 sample #: 199 reconstruction error: 0.023031\n",
      "Epoch: 0 batch #: 206  of 300 sample #: 199 reconstruction error: 0.063287\n",
      "Epoch: 0 batch #: 207  of 300 sample #: 199 reconstruction error: 0.090842\n",
      "Epoch: 0 batch #: 208  of 300 sample #: 199 reconstruction error: 0.052799\n",
      "Epoch: 0 batch #: 209  of 300 sample #: 199 reconstruction error: 0.032211\n",
      "Epoch: 0 batch #: 210  of 300 sample #: 199 reconstruction error: 0.119910\n",
      "Epoch: 0 batch #: 211  of 300 sample #: 199 reconstruction error: 0.101323\n",
      "Epoch: 0 batch #: 212  of 300 sample #: 199 reconstruction error: 0.085792\n",
      "Epoch: 0 batch #: 213  of 300 sample #: 199 reconstruction error: 0.097732\n",
      "Epoch: 0 batch #: 214  of 300 sample #: 199 reconstruction error: 0.113063\n",
      "Epoch: 0 batch #: 215  of 300 sample #: 199 reconstruction error: 0.032833\n",
      "Epoch: 0 batch #: 216  of 300 sample #: 199 reconstruction error: 0.125892\n",
      "Epoch: 0 batch #: 217  of 300 sample #: 199 reconstruction error: 0.072733\n",
      "Epoch: 0 batch #: 218  of 300 sample #: 199 reconstruction error: 0.061994\n",
      "Epoch: 0 batch #: 219  of 300 sample #: 199 reconstruction error: 0.094215\n",
      "Epoch: 0 batch #: 220  of 300 sample #: 199 reconstruction error: 0.060151\n",
      "Epoch: 0 batch #: 221  of 300 sample #: 199 reconstruction error: 0.103019\n",
      "Epoch: 0 batch #: 222  of 300 sample #: 199 reconstruction error: 0.093219\n",
      "Epoch: 0 batch #: 223  of 300 sample #: 199 reconstruction error: 0.078100\n",
      "Epoch: 0 batch #: 224  of 300 sample #: 199 reconstruction error: 0.064011\n",
      "Epoch: 0 batch #: 225  of 300 sample #: 199 reconstruction error: 0.056032\n",
      "Epoch: 0 batch #: 226  of 300 sample #: 199 reconstruction error: 0.133194\n",
      "Epoch: 0 batch #: 227  of 300 sample #: 199 reconstruction error: 0.082738\n",
      "Epoch: 0 batch #: 228  of 300 sample #: 199 reconstruction error: 0.064800\n",
      "Epoch: 0 batch #: 229  of 300 sample #: 199 reconstruction error: 0.087464\n",
      "Epoch: 0 batch #: 230  of 300 sample #: 199 reconstruction error: 0.037399\n",
      "Epoch: 0 batch #: 231  of 300 sample #: 199 reconstruction error: 0.021968\n",
      "Epoch: 0 batch #: 232  of 300 sample #: 199 reconstruction error: 0.096860\n",
      "Epoch: 0 batch #: 233  of 300 sample #: 199 reconstruction error: 0.074867\n",
      "Epoch: 0 batch #: 234  of 300 sample #: 199 reconstruction error: 0.066963\n",
      "Epoch: 0 batch #: 235  of 300 sample #: 199 reconstruction error: 0.076403\n",
      "Epoch: 0 batch #: 236  of 300 sample #: 199 reconstruction error: 0.085701\n",
      "Epoch: 0 batch #: 237  of 300 sample #: 199 reconstruction error: 0.061938\n",
      "Epoch: 0 batch #: 238  of 300 sample #: 199 reconstruction error: 0.096288\n",
      "Epoch: 0 batch #: 239  of 300 sample #: 199 reconstruction error: 0.028630\n",
      "Epoch: 0 batch #: 240  of 300 sample #: 199 reconstruction error: 0.113222\n",
      "Epoch: 0 batch #: 241  of 300 sample #: 199 reconstruction error: 0.085462\n",
      "Epoch: 0 batch #: 242  of 300 sample #: 199 reconstruction error: 0.062797\n",
      "Epoch: 0 batch #: 243  of 300 sample #: 199 reconstruction error: 0.062407\n",
      "Epoch: 0 batch #: 244  of 300 sample #: 199 reconstruction error: 0.084270\n",
      "Epoch: 0 batch #: 245  of 300 sample #: 199 reconstruction error: 0.047957\n",
      "Epoch: 0 batch #: 246  of 300 sample #: 199 reconstruction error: 0.069993\n",
      "Epoch: 0 batch #: 247  of 300 sample #: 199 reconstruction error: 0.042779\n",
      "Epoch: 0 batch #: 248  of 300 sample #: 199 reconstruction error: 0.088770\n",
      "Epoch: 0 batch #: 249  of 300 sample #: 199 reconstruction error: 0.045926\n",
      "Epoch: 0 batch #: 250  of 300 sample #: 199 reconstruction error: 0.086791\n",
      "Epoch: 0 batch #: 251  of 300 sample #: 199 reconstruction error: 0.053928\n",
      "Epoch: 0 batch #: 252  of 300 sample #: 199 reconstruction error: 0.059242\n",
      "Epoch: 0 batch #: 253  of 300 sample #: 199 reconstruction error: 0.059276\n",
      "Epoch: 0 batch #: 254  of 300 sample #: 199 reconstruction error: 0.034395\n",
      "Epoch: 0 batch #: 255  of 300 sample #: 199 reconstruction error: 0.056703\n",
      "Epoch: 0 batch #: 256  of 300 sample #: 199 reconstruction error: 0.085138\n",
      "Epoch: 0 batch #: 257  of 300 sample #: 199 reconstruction error: 0.069680\n",
      "Epoch: 0 batch #: 258  of 300 sample #: 199 reconstruction error: 0.068541\n",
      "Epoch: 0 batch #: 259  of 300 sample #: 199 reconstruction error: 0.081891\n",
      "Epoch: 0 batch #: 260  of 300 sample #: 199 reconstruction error: 0.110533\n",
      "Epoch: 0 batch #: 261  of 300 sample #: 199 reconstruction error: 0.045797\n",
      "Epoch: 0 batch #: 262  of 300 sample #: 199 reconstruction error: 0.054048\n",
      "Epoch: 0 batch #: 263  of 300 sample #: 199 reconstruction error: 0.078922\n",
      "Epoch: 0 batch #: 264  of 300 sample #: 199 reconstruction error: 0.073274\n",
      "Epoch: 0 batch #: 265  of 300 sample #: 199 reconstruction error: 0.072199\n",
      "Epoch: 0 batch #: 266  of 300 sample #: 199 reconstruction error: 0.025575\n",
      "Epoch: 0 batch #: 267  of 300 sample #: 199 reconstruction error: 0.051335\n",
      "Epoch: 0 batch #: 268  of 300 sample #: 199 reconstruction error: 0.024230\n",
      "Epoch: 0 batch #: 269  of 300 sample #: 199 reconstruction error: 0.084526\n",
      "Epoch: 0 batch #: 270  of 300 sample #: 199 reconstruction error: 0.080161\n",
      "Epoch: 0 batch #: 271  of 300 sample #: 199 reconstruction error: 0.060889\n",
      "Epoch: 0 batch #: 272  of 300 sample #: 199 reconstruction error: 0.064572\n",
      "Epoch: 0 batch #: 273  of 300 sample #: 199 reconstruction error: 0.056498\n",
      "Epoch: 0 batch #: 274  of 300 sample #: 199 reconstruction error: 0.063960\n",
      "Epoch: 0 batch #: 275  of 300 sample #: 199 reconstruction error: 0.085900\n",
      "Epoch: 0 batch #: 276  of 300 sample #: 199 reconstruction error: 0.087272\n",
      "Epoch: 0 batch #: 277  of 300 sample #: 199 reconstruction error: 0.074029\n",
      "Epoch: 0 batch #: 278  of 300 sample #: 199 reconstruction error: 0.057619\n",
      "Epoch: 0 batch #: 279  of 300 sample #: 199 reconstruction error: 0.044658\n",
      "Epoch: 0 batch #: 280  of 300 sample #: 199 reconstruction error: 0.089899\n",
      "Epoch: 0 batch #: 281  of 300 sample #: 199 reconstruction error: 0.082337\n",
      "Epoch: 0 batch #: 282  of 300 sample #: 199 reconstruction error: 0.109357\n",
      "Epoch: 0 batch #: 283  of 300 sample #: 199 reconstruction error: 0.047362\n",
      "Epoch: 0 batch #: 284  of 300 sample #: 199 reconstruction error: 0.049482\n",
      "Epoch: 0 batch #: 285  of 300 sample #: 199 reconstruction error: 0.060984\n",
      "Epoch: 0 batch #: 286  of 300 sample #: 199 reconstruction error: 0.073280\n",
      "Epoch: 0 batch #: 287  of 300 sample #: 199 reconstruction error: 0.076096\n",
      "Epoch: 0 batch #: 288  of 300 sample #: 199 reconstruction error: 0.042793\n",
      "Epoch: 0 batch #: 289  of 300 sample #: 199 reconstruction error: 0.089669\n",
      "Epoch: 0 batch #: 290  of 300 sample #: 199 reconstruction error: 0.111204\n",
      "Epoch: 0 batch #: 291  of 300 sample #: 199 reconstruction error: 0.093097\n",
      "Epoch: 0 batch #: 292  of 300 sample #: 199 reconstruction error: 0.075049\n",
      "Epoch: 0 batch #: 293  of 300 sample #: 199 reconstruction error: 0.066969\n",
      "Epoch: 0 batch #: 294  of 300 sample #: 199 reconstruction error: 0.094146\n",
      "Epoch: 0 batch #: 295  of 300 sample #: 199 reconstruction error: 0.066214\n",
      "Epoch: 0 batch #: 296  of 300 sample #: 199 reconstruction error: 0.023297\n",
      "Epoch: 0 batch #: 297  of 300 sample #: 199 reconstruction error: 0.107848\n",
      "Epoch: 0 batch #: 298  of 300 sample #: 199 reconstruction error: 0.051357\n",
      "Epoch: 0 batch #: 299  of 300 sample #: 199 reconstruction error: 0.063061\n",
      "Epoch: 0 batch #: 300  of 300 sample #: 199 reconstruction error: 0.093289\n"
     ]
    }
   ],
   "source": [
    "#Parameters\n",
    "alpha = 0.01\n",
    "epochs = 1\n",
    "batchsize = 200\n",
    "weights = []\n",
    "errors = []\n",
    "batch_number = 0\n",
    "K = 1\n",
    "\n",
    "#creating datasets\n",
    "train_ds = \\\n",
    "    tf.data.Dataset.from_tensor_slices((trX, trY)).batch(batchsize)\n",
    "\n",
    "for epoch in range(epochs):\n",
    "    for batch_x, batch_y in train_ds:\n",
    "        batch_number += 1\n",
    "        for i_sample in range(batchsize):           \n",
    "            for k in range(K):\n",
    "                v0_state = batch_x[i_sample]\n",
    "                h0_state = hidden_layer(v0_state, W, hb)\n",
    "                v1_state = reconstructed_output(h0_state, W, vb)\n",
    "                h1_state = hidden_layer(v1_state, W, hb)\n",
    "\n",
    "                delta_W = tf.matmul(tf.transpose([v0_state]), h0_state) - tf.matmul(tf.transpose([v1_state]), h1_state)\n",
    "                W = W + alpha * delta_W\n",
    "\n",
    "                vb = vb + alpha * tf.reduce_mean(v0_state - v1_state, 0)\n",
    "                hb = hb + alpha * tf.reduce_mean(h0_state - h1_state, 0) \n",
    "\n",
    "                v0_state = v1_state\n",
    "\n",
    "            if i_sample == batchsize-1:\n",
    "                err = error(batch_x[i_sample], v1_state)\n",
    "                errors.append(err)\n",
    "                weights.append(W)\n",
    "                print ( 'Epoch: %d' % epoch, \n",
    "                       \"batch #: %i \" % batch_number, \"of %i\" % int(60e3/batchsize), \n",
    "                       \"sample #: %i\" % i_sample,\n",
    "                       'reconstruction error: %f' % err)\n",
    "\n"
   ]
  },
  {
   "cell_type": "markdown",
   "metadata": {},
   "source": [
    "Let's take a look at the errors at the end of each batch:\n"
   ]
  },
  {
   "cell_type": "code",
   "execution_count": 21,
   "metadata": {},
   "outputs": [
    {
     "data": {
      "image/png": "[encoded data removed]",
      "text/plain": [
       "<Figure size 432x288 with 1 Axes>"
      ]
     },
     "metadata": {
      "needs_background": "light"
     },
     "output_type": "display_data"
    }
   ],
   "source": [
    "plt.plot(errors)\n",
    "plt.xlabel(\"Batch Number\")\n",
    "plt.ylabel(\"Error\")\n",
    "plt.show()"
   ]
  },
  {
   "cell_type": "markdown",
   "metadata": {},
   "source": [
    "What is the final weight matrix $W$ after training?\n"
   ]
  },
  {
   "cell_type": "code",
   "execution_count": 22,
   "metadata": {},
   "outputs": [
    {
     "name": "stdout",
     "output_type": "stream",
     "text": [
      "[[-0.3799999  -0.5299998  -0.4899998  ... -0.28       -0.34999993\n",
      "  -0.12999998]\n",
      " [-0.30999997 -0.4899998  -0.42999986 ... -0.25000003 -0.29\n",
      "  -0.13999999]\n",
      " [-0.29       -0.44999984 -0.44999984 ... -0.18       -0.24000004\n",
      "  -0.14999999]\n",
      " ...\n",
      " [-0.25000003 -0.55999976 -0.4999998  ... -0.21000002 -0.30999997\n",
      "  -0.17      ]\n",
      " [-0.31999996 -0.4899998  -0.45999983 ... -0.27       -0.27\n",
      "  -0.16      ]\n",
      " [-0.29999998 -0.40999988 -0.4899998  ... -0.24000004 -0.28\n",
      "  -0.12999998]]\n"
     ]
    }
   ],
   "source": [
    "print(W.numpy()) # a weight matrix of shape (50,784)"
   ]
  },
  {
   "cell_type": "markdown",
   "metadata": {},
   "source": [
    "<a id=\"ref5\"></a>\n",
    "\n",
    "<h3>Learned features</h3> \n"
   ]
  },
  {
   "cell_type": "markdown",
   "metadata": {},
   "source": [
    "We can take each hidden unit and visualize the connections between that hidden unit and each element in the input vector. In our case, we have 50 hidden units. Lets visualize those.\n"
   ]
  },
  {
   "cell_type": "markdown",
   "metadata": {},
   "source": [
    "Let's plot the current weights: <b>tile_raster_images</b> helps in generating an easy to grasp image from a set of samples or weights. It transforms the <b>uw</b> (with one flattened image per row of size 784), into an array (of size $28\\times28$) in which images are reshaped and laid out like tiles on a floor.\n"
   ]
  },
  {
   "cell_type": "code",
   "execution_count": 23,
   "metadata": {},
   "outputs": [
    {
     "data": {
      "image/png": "[encoded data removed]",
      "text/plain": [
       "<Figure size 1296x1296 with 1 Axes>"
      ]
     },
     "metadata": {
      "needs_background": "light"
     },
     "output_type": "display_data"
    }
   ],
   "source": [
    "tile_raster_images(X=W.numpy().T, img_shape=(28, 28), tile_shape=(5, 10), tile_spacing=(1, 1))\n",
    "import matplotlib.pyplot as plt\n",
    "from PIL import Image\n",
    "%matplotlib inline\n",
    "image = Image.fromarray(tile_raster_images(X=W.numpy().T, img_shape=(28, 28) ,tile_shape=(5, 10), tile_spacing=(1, 1)))\n",
    "### Plot image\n",
    "plt.rcParams['figure.figsize'] = (18.0, 18.0)\n",
    "imgplot = plt.imshow(image)\n",
    "imgplot.set_cmap('gray')  "
   ]
  },
  {
   "cell_type": "markdown",
   "metadata": {},
   "source": [
    "Each tile in the above visualization corresponds to a vector of connections between a hidden unit and visible layer's units.\n"
   ]
  },
  {
   "cell_type": "markdown",
   "metadata": {},
   "source": [
    "Let's look at one of the learned weights corresponding to one of hidden units for example. In this particular square, the gray color represents weight = 0, and the whiter it is, the more positive the weights are (closer to 1). Conversely, the darker pixels are, the more negative the weights. The positive pixels will increase the probability of activation in hidden units (after multiplying by input/visible pixels), and negative pixels will decrease the probability of a unit hidden to be 1 (activated). So, why is this important?  So we can see that this specific square (hidden unit) can detect a feature (e.g. a \"/\" shape) and if it exists in the input.\n"
   ]
  },
  {
   "cell_type": "code",
   "execution_count": 24,
   "metadata": {},
   "outputs": [
    {
     "data": {
      "image/png": "[encoded data removed]",
      "text/plain": [
       "<Figure size 288x288 with 1 Axes>"
      ]
     },
     "metadata": {
      "needs_background": "light"
     },
     "output_type": "display_data"
    }
   ],
   "source": [
    "from PIL import Image\n",
    "image = Image.fromarray(tile_raster_images(X =W.numpy().T[10:11], img_shape=(28, 28),tile_shape=(1, 1), tile_spacing=(1, 1)))\n",
    "### Plot image\n",
    "plt.rcParams['figure.figsize'] = (4.0, 4.0)\n",
    "imgplot = plt.imshow(image)\n",
    "imgplot.set_cmap('gray')  "
   ]
  },
  {
   "cell_type": "markdown",
   "metadata": {},
   "source": [
    "Let's look at the reconstruction of an image now. Imagine that we have a destructed image of figure 3. Lets see if our trained network can fix it:\n",
    "\n",
    "First we plot the image:\n"
   ]
  },
  {
   "cell_type": "code",
   "execution_count": 25,
   "metadata": {},
   "outputs": [
    {
     "name": "stdout",
     "output_type": "stream",
     "text": [
      "--2021-09-28 03:13:19--  https://ibm.box.com/shared/static/vvm1b63uvuxq88vbw9znpwu5ol380mco.jpg\n",
      "Resolving ibm.box.com (ibm.box.com)... 107.152.27.197\n",
      "Connecting to ibm.box.com (ibm.box.com)|107.152.27.197|:443... connected.\n",
      "HTTP request sent, awaiting response... 301 Moved Permanently\n",
      "Location: /public/static/vvm1b63uvuxq88vbw9znpwu5ol380mco.jpg [following]\n",
      "--2021-09-28 03:13:20--  https://ibm.box.com/public/static/vvm1b63uvuxq88vbw9znpwu5ol380mco.jpg\n",
      "Reusing existing connection to ibm.box.com:443.\n",
      "HTTP request sent, awaiting response... 301 Moved Permanently\n",
      "Location: https://ibm.ent.box.com/public/static/vvm1b63uvuxq88vbw9znpwu5ol380mco.jpg [following]\n",
      "--2021-09-28 03:13:20--  https://ibm.ent.box.com/public/static/vvm1b63uvuxq88vbw9znpwu5ol380mco.jpg\n",
      "Resolving ibm.ent.box.com (ibm.ent.box.com)... 107.152.27.201\n",
      "Connecting to ibm.ent.box.com (ibm.ent.box.com)|107.152.27.201|:443... connected.\n",
      "HTTP request sent, awaiting response... 302 Found\n",
      "Location: https://public.boxcloud.com/d/1/b1!oJcpAb1F4SAz9wI409O8LbA2d-5D9P_GndnoxAVurPHdm-dTsmCXm6A96AtwSOLYG2v_BdcifKDpbn9U620bDYVj4OxDOvkk2hD8O_HkwYCNztU8sZLZqevIc4TRZNJIG7S0kzdgvbfyYvHdhY0cT0iVN3xjWNAGvCKy_7_zj89iEkFo9s5WF5S7VbRkHv854aGbiu3_BtKKw05xo50Cv3hjG04pclVPbDso0IbS4BKVR3u4WqKNUAqyqclWoPLMidPdRGmeXolb1GhpCYDM-OxXUbVoRoGxpxy7fbTHMLZf--eL6esfg4LNCQzSkIpZc7XoqpaAObkktTPbnv0U1VvER4QstW40986JVfLy-1Xf8cBBFierTGDUELHKkpuuSMRCtJ6FL0jabjNShTLuv5Z4ux3AQNU8VKpchDTQyF6oFhQPqwqvLD84pmxNGCgd9mfX6rN-cgUzCWaI3T6h9eHJjyOnZ6-y5YQTsESieTV6jYIEA_7sKTqOK0TXLtdgfgH37SPtmrCSN69romaUq2BgFOo42BMpMt-84Qu0btImxW7M234whtM9YUabjDBoXyaLS0SyDKwyMe2i2VQnlaTwEnOBWAQzKIjK8Mv1auf9L54uHMyHmsar1tL3MlEh3o8PnXGJAJZAnoBVwkWUx2RXqPBgRM9iQTjbbib7Vg-v__g3wrsrf0k2hIhCF_hOdiDT26VNlj-cFuNM0hNkK9NYJl4r1078OPn2HO5GZiI0TGX7PxJJOC0if0k7OYBNmr7JgIzNAL3zsZt84p_f9bmfjGiW8nkbWbbABsu2G4hbZ4dotJPlem1TOY-FWFbkNRuo33FYUYO7ciW5hNUc0qcly_6i_bPnXhHk7OzoaHJV5OqYTZ7djuc6Oc-vCN5C6qu0QiFY6m5hrHVsAW6mrpTHFW1R84H-lkNOyQRu74YEO5acBglYrMYtoyDTsKJzlhYaSwYhYm5Ub2r68cJpSs75AbPrW9cT6-LHguVtWRkqJIc3gQL-kLbXXjKm99wtCSQ5R2bQfLq32NLhhNcHYoyw0PqYz6e0kNlrjEefn-y1EgVlV_hvMHy1WO9UrS82qT0nr8_kKvtEsN8H9oaogRH7obhonSBV5c_GRcAr8leLdk3_4LPbxinLatta8EvUlWhKPkNRRNI7VcezpijzbVu7Lcnp9LY8XbnGXvZbZl1tLEp_m3_JAGks1JrWogIIG0HaGT_4GQJAuf2TZz5NOUirwMqW_r013I4AnqHmSvir1dLB2m0GFaav6lsmMyerJyWFF6q6JV33q39yFH0m4x8PAqk5HvMwZZrB2jCwOJQU2SxHwDaY44SfMao0mXwpnzbPfjloUAF3lBYn5JXGtFxQCzw8UoUQgtaYM7SoqiAumf3ZfVVF2vrBMzLPC4fBk4nVDWwg4fiLVQz3IsWp4kECyqcMJS9MJ7VpYNwj_98zqu0K-xrkB4yB3TboeFI./download [following]\n",
      "--2021-09-28 03:13:22--  https://public.boxcloud.com/d/1/b1!oJcpAb1F4SAz9wI409O8LbA2d-5D9P_GndnoxAVurPHdm-dTsmCXm6A96AtwSOLYG2v_BdcifKDpbn9U620bDYVj4OxDOvkk2hD8O_HkwYCNztU8sZLZqevIc4TRZNJIG7S0kzdgvbfyYvHdhY0cT0iVN3xjWNAGvCKy_7_zj89iEkFo9s5WF5S7VbRkHv854aGbiu3_BtKKw05xo50Cv3hjG04pclVPbDso0IbS4BKVR3u4WqKNUAqyqclWoPLMidPdRGmeXolb1GhpCYDM-OxXUbVoRoGxpxy7fbTHMLZf--eL6esfg4LNCQzSkIpZc7XoqpaAObkktTPbnv0U1VvER4QstW40986JVfLy-1Xf8cBBFierTGDUELHKkpuuSMRCtJ6FL0jabjNShTLuv5Z4ux3AQNU8VKpchDTQyF6oFhQPqwqvLD84pmxNGCgd9mfX6rN-cgUzCWaI3T6h9eHJjyOnZ6-y5YQTsESieTV6jYIEA_7sKTqOK0TXLtdgfgH37SPtmrCSN69romaUq2BgFOo42BMpMt-84Qu0btImxW7M234whtM9YUabjDBoXyaLS0SyDKwyMe2i2VQnlaTwEnOBWAQzKIjK8Mv1auf9L54uHMyHmsar1tL3MlEh3o8PnXGJAJZAnoBVwkWUx2RXqPBgRM9iQTjbbib7Vg-v__g3wrsrf0k2hIhCF_hOdiDT26VNlj-cFuNM0hNkK9NYJl4r1078OPn2HO5GZiI0TGX7PxJJOC0if0k7OYBNmr7JgIzNAL3zsZt84p_f9bmfjGiW8nkbWbbABsu2G4hbZ4dotJPlem1TOY-FWFbkNRuo33FYUYO7ciW5hNUc0qcly_6i_bPnXhHk7OzoaHJV5OqYTZ7djuc6Oc-vCN5C6qu0QiFY6m5hrHVsAW6mrpTHFW1R84H-lkNOyQRu74YEO5acBglYrMYtoyDTsKJzlhYaSwYhYm5Ub2r68cJpSs75AbPrW9cT6-LHguVtWRkqJIc3gQL-kLbXXjKm99wtCSQ5R2bQfLq32NLhhNcHYoyw0PqYz6e0kNlrjEefn-y1EgVlV_hvMHy1WO9UrS82qT0nr8_kKvtEsN8H9oaogRH7obhonSBV5c_GRcAr8leLdk3_4LPbxinLatta8EvUlWhKPkNRRNI7VcezpijzbVu7Lcnp9LY8XbnGXvZbZl1tLEp_m3_JAGks1JrWogIIG0HaGT_4GQJAuf2TZz5NOUirwMqW_r013I4AnqHmSvir1dLB2m0GFaav6lsmMyerJyWFF6q6JV33q39yFH0m4x8PAqk5HvMwZZrB2jCwOJQU2SxHwDaY44SfMao0mXwpnzbPfjloUAF3lBYn5JXGtFxQCzw8UoUQgtaYM7SoqiAumf3ZfVVF2vrBMzLPC4fBk4nVDWwg4fiLVQz3IsWp4kECyqcMJS9MJ7VpYNwj_98zqu0K-xrkB4yB3TboeFI./download\n",
      "Resolving public.boxcloud.com (public.boxcloud.com)... 107.152.27.200\n",
      "Connecting to public.boxcloud.com (public.boxcloud.com)|107.152.27.200|:443... connected.\n",
      "HTTP request sent, awaiting response... 200 OK\n",
      "Length: 24383 (24K) [image/jpeg]\n",
      "Saving to: ‘destructed3.jpg’\n",
      "\n",
      "destructed3.jpg     100%[===================>]  23.81K  --.-KB/s    in 0.07s   \n",
      "\n",
      "2021-09-28 03:13:23 (338 KB/s) - ‘destructed3.jpg’ saved [24383/24383]\n",
      "\n"
     ]
    },
    {
     "data": {
      "image/png": "[encoded data removed]",
      "text/plain": [
       "<PIL.JpegImagePlugin.JpegImageFile image mode=RGB size=181x181 at 0x7EFADA1387B8>"
      ]
     },
     "execution_count": 25,
     "metadata": {},
     "output_type": "execute_result"
    }
   ],
   "source": [
    "!wget -O destructed3.jpg  https://ibm.box.com/shared/static/vvm1b63uvuxq88vbw9znpwu5ol380mco.jpg\n",
    "img = Image.open('destructed3.jpg')\n",
    "img"
   ]
  },
  {
   "cell_type": "markdown",
   "metadata": {},
   "source": [
    "Now let's pass this image through the neural net:\n"
   ]
  },
  {
   "cell_type": "code",
   "execution_count": 26,
   "metadata": {},
   "outputs": [],
   "source": [
    "# convert the image to a 1d numpy array\n",
    "sample_case = np.array(img.convert('I').resize((28,28))).ravel().reshape((1, -1))/255.0\n",
    "\n",
    "sample_case = tf.cast(sample_case, dtype=tf.float32)"
   ]
  },
  {
   "cell_type": "markdown",
   "metadata": {},
   "source": [
    "Feed the sample case into the network and reconstruct the output:\n"
   ]
  },
  {
   "cell_type": "code",
   "execution_count": 27,
   "metadata": {},
   "outputs": [
    {
     "name": "stdout",
     "output_type": "stream",
     "text": [
      "Probability nodes in hidden layer: tf.Tensor(\n",
      "[[4.1048051e-07 1.0000000e+00 5.0166018e-06 7.3213917e-01 1.7112076e-02\n",
      "  5.3873336e-01 1.6119005e-06 1.0000000e+00 6.3198258e-06 9.1800249e-01\n",
      "  1.7737567e-02 9.9995291e-01 1.0946751e-02 2.5156865e-07 6.6956878e-04\n",
      "  2.3366592e-08 1.0997343e-10 1.0000000e+00 2.1565259e-03 9.9265832e-01\n",
      "  3.7493229e-01 1.0000000e+00 6.5630424e-01 6.1324259e-05 1.0000000e+00\n",
      "  9.8780836e-13 4.6606062e-13 9.5235002e-09 2.0422016e-13 9.9996072e-01\n",
      "  1.5321374e-04 4.7451176e-10 9.9986845e-01 2.2155622e-10 9.5446950e-01\n",
      "  4.7365293e-01 9.9997026e-01 1.7390341e-02 5.7015228e-09 1.8285276e-09\n",
      "  4.1585092e-13 1.0000000e+00 6.4344298e-05 9.7468829e-01 9.9998558e-01\n",
      "  5.7750475e-01 1.4877197e-01 4.8482675e-14 1.6434569e-14 2.1700752e-10]], shape=(1, 50), dtype=float32)\n",
      "activated nodes in hidden layer: tf.Tensor(\n",
      "[[0. 1. 0. 1. 0. 1. 0. 1. 0. 1. 0. 1. 0. 0. 0. 0. 0. 1. 0. 1. 0. 1. 1. 0.\n",
      "  1. 0. 0. 0. 0. 1. 0. 0. 1. 0. 1. 0. 1. 0. 0. 0. 0. 1. 0. 1. 1. 1. 0. 0.\n",
      "  0. 0.]], shape=(1, 50), dtype=float32)\n",
      "tf.Tensor(\n",
      "[[7.88062098e-05 1.16395189e-04 1.08526190e-04 1.07446409e-04\n",
      "  1.17565120e-04 9.34093914e-05 1.12955218e-04 1.26123428e-04\n",
      "  6.45211403e-05 1.02206075e-04 8.97467544e-05 9.52964328e-05\n",
      "  7.90973718e-05 1.47789717e-04 1.40666962e-04 8.22253496e-05\n",
      "  1.77174807e-04 5.78002073e-05 8.70943622e-05 1.46538019e-04\n",
      "  1.23560429e-04 1.58697367e-04 1.26093626e-04 1.12955327e-04\n",
      "  1.14090573e-04 1.46538019e-04 1.12955218e-04 1.23620033e-04\n",
      "  7.72457788e-05 6.78290962e-05 1.18746691e-04 1.09617024e-04\n",
      "  8.32114238e-05 1.22949903e-04 1.50412321e-04 5.49683500e-05\n",
      "  1.33782625e-04 1.16399853e-04 1.83343887e-04 1.03039420e-04\n",
      "  2.18719244e-04 2.61813402e-04 1.22714206e-04 1.20411532e-04\n",
      "  2.48879194e-04 2.52842903e-04 1.70797110e-04 1.61856413e-04\n",
      "  2.09003687e-04 7.84116564e-05 1.41113997e-04 1.47402287e-04\n",
      "  7.88062098e-05 1.04270919e-04 9.72214984e-05 1.11831381e-04\n",
      "  1.18746691e-04 1.31219625e-04 1.36911869e-04 7.52396591e-05\n",
      "  9.74200229e-05 8.12540675e-05 1.71363354e-04 1.80840492e-04\n",
      "  2.37256289e-04 9.24401611e-05 7.79215188e-05 2.39342589e-05\n",
      "  3.07080554e-05 1.83233333e-05 4.33777168e-05 8.71844459e-05\n",
      "  4.69096994e-05 6.29696151e-05 2.98124432e-05 2.71249501e-05\n",
      "  3.23776767e-05 1.20629222e-04 2.12877989e-04 3.37898731e-04\n",
      "  1.27166510e-04 1.15708230e-04 9.24799315e-05 1.33872032e-04\n",
      "  9.62541017e-05 1.70230865e-04 8.88712020e-05 9.70883557e-05\n",
      "  1.93059444e-04 9.56410368e-05 1.62571669e-04 1.24424696e-04\n",
      "  5.52234997e-05 6.50371730e-05 2.37241657e-05 1.57272170e-05\n",
      "  4.13124362e-05 5.48056123e-05 1.36286020e-04 4.93168831e-04\n",
      "  7.37816095e-04 7.29143620e-04 2.99364328e-04 4.23878431e-04\n",
      "  2.88486481e-04 4.91559505e-04 5.28424978e-04 3.41087580e-04\n",
      "  2.27779150e-04 1.64598227e-04 8.85824848e-05 1.14090464e-04\n",
      "  1.45107508e-04 1.05409817e-04 1.14525428e-04 1.09290930e-04\n",
      "  2.41816044e-04 2.34544277e-04 2.06828117e-04 2.36749649e-04\n",
      "  6.85004779e-05 1.80065632e-04 2.47210264e-04 2.50190496e-04\n",
      "  9.94086266e-04 3.58790159e-03 9.15127993e-03 4.87814248e-02\n",
      "  2.56550908e-02 4.29569781e-02 3.04800868e-02 4.96831536e-02\n",
      "  2.90400088e-02 1.53131485e-02 1.42703354e-02 6.82771206e-03\n",
      "  1.52185559e-03 4.86165285e-04 2.09271908e-04 1.13581744e-04\n",
      "  1.28656626e-04 1.18746691e-04 1.97857618e-04 2.20060349e-04\n",
      "  6.69986010e-04 3.11702490e-04 5.60939312e-04 7.03632832e-04\n",
      "  6.10172749e-04 1.69143081e-03 7.41457939e-03 6.25661016e-03\n",
      "  5.67244291e-02 1.79142922e-01 4.28707242e-01 6.59142852e-01\n",
      "  8.02421570e-01 7.97513604e-01 6.60108268e-01 4.54111159e-01\n",
      "  3.65164518e-01 2.89220721e-01 7.43958652e-02 6.70993030e-02\n",
      "  3.58936191e-03 1.65671110e-03 2.77370214e-04 8.66243572e-05\n",
      "  8.20224232e-05 1.50412321e-04 1.19194519e-04 3.51071358e-04\n",
      "  1.29342079e-03 1.29726529e-03 1.19206309e-03 1.04439259e-03\n",
      "  1.09535456e-03 6.16085529e-03 2.01660693e-02 1.85733467e-01\n",
      "  7.04892695e-01 9.27424431e-01 9.62326050e-01 8.97518814e-01\n",
      "  7.29184687e-01 7.52117813e-01 6.65908933e-01 6.74548805e-01\n",
      "  6.90130353e-01 3.87563288e-01 2.20680088e-01 3.38054001e-02\n",
      "  1.31143332e-02 9.32037830e-04 5.68479300e-04 2.00927258e-04\n",
      "  1.63257122e-04 1.32054090e-04 2.68012285e-04 7.60197639e-04\n",
      "  4.40421700e-03 3.50743532e-03 1.43027306e-03 3.03554535e-03\n",
      "  4.64731455e-03 3.05689573e-02 3.33535373e-01 6.85657084e-01\n",
      "  9.57754612e-01 9.66528177e-01 9.41344261e-01 8.34343672e-01\n",
      "  4.31998342e-01 3.37546080e-01 3.73794019e-01 6.67460322e-01\n",
      "  8.09355021e-01 5.01690924e-01 2.86195099e-01 3.30838263e-02\n",
      "  3.92243266e-03 8.22901726e-04 4.86463308e-04 1.34438276e-04\n",
      "  9.71682894e-05 1.38193369e-04 6.12795353e-04 1.95118785e-03\n",
      "  1.72007084e-03 9.78410244e-04 8.47816467e-04 2.75838375e-03\n",
      "  5.63052297e-03 6.82572126e-02 4.91275698e-01 8.63496780e-01\n",
      "  9.42354083e-01 8.71559858e-01 5.10391235e-01 1.88568056e-01\n",
      "  1.75084382e-01 9.21888649e-02 1.93229675e-01 6.39085114e-01\n",
      "  8.43714833e-01 7.97153234e-01 1.37319744e-01 1.83485746e-02\n",
      "  3.09434533e-03 2.57790089e-04 2.28643417e-04 1.59591436e-04\n",
      "  1.17224437e-04 2.13414431e-04 6.98655844e-04 1.34119391e-03\n",
      "  1.76987052e-03 1.30239129e-03 5.61833382e-04 1.72799826e-03\n",
      "  2.29228437e-02 6.27397597e-02 5.82730353e-01 8.43491137e-01\n",
      "  6.06439888e-01 2.32491165e-01 8.58912766e-02 9.02100205e-02\n",
      "  5.32331169e-02 1.03025943e-01 4.00695920e-01 7.89386928e-01\n",
      "  9.26679730e-01 5.54833949e-01 9.60649252e-02 7.48711824e-03\n",
      "  2.07498670e-03 4.64022160e-04 3.05593014e-04 1.72376633e-04\n",
      "  1.57177448e-04 2.81393528e-04 2.93999910e-04 8.26179981e-04\n",
      "  1.34357810e-03 5.55843115e-04 6.65754080e-04 1.22249126e-03\n",
      "  3.51824462e-02 1.85436249e-01 3.50046158e-01 3.18014085e-01\n",
      "  1.30823165e-01 1.21302456e-01 4.84037399e-02 6.73654675e-02\n",
      "  2.07899451e-01 4.21035439e-01 7.75719285e-01 8.62038732e-01\n",
      "  8.58748019e-01 3.23315948e-01 3.60070765e-02 4.26012278e-03\n",
      "  2.16138363e-03 2.72780657e-04 3.70502472e-04 1.37537718e-04\n",
      "  7.65402656e-05 2.13503838e-04 4.66674566e-04 9.97811556e-04\n",
      "  1.29118562e-03 6.36160374e-04 1.27851963e-03 4.16934490e-03\n",
      "  1.77431405e-02 5.77040017e-02 7.22534359e-02 8.63041878e-02\n",
      "  2.85621107e-01 4.95596707e-01 2.76654482e-01 4.20766056e-01\n",
      "  5.51892161e-01 6.82859838e-01 7.79496670e-01 8.13317895e-01\n",
      "  5.16342819e-01 4.79530394e-02 9.46134329e-03 3.02267075e-03\n",
      "  7.52657652e-04 5.70088625e-04 2.22116709e-04 9.35414137e-05\n",
      "  1.33186579e-04 1.43289566e-04 5.10692596e-04 7.23898411e-04\n",
      "  9.19759274e-04 6.28739595e-04 2.39613652e-03 6.39447570e-03\n",
      "  8.12581182e-03 1.47700608e-02 2.12751031e-02 1.29620194e-01\n",
      "  7.17618704e-01 7.70097971e-01 9.49810505e-01 9.22470391e-01\n",
      "  8.29760730e-01 7.51433194e-01 6.66205764e-01 5.11602700e-01\n",
      "  1.89279437e-01 7.64393508e-02 7.37461448e-03 7.37965107e-04\n",
      "  2.24471092e-04 2.64316797e-04 1.76817179e-04 1.15703704e-04\n",
      "  1.45584345e-04 1.13052971e-04 4.74780798e-04 3.32623720e-04\n",
      "  2.58332491e-03 2.55721807e-03 4.50512767e-03 5.64673543e-03\n",
      "  1.11990273e-02 1.51693821e-02 7.27100074e-02 5.01535714e-01\n",
      "  8.92299771e-01 9.85234737e-01 9.71738219e-01 8.86238098e-01\n",
      "  7.87679315e-01 8.31243753e-01 6.55443788e-01 4.29988444e-01\n",
      "  2.18605638e-01 7.99936652e-02 7.82927871e-03 9.13798809e-04\n",
      "  1.84118748e-04 3.27855349e-04 1.60664320e-04 1.22238358e-04\n",
      "  9.44334388e-05 1.07240136e-04 1.61617994e-04 1.11654401e-03\n",
      "  2.64042616e-03 7.17219710e-03 1.43325925e-02 1.24734640e-02\n",
      "  1.49738193e-02 9.16439295e-03 8.65760446e-02 3.81125391e-01\n",
      "  8.86285663e-01 9.22203243e-01 6.60575271e-01 6.94414258e-01\n",
      "  6.87622845e-01 8.60466003e-01 8.72887015e-01 6.45647466e-01\n",
      "  2.56185144e-01 3.04349363e-02 7.01525807e-03 6.35862350e-04\n",
      "  1.24186277e-04 1.66267157e-04 2.28196383e-04 8.21447029e-05\n",
      "  1.56551600e-04 1.57058239e-04 2.43663788e-04 1.01014972e-03\n",
      "  7.44268298e-03 8.30194354e-03 2.09072232e-02 2.36856341e-02\n",
      "  1.35589540e-02 1.62143409e-02 9.26088989e-02 2.16410249e-01\n",
      "  5.53225815e-01 2.13164240e-01 6.37965798e-02 7.59299994e-02\n",
      "  3.94500345e-01 7.99588323e-01 9.27338183e-01 7.09860802e-01\n",
      "  1.60703570e-01 2.81958878e-02 4.77197766e-03 6.21706247e-04\n",
      "  1.49071217e-04 2.41845846e-04 1.33901834e-04 1.01487320e-04\n",
      "  1.87575817e-04 1.08858825e-04 2.10374594e-04 3.92982364e-03\n",
      "  2.16884315e-02 2.43703127e-02 3.77219319e-02 4.27221060e-02\n",
      "  2.08887756e-02 1.42655373e-02 3.91298831e-02 6.74096942e-02\n",
      "  5.95498383e-02 1.21395290e-02 7.94875622e-03 1.38888657e-02\n",
      "  2.40127414e-01 8.67363334e-01 9.60976064e-01 7.13491321e-01\n",
      "  5.82949221e-02 1.66298449e-02 4.66746092e-03 4.01645899e-04\n",
      "  2.96324492e-04 1.45137310e-04 1.59174204e-04 1.02045953e-04\n",
      "  1.05318883e-04 1.58905983e-04 4.61965799e-04 1.17372274e-02\n",
      "  7.33281076e-02 1.02325141e-01 8.98344219e-02 5.75892627e-02\n",
      "  3.51914763e-02 2.25098729e-02 1.13685131e-02 9.72220302e-03\n",
      "  3.40947509e-03 8.00222158e-04 1.53931975e-03 1.25688016e-02\n",
      "  1.94446027e-01 7.65184402e-01 8.86050463e-01 6.63714528e-01\n",
      "  8.41571689e-02 1.97556913e-02 3.91152501e-03 1.04227662e-03\n",
      "  5.19484282e-04 1.41590834e-04 2.54064798e-04 1.31189823e-04\n",
      "  1.12332476e-04 6.46705885e-05 7.08252192e-04 2.34682262e-02\n",
      "  2.51569331e-01 2.65343428e-01 3.00209254e-01 9.89616513e-02\n",
      "  3.18824351e-02 1.38072073e-02 1.97628140e-03 4.89768386e-03\n",
      "  3.49909067e-04 4.13328409e-04 1.42818689e-03 2.74696946e-02\n",
      "  3.11452925e-01 6.79376841e-01 8.33290458e-01 4.02466029e-01\n",
      "  3.59604061e-02 8.37934017e-03 3.24180722e-03 2.42471695e-03\n",
      "  4.19527292e-04 2.14070082e-04 1.55419111e-04 6.51134469e-05\n",
      "  1.29491091e-04 9.19269223e-05 2.96285748e-03 9.06658471e-02\n",
      "  4.83829081e-01 5.77360451e-01 4.65722799e-01 2.27318347e-01\n",
      "  8.28647316e-02 5.29004335e-02 7.44667649e-03 1.87301636e-03\n",
      "  1.79180503e-03 8.62896442e-04 1.86002254e-03 5.37582338e-02\n",
      "  4.15511817e-01 6.22186601e-01 6.78352654e-01 2.31297344e-01\n",
      "  1.79777443e-02 4.92331386e-03 1.79517269e-03 1.35612488e-03\n",
      "  6.06358051e-04 3.88115644e-04 2.36243010e-04 7.74187210e-05\n",
      "  6.26141482e-05 1.52736902e-04 3.59958410e-03 1.92316473e-01\n",
      "  6.46248043e-01 6.87159538e-01 7.55303025e-01 4.77913678e-01\n",
      "  3.56753498e-01 1.27169013e-01 3.69513035e-02 8.43352079e-03\n",
      "  7.23004341e-03 2.89306045e-03 2.45674849e-02 1.90125853e-01\n",
      "  4.25056398e-01 6.02720022e-01 3.05281013e-01 5.04918396e-02\n",
      "  6.84857368e-03 2.49829888e-03 2.63613462e-03 1.03473663e-03\n",
      "  8.32557678e-04 4.52071428e-04 1.81734562e-04 7.31507389e-05\n",
      "  1.05853062e-04 1.15404509e-04 2.12284923e-03 1.58690155e-01\n",
      "  7.39589691e-01 6.72526240e-01 7.11081743e-01 6.58195794e-01\n",
      "  5.53188622e-01 2.66259968e-01 1.34158999e-01 8.04565847e-02\n",
      "  6.22717440e-02 1.18975013e-01 1.08153462e-01 2.78048545e-01\n",
      "  3.77537549e-01 3.05842757e-01 3.96591127e-02 3.14356387e-02\n",
      "  4.37253714e-03 2.08407640e-03 1.35669112e-03 2.28035450e-03\n",
      "  8.97049904e-04 7.31229782e-04 1.60217285e-04 1.33693218e-04\n",
      "  6.41728911e-05 7.75646040e-05 1.10927224e-03 5.80036044e-02\n",
      "  5.12321115e-01 7.09038138e-01 5.57106733e-01 6.66888654e-01\n",
      "  6.87483788e-01 4.48073089e-01 6.06778622e-01 6.01468801e-01\n",
      "  6.04621589e-01 6.11119986e-01 4.44785297e-01 4.10902113e-01\n",
      "  1.50711626e-01 9.92391109e-02 2.26236880e-02 1.08834803e-02\n",
      "  3.08924913e-03 1.18759274e-03 1.36500597e-03 4.31537628e-04\n",
      "  5.92350960e-04 3.79562378e-04 1.29848719e-04 1.20406592e-04\n",
      "  1.31219625e-04 1.24901533e-04 3.54468822e-04 8.42371583e-03\n",
      "  1.53866202e-01 4.72551137e-01 6.94664955e-01 6.85821295e-01\n",
      "  7.44047642e-01 8.77228498e-01 8.90675306e-01 8.61730039e-01\n",
      "  7.28860199e-01 5.52587569e-01 1.81721598e-01 1.26915008e-01\n",
      "  5.18741310e-02 3.51589918e-02 2.55600214e-02 1.11736655e-02\n",
      "  3.02496552e-03 1.24567747e-03 4.83095646e-04 5.64217567e-04\n",
      "  6.24865294e-04 1.69932842e-04 1.76787376e-04 1.21145480e-04\n",
      "  9.34093914e-05 1.08526190e-04 1.36673450e-04 6.05672598e-04\n",
      "  5.45686483e-03 7.49395192e-02 1.61396861e-01 4.02814388e-01\n",
      "  5.68046570e-01 5.86630046e-01 3.93874943e-01 4.94194448e-01\n",
      "  2.84227848e-01 5.68111241e-02 2.32936144e-02 2.86920965e-02\n",
      "  1.88868344e-02 2.43348181e-02 8.06111097e-03 4.41804528e-03\n",
      "  3.34325433e-03 1.10763311e-03 4.17560339e-04 5.08844852e-04\n",
      "  3.01033258e-04 1.02262420e-04 7.53753993e-05 1.10718720e-04\n",
      "  1.09616922e-04 6.85109335e-05 8.45734176e-05 9.22699983e-05\n",
      "  3.77863646e-04 5.21123409e-04 1.54545903e-03 3.93521786e-03\n",
      "  3.20807099e-03 1.01300180e-02 8.13058019e-03 5.89045882e-03\n",
      "  3.42804193e-03 2.74816155e-03 1.15653872e-03 1.31100416e-03\n",
      "  2.93797255e-03 2.56419182e-03 1.55943632e-03 1.73941255e-03\n",
      "  8.40395689e-04 3.20374966e-04 6.23524189e-04 2.41696835e-04\n",
      "  1.63972378e-04 9.05528432e-05 1.57237053e-04 7.27473089e-05\n",
      "  8.28467892e-05 1.14090573e-04 7.80220580e-05 1.03476646e-04\n",
      "  1.87039375e-04 3.62217426e-04 3.22371721e-04 1.39772892e-04\n",
      "  3.32742929e-04 5.64128160e-04 1.60366297e-03 1.27801299e-03\n",
      "  7.63744116e-04 1.67489052e-04 1.28746033e-04 2.70873308e-04\n",
      "  8.04364681e-04 5.28097153e-04 4.79966402e-04 4.58925962e-04\n",
      "  2.75224447e-04 2.02268362e-04 1.56909227e-04 1.05368410e-04\n",
      "  1.11813890e-04 9.75271105e-05 8.36793479e-05 1.00182304e-04\n",
      "  1.52498484e-04 1.03233382e-04 8.97467544e-05 1.35242939e-04\n",
      "  1.76995993e-04 1.09153851e-04 1.41710043e-04 2.85625458e-04\n",
      "  2.19970942e-04 4.83423471e-04 8.65221024e-04 6.18010759e-04\n",
      "  4.53561544e-04 4.52756882e-04 2.62796879e-04 2.83926725e-04\n",
      "  7.63088465e-04 4.73320484e-04 3.78996134e-04 1.57803297e-04\n",
      "  7.48043021e-05 1.14027920e-04 1.14556882e-04 1.00765457e-04\n",
      "  1.07446409e-04 5.28254532e-05 1.19940029e-04 1.28656626e-04]], shape=(1, 784), dtype=float32)\n"
     ]
    }
   ],
   "source": [
    "hh0_p = tf.nn.sigmoid(tf.matmul(sample_case, W) + hb)\n",
    "hh0_s = tf.round(hh0_p)\n",
    "\n",
    "print(\"Probability nodes in hidden layer:\" ,hh0_p)\n",
    "print(\"activated nodes in hidden layer:\" ,hh0_s)\n",
    "\n",
    "# reconstruct\n",
    "vv1_p = tf.nn.sigmoid(tf.matmul(hh0_s, tf.transpose(W)) + vb)\n",
    "\n",
    "print(vv1_p)\n",
    "#rec_prob = sess.run(vv1_p, feed_dict={ hh0_s: hh0_s_val, W: prv_w, vb: prv_vb})"
   ]
  },
  {
   "cell_type": "markdown",
   "metadata": {},
   "source": [
    "Here we plot the reconstructed image:\n"
   ]
  },
  {
   "cell_type": "code",
   "execution_count": 28,
   "metadata": {},
   "outputs": [
    {
     "data": {
      "image/png": "[encoded data removed]",
      "text/plain": [
       "<Figure size 288x288 with 1 Axes>"
      ]
     },
     "metadata": {
      "needs_background": "light"
     },
     "output_type": "display_data"
    }
   ],
   "source": [
    "img = Image.fromarray(tile_raster_images(X=vv1_p.numpy(), img_shape=(28, 28),tile_shape=(1, 1), tile_spacing=(1, 1)))\n",
    "plt.rcParams['figure.figsize'] = (4.0, 4.0)\n",
    "imgplot = plt.imshow(img)\n",
    "imgplot.set_cmap('gray') "
   ]
  },
  {
   "cell_type": "markdown",
   "metadata": {},
   "source": [
    "<hr>\n",
    "\n",
    "## Want to learn more?\n",
    "\n",
    "Also, you can use **Watson Studio** to run these notebooks faster with bigger datasets.**Watson Studio** is IBM’s leading cloud solution for data scientists, built by data scientists. With Jupyter notebooks, RStudio, Apache Spark and popular libraries pre-packaged in the cloud, **Watson Studio** enables data scientists to collaborate on their projects without having to install anything. Join the fast-growing community of **Watson Studio** users today with a free account at [Watson Studio](https://cocl.us/ML0120EN_DSX).This is the end of this lesson. Thank you for reading this notebook, and good luck on your studies.\n"
   ]
  },
  {
   "cell_type": "markdown",
   "metadata": {},
   "source": [
    "### Thanks for completing this lesson!\n",
    "\n",
    "Notebook created by: <a href = \"https://ca.linkedin.com/in/saeedaghabozorgi?utm_medium=Exinfluencer&utm_source=Exinfluencer&utm_content=000026UJ&utm_term=10006555&utm_id=NA-SkillsNetwork-Channel-SkillsNetworkCoursesIBMDeveloperSkillsNetworkDL0120ENSkillsNetwork20629446-2021-01-01\">Saeed Aghabozorgi</a>\n",
    "\n",
    "Updated to TF 2.X by  <a href=\"https://ca.linkedin.com/in/nilmeier?utm_medium=Exinfluencer&utm_source=Exinfluencer&utm_content=000026UJ&utm_term=10006555&utm_id=NA-SkillsNetwork-Channel-SkillsNetworkCoursesIBMDeveloperSkillsNetworkDL0120ENSkillsNetwork20629446-2021-01-01\"> Jerome Nilmeier</a><br />\n"
   ]
  },
  {
   "cell_type": "markdown",
   "metadata": {},
   "source": [
    "### References:\n",
    "\n",
    "[https://en.wikipedia.org/wiki/Restricted_Boltzmann_machine](https://en.wikipedia.org/wiki/Restricted_Boltzmann_machine?utm_medium=Exinfluencer&utm_source=Exinfluencer&utm_content=000026UJ&utm_term=10006555&utm_id=NA-SkillsNetwork-Channel-SkillsNetworkCoursesIBMDeveloperSkillsNetworkDL0120ENSkillsNetwork20629446-2021-01-01)\\\n",
    "[http://deeplearning.net/tutorial/rbm.html](http://deeplearning.net/tutorial/rbm.html?utm_medium=Exinfluencer&utm_source=Exinfluencer&utm_content=000026UJ&utm_term=10006555&utm_id=NA-SkillsNetwork-Channel-SkillsNetworkCoursesIBMDeveloperSkillsNetworkDL0120ENSkillsNetwork20629446-2021-01-01)\\\n",
    "[http://www.cs.utoronto.ca/\\~hinton/absps/netflixICML.pdf](http://www.cs.utoronto.ca/\\~hinton/absps/netflixICML.pdf?utm_medium=Exinfluencer&utm_source=Exinfluencer&utm_content=000026UJ&utm_term=10006555&utm_id=NA-SkillsNetwork-Channel-SkillsNetworkCoursesIBMDeveloperSkillsNetworkDL0120ENSkillsNetwork20629446-2021-01-01)<br>\n",
    "<http://imonad.com/rbm/restricted-boltzmann-machine/>\n"
   ]
  },
  {
   "cell_type": "markdown",
   "metadata": {},
   "source": [
    "<hr>\n",
    "\n",
    "Copyright © 2018 [Cognitive Class](https://cocl.us/DX0108EN_CC). This notebook and its source code are released under the terms of the [MIT License](https://bigdatauniversity.com/mit-license/?utm_medium=Exinfluencer&utm_source=Exinfluencer&utm_content=000026UJ&utm_term=10006555&utm_id=NA-SkillsNetwork-Channel-SkillsNetworkCoursesIBMDeveloperSkillsNetworkDL0120ENSkillsNetwork20629446-2021-01-01).\n"
   ]
  }
 ],
 "metadata": {
  "kernelspec": {
   "display_name": "Python",
   "language": "python",
   "name": "conda-env-python-py"
  },
  "language_info": {
   "codemirror_mode": {
    "name": "ipython",
    "version": 3
   },
   "file_extension": ".py",
   "mimetype": "text/x-python",
   "name": "python",
   "nbconvert_exporter": "python",
   "pygments_lexer": "ipython3",
   "version": "3.6.13"
  },
  "widgets": {
   "state": {},
   "version": "1.1.2"
  }
 },
 "nbformat": 4,
 "nbformat_minor": 4
}
