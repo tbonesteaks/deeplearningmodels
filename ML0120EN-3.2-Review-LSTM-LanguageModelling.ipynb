{
 "cells": [
  {
   "cell_type": "markdown",
   "metadata": {},
   "source": [
    "<a href=\"https://www.skills.network/?utm_medium=Exinfluencer&utm_source=Exinfluencer&utm_content=000026UJ&utm_term=10006555&utm_id=NA-SkillsNetwork-Channel-SkillsNetworkCoursesIBMDeveloperSkillsNetworkDL0120ENSkillsNetwork20629446-2021-01-01\"><img src=\"https://cf-courses-data.s3.us.cloud-object-storage.appdomain.cloud/IBM-DL0120ENedX/labs/Template%20for%20Instructional%20Hands-on%20Labs/images/IDSNlogo.png\" width=\"400px\" align=\"center\"></a>\n",
    "\n",
    "<h1 align=\"center\"><font size=\"5\">RECURRENT NETWORKS and LSTM IN DEEP LEARNING</font></h1>\n"
   ]
  },
  {
   "cell_type": "markdown",
   "metadata": {},
   "source": [
    "<h2>Applying Recurrent Neural Networks/LSTM for Language Modeling</h2>\n",
    "Hello and welcome to this part. In this notebook, we will go over the topic of Language Modelling, and create a Recurrent Neural Network model based on the Long Short-Term Memory unit to train and benchmark on the Penn Treebank dataset. By the end of this notebook, you should be able to understand how TensorFlow builds and executes a RNN model for Language Modelling.\n"
   ]
  },
  {
   "cell_type": "markdown",
   "metadata": {},
   "source": [
    "<h2>The Objective</h2>\n",
    "By now, you should have an understanding of how Recurrent Networks work -- a specialized model to process sequential data by keeping track of the \"state\" or context. In this notebook, we go over a TensorFlow code snippet for creating a model focused on <b>Language Modelling</b> -- a very relevant task that is the cornerstone of many different linguistic problems such as <b>Speech Recognition, Machine Translation and Image Captioning</b>. For this, we will be using the Penn Treebank dataset, which is an often-used dataset for benchmarking Language Modelling models.\n"
   ]
  },
  {
   "cell_type": "markdown",
   "metadata": {},
   "source": [
    "<h2>Table of Contents</h2>\n",
    "<ol>\n",
    "    <li><a href=\"https://#language_modelling\">What exactly is Language Modelling?</a></li>\n",
    "    <li><a href=\"https://#treebank_dataset\">The Penn Treebank dataset</a></li>\n",
    "    <li><a href=\"https://#word_embedding\">Word Embedding</a></li>\n",
    "    <li><a href=\"https://#building_lstm_model\">Building the LSTM model for Language Modeling</a></li>\n",
    "    <li><a href=\"https://#ltsm\">LTSM</a></li>\n",
    "</ol>\n",
    "<p></p>\n",
    "</div>\n",
    "<br>\n"
   ]
  },
  {
   "cell_type": "markdown",
   "metadata": {
    "button": false,
    "deletable": true,
    "new_sheet": false,
    "run_control": {
     "read_only": false
    }
   },
   "source": [
    "***\n"
   ]
  },
  {
   "cell_type": "markdown",
   "metadata": {},
   "source": [
    "<a id=\"language_modelling\"></a>\n",
    "\n",
    "<h2>What exactly is Language Modelling?</h2>\n",
    "Language Modelling, to put it simply, <b>is the task of assigning probabilities to sequences of words</b>. This means that, given a context of one or a sequence of words in the language the model was trained on, the model should provide the next most probable words or sequence of words that follows from the given sequence of words the sentence. Language Modelling is one of the most important tasks in Natural Language Processing.\n",
    "\n",
    "<img src=\"https://ibm.box.com/shared/static/1d1i5gub6wljby2vani2vzxp0xsph702.png\" width=\"1080\">\n",
    "<center><i>Example of a sentence being predicted</i></center>\n",
    "<br><br>\n",
    "In this example, one can see the predictions for the next word of a sentence, given the context \"This is an\". As you can see, this boils down to a sequential data analysis task -- you are given a word or a sequence of words (the input data), and, given the context (the state), you need to find out what is the next word (the prediction). This kind of analysis is very important for language-related tasks such as <b>Speech Recognition, Machine Translation, Image Captioning, Text Correction</b> and many other very relevant problems. \n",
    "\n",
    "<img src=\"https://ibm.box.com/shared/static/az39idf9ipfdpc5ugifpgxnydelhyf3i.png\" width=\"1080\">\n",
    "<center><i>The above example is a schema of an RNN in execution</i></center>\n",
    "<br><br>\n",
    "As the above image shows, Recurrent Network models fit this problem like a glove. Alongside LSTM and its capacity to maintain the model's state for over one thousand time steps, we have all the tools we need to undertake this problem. The goal for this notebook is to create a model that can reach <b>low levels of perplexity</b> on our desired dataset.\n",
    "\n",
    "For Language Modelling problems, <b>perplexity</b> is the way to gauge efficiency. Perplexity is simply a measure of how well a probabilistic model is able to predict its sample. A higher-level way to explain this would be saying that <b>low perplexity means a higher degree of trust in the predictions the model makes</b>. Therefore, the lower perplexity is, the better.\n"
   ]
  },
  {
   "cell_type": "markdown",
   "metadata": {},
   "source": [
    "<a id=\"treebank_dataset\"></a>\n",
    "\n",
    "<h2>The Penn Treebank dataset</h2>\n",
    "Historically, datasets big enough for Natural Language Processing are hard to come by. This is in part due to the necessity of the sentences to be broken down and tagged with a certain degree of correctness -- or else the models trained on it won't be able to be correct at all. This means that we need a <b>large amount of data, annotated by or at least corrected by humans</b>. This is, of course, not an easy task at all.\n",
    "\n",
    "The Penn Treebank, or PTB for short, is a dataset maintained by the University of Pennsylvania. It is <i>huge</i> -- there are over <b>four million and eight hundred thousand</b> annotated words in it, all corrected by humans. It is composed of many different sources, from abstracts of Department of Energy papers to texts from the Library of America. Since it is verifiably correct and of such a huge size, the Penn Treebank is commonly used as a benchmark dataset for Language Modelling.\n",
    "\n",
    "The dataset is divided in different kinds of annotations, such as Piece-of-Speech, Syntactic and Semantic skeletons. For this example, we will simply use a sample of clean, non-annotated words (with the exception of one tag --<code>\\<unk></code>\n",
    ", which is used for rare words such as uncommon proper nouns) for our model. This means that we just want to predict what the next words would be, not what they mean in context or their classes on a given sentence.\n",
    "\n",
    "<center>Example of text from the dataset we are going to use, <b>ptb.train</b></center>\n",
    "<br><br>\n",
    "\n",
    "<div class=\"alert alert-block alert-info\" style=\"margin-top: 20px\">\n",
    "    <center>the percentage of lung cancer deaths among the workers at the west <code>&lt;unk&gt;</code> mass. paper factory appears to be the highest for any asbestos workers studied in western industrialized countries he said \n",
    " the plant which is owned by <code>&lt;unk&gt;</code> & <code>&lt;unk&gt;</code> co. was under contract with <code>&lt;unk&gt;</code> to make the cigarette filters \n",
    " the finding probably will support those who argue that the U.S. should regulate the class of asbestos including <code>&lt;unk&gt;</code> more <code>&lt;unk&gt;</code> than the common kind of asbestos <code>&lt;unk&gt;</code> found in most schools and other buildings dr. <code>&lt;unk&gt;</code> said</center>\n",
    "</div>\n"
   ]
  },
  {
   "cell_type": "markdown",
   "metadata": {
    "button": false,
    "deletable": true,
    "new_sheet": false,
    "run_control": {
     "read_only": false
    }
   },
   "source": [
    "<a id=\"word_embedding\"></a>\n",
    "\n",
    "<h2>Word Embeddings</h2><br/>\n",
    "\n",
    "For better processing, in this example, we will make use of <a href=\"https://www.tensorflow.org/tutorials/word2vec/?utm_medium=Exinfluencer&utm_source=Exinfluencer&utm_content=000026UJ&utm_term=10006555&utm_id=NA-SkillsNetwork-Channel-SkillsNetworkCoursesIBMDeveloperSkillsNetworkDL0120ENSkillsNetwork20629446-2021-01-01\"><b>word embeddings</b></a>, which is <b>a way of representing sentence structures or words as n-dimensional vectors (where n is a reasonably high number, such as 200 or 500) of real numbers</b>. Basically, we will assign each word a randomly-initialized vector, and input those into the network to be processed. After a number of iterations, these vectors are expected to assume values that help the network to correctly predict what it needs to -- in our case, the probable next word in the sentence. This is shown to be a very effective task in Natural Language Processing, and is a commonplace practice. <br><br> <font size=\"4\"><strong>\n",
    "$$Vec(\"Example\") = \\[0.02, 0.00, 0.00, 0.92, 0.30, \\ldots]$$ </strong></font> <br>\n",
    "Word Embedding tends to group up similarly used words <i>reasonably</i> close together in the vectorial space. For example, if we use T-SNE (a dimensional reduction visualization algorithm) to flatten the dimensions of our vectors into a 2-dimensional space and plot these words in a 2-dimensional space, we might see something like this:\n",
    "\n",
    "<img src=\"https://ibm.box.com/shared/static/bqhc5dg879gcoabzhxra1w8rkg3od1cu.png\" width=\"800\">\n",
    "<center><i>T-SNE Mockup with clusters marked for easier visualization</i></center>\n",
    "<br><br>\n",
    "As you can see, words that are frequently used together, in place of each other, or in the same places as them tend to be grouped together -- being closer together the higher they are correlated. For example, \"None\" is pretty semantically close to \"Zero\", while a phrase that uses \"Italy\", you could probably also fit \"Germany\" in it, with little damage to the sentence structure. The vectorial \"closeness\" for similar words like this is a great indicator of a well-built model.\n",
    "\n",
    "<hr>\n"
   ]
  },
  {
   "cell_type": "markdown",
   "metadata": {
    "button": false,
    "deletable": true,
    "new_sheet": false,
    "run_control": {
     "read_only": false
    }
   },
   "source": [
    "We need to import the necessary modules for our code. We need <b><code>numpy</code></b> and <b><code>tensorflow</code></b>, obviously. Additionally, we can import directly the <b><code>tensorflow\\.models.rnn</code></b> model, which includes the function for building RNNs, and <b><code>tensorflow\\.models.rnn.ptb.reader</code></b> which is the helper module for getting the input data from the dataset we just downloaded.\n",
    "\n",
    "If you want to learn more take a look at <https://github.com/tensorflow/models/blob/master/tutorials/rnn/ptb/reader.py>\n"
   ]
  },
  {
   "cell_type": "code",
   "execution_count": 1,
   "metadata": {
    "tags": []
   },
   "outputs": [
    {
     "name": "stdout",
     "output_type": "stream",
     "text": [
      "Requirement already satisfied: tensorflow==2.2.0rc0 in /home/jupyterlab/conda/envs/python/lib/python3.6/site-packages (2.2.0rc0)\n",
      "Requirement already satisfied: tensorflow-estimator<2.2.0,>=2.1.0 in /home/jupyterlab/conda/envs/python/lib/python3.6/site-packages (from tensorflow==2.2.0rc0) (2.1.0)\n",
      "Requirement already satisfied: opt-einsum>=2.3.2 in /home/jupyterlab/conda/envs/python/lib/python3.6/site-packages (from tensorflow==2.2.0rc0) (3.3.0)\n",
      "Requirement already satisfied: scipy==1.4.1; python_version >= \"3\" in /home/jupyterlab/conda/envs/python/lib/python3.6/site-packages (from tensorflow==2.2.0rc0) (1.4.1)\n",
      "Requirement already satisfied: numpy<2.0,>=1.16.0 in /home/jupyterlab/conda/envs/python/lib/python3.6/site-packages (from tensorflow==2.2.0rc0) (1.19.5)\n",
      "Requirement already satisfied: keras-preprocessing>=1.1.0 in /home/jupyterlab/conda/envs/python/lib/python3.6/site-packages (from tensorflow==2.2.0rc0) (1.1.2)\n",
      "Requirement already satisfied: google-pasta>=0.1.8 in /home/jupyterlab/conda/envs/python/lib/python3.6/site-packages (from tensorflow==2.2.0rc0) (0.2.0)\n",
      "Requirement already satisfied: protobuf>=3.8.0 in /home/jupyterlab/conda/envs/python/lib/python3.6/site-packages (from tensorflow==2.2.0rc0) (3.17.2)\n",
      "Requirement already satisfied: six>=1.12.0 in /home/jupyterlab/conda/envs/python/lib/python3.6/site-packages (from tensorflow==2.2.0rc0) (1.15.0)\n",
      "Requirement already satisfied: tensorboard<2.2.0,>=2.1.0 in /home/jupyterlab/conda/envs/python/lib/python3.6/site-packages (from tensorflow==2.2.0rc0) (2.1.1)\n",
      "Requirement already satisfied: astunparse==1.6.3 in /home/jupyterlab/conda/envs/python/lib/python3.6/site-packages (from tensorflow==2.2.0rc0) (1.6.3)\n",
      "Requirement already satisfied: wrapt>=1.11.1 in /home/jupyterlab/conda/envs/python/lib/python3.6/site-packages (from tensorflow==2.2.0rc0) (1.12.1)\n",
      "Requirement already satisfied: h5py<2.11.0,>=2.10.0 in /home/jupyterlab/conda/envs/python/lib/python3.6/site-packages (from tensorflow==2.2.0rc0) (2.10.0)\n",
      "Requirement already satisfied: termcolor>=1.1.0 in /home/jupyterlab/conda/envs/python/lib/python3.6/site-packages (from tensorflow==2.2.0rc0) (1.1.0)\n",
      "Requirement already satisfied: gast==0.3.3 in /home/jupyterlab/conda/envs/python/lib/python3.6/site-packages (from tensorflow==2.2.0rc0) (0.3.3)\n",
      "Requirement already satisfied: absl-py>=0.7.0 in /home/jupyterlab/conda/envs/python/lib/python3.6/site-packages (from tensorflow==2.2.0rc0) (0.13.0)\n",
      "Requirement already satisfied: grpcio>=1.8.6 in /home/jupyterlab/conda/envs/python/lib/python3.6/site-packages (from tensorflow==2.2.0rc0) (1.24.3)\n",
      "Requirement already satisfied: wheel>=0.26; python_version >= \"3\" in /home/jupyterlab/conda/envs/python/lib/python3.6/site-packages (from tensorflow==2.2.0rc0) (0.36.2)\n",
      "Requirement already satisfied: werkzeug>=0.11.15 in /home/jupyterlab/conda/envs/python/lib/python3.6/site-packages (from tensorboard<2.2.0,>=2.1.0->tensorflow==2.2.0rc0) (2.0.1)\n",
      "Requirement already satisfied: markdown>=2.6.8 in /home/jupyterlab/conda/envs/python/lib/python3.6/site-packages (from tensorboard<2.2.0,>=2.1.0->tensorflow==2.2.0rc0) (3.3.4)\n",
      "Requirement already satisfied: requests<3,>=2.21.0 in /home/jupyterlab/conda/envs/python/lib/python3.6/site-packages (from tensorboard<2.2.0,>=2.1.0->tensorflow==2.2.0rc0) (2.25.1)\n",
      "Requirement already satisfied: setuptools>=41.0.0 in /home/jupyterlab/conda/envs/python/lib/python3.6/site-packages (from tensorboard<2.2.0,>=2.1.0->tensorflow==2.2.0rc0) (49.6.0.post20210108)\n",
      "Requirement already satisfied: google-auth<2,>=1.6.3 in /home/jupyterlab/conda/envs/python/lib/python3.6/site-packages (from tensorboard<2.2.0,>=2.1.0->tensorflow==2.2.0rc0) (1.35.0)\n",
      "Requirement already satisfied: google-auth-oauthlib<0.5,>=0.4.1 in /home/jupyterlab/conda/envs/python/lib/python3.6/site-packages (from tensorboard<2.2.0,>=2.1.0->tensorflow==2.2.0rc0) (0.4.6)\n",
      "Requirement already satisfied: dataclasses; python_version < \"3.7\" in /home/jupyterlab/conda/envs/python/lib/python3.6/site-packages (from werkzeug>=0.11.15->tensorboard<2.2.0,>=2.1.0->tensorflow==2.2.0rc0) (0.8)\n",
      "Requirement already satisfied: importlib-metadata; python_version < \"3.8\" in /home/jupyterlab/conda/envs/python/lib/python3.6/site-packages (from markdown>=2.6.8->tensorboard<2.2.0,>=2.1.0->tensorflow==2.2.0rc0) (4.6.1)\n",
      "Requirement already satisfied: idna<3,>=2.5 in /home/jupyterlab/conda/envs/python/lib/python3.6/site-packages (from requests<3,>=2.21.0->tensorboard<2.2.0,>=2.1.0->tensorflow==2.2.0rc0) (2.10)\n",
      "Requirement already satisfied: urllib3<1.27,>=1.21.1 in /home/jupyterlab/conda/envs/python/lib/python3.6/site-packages (from requests<3,>=2.21.0->tensorboard<2.2.0,>=2.1.0->tensorflow==2.2.0rc0) (1.26.6)\n",
      "Requirement already satisfied: certifi>=2017.4.17 in /home/jupyterlab/conda/envs/python/lib/python3.6/site-packages (from requests<3,>=2.21.0->tensorboard<2.2.0,>=2.1.0->tensorflow==2.2.0rc0) (2021.5.30)\n",
      "Requirement already satisfied: chardet<5,>=3.0.2 in /home/jupyterlab/conda/envs/python/lib/python3.6/site-packages (from requests<3,>=2.21.0->tensorboard<2.2.0,>=2.1.0->tensorflow==2.2.0rc0) (4.0.0)\n",
      "Requirement already satisfied: rsa<5,>=3.1.4; python_version >= \"3.6\" in /home/jupyterlab/conda/envs/python/lib/python3.6/site-packages (from google-auth<2,>=1.6.3->tensorboard<2.2.0,>=2.1.0->tensorflow==2.2.0rc0) (4.7.2)\n",
      "Requirement already satisfied: cachetools<5.0,>=2.0.0 in /home/jupyterlab/conda/envs/python/lib/python3.6/site-packages (from google-auth<2,>=1.6.3->tensorboard<2.2.0,>=2.1.0->tensorflow==2.2.0rc0) (4.2.2)\n",
      "Requirement already satisfied: pyasn1-modules>=0.2.1 in /home/jupyterlab/conda/envs/python/lib/python3.6/site-packages (from google-auth<2,>=1.6.3->tensorboard<2.2.0,>=2.1.0->tensorflow==2.2.0rc0) (0.2.8)\n",
      "Requirement already satisfied: requests-oauthlib>=0.7.0 in /home/jupyterlab/conda/envs/python/lib/python3.6/site-packages (from google-auth-oauthlib<0.5,>=0.4.1->tensorboard<2.2.0,>=2.1.0->tensorflow==2.2.0rc0) (1.3.0)\n",
      "Requirement already satisfied: zipp>=0.5 in /home/jupyterlab/conda/envs/python/lib/python3.6/site-packages (from importlib-metadata; python_version < \"3.8\"->markdown>=2.6.8->tensorboard<2.2.0,>=2.1.0->tensorflow==2.2.0rc0) (3.5.0)\n",
      "Requirement already satisfied: typing-extensions>=3.6.4; python_version < \"3.8\" in /home/jupyterlab/conda/envs/python/lib/python3.6/site-packages (from importlib-metadata; python_version < \"3.8\"->markdown>=2.6.8->tensorboard<2.2.0,>=2.1.0->tensorflow==2.2.0rc0) (3.10.0.0)\n",
      "Requirement already satisfied: pyasn1>=0.1.3 in /home/jupyterlab/conda/envs/python/lib/python3.6/site-packages (from rsa<5,>=3.1.4; python_version >= \"3.6\"->google-auth<2,>=1.6.3->tensorboard<2.2.0,>=2.1.0->tensorflow==2.2.0rc0) (0.4.8)\n",
      "Requirement already satisfied: oauthlib>=3.0.0 in /home/jupyterlab/conda/envs/python/lib/python3.6/site-packages (from requests-oauthlib>=0.7.0->google-auth-oauthlib<0.5,>=0.4.1->tensorboard<2.2.0,>=2.1.0->tensorflow==2.2.0rc0) (3.1.1)\n",
      "Requirement already satisfied: numpy in /home/jupyterlab/conda/envs/python/lib/python3.6/site-packages (1.19.5)\n"
     ]
    }
   ],
   "source": [
    "!pip install tensorflow==2.2.0rc0\n",
    "!pip install numpy\n"
   ]
  },
  {
   "cell_type": "code",
   "execution_count": 2,
   "metadata": {},
   "outputs": [],
   "source": [
    "import time\n",
    "import numpy as np\n",
    "import tensorflow as tf\n",
    "if not tf.__version__ == '2.2.0-rc0':\n",
    "    print(tf.__version__)\n",
    "    raise ValueError('please upgrade to TensorFlow 2.2.0-rc0, or restart your Kernel (Kernel->Restart & Clear Output)')"
   ]
  },
  {
   "cell_type": "markdown",
   "metadata": {},
   "source": [
    "IMPORTANT! => Please restart the kernel by clicking on \"Kernel\"->\"Restart and Clear Outout\" and wait until all output disapears. Then your changes are beeing picked up\n"
   ]
  },
  {
   "cell_type": "code",
   "execution_count": 3,
   "metadata": {
    "button": false,
    "deletable": true,
    "new_sheet": false,
    "run_control": {
     "read_only": false
    },
    "tags": []
   },
   "outputs": [],
   "source": [
    "!mkdir data\n",
    "!mkdir data/ptb\n",
    "!wget -q -O data/ptb/reader.py https://cf-courses-data.s3.us.cloud-object-storage.appdomain.cloud/IBMDeveloperSkillsNetwork-DL0120EN-SkillsNetwork/labs/Week3/data/ptb/reader.py\n",
    "!cp data/ptb/reader.py . \n",
    "\n"
   ]
  },
  {
   "cell_type": "code",
   "execution_count": 4,
   "metadata": {
    "tags": []
   },
   "outputs": [],
   "source": [
    "import reader"
   ]
  },
  {
   "cell_type": "markdown",
   "metadata": {
    "button": false,
    "deletable": true,
    "new_sheet": false,
    "run_control": {
     "read_only": false
    }
   },
   "source": [
    "<a id=\"building_lstm_model\"></a>\n",
    "\n",
    "<h2>Building the LSTM model for Language Modeling</h2>\n",
    "Now that we know exactly what we are doing, we can start building our model using TensorFlow. The very first thing we need to do is download and extract the <code>simple-examples</code> dataset, which can be done by executing the code cell below.\n"
   ]
  },
  {
   "cell_type": "code",
   "execution_count": 5,
   "metadata": {
    "button": false,
    "deletable": true,
    "new_sheet": false,
    "run_control": {
     "read_only": false
    },
    "tags": []
   },
   "outputs": [
    {
     "name": "stdout",
     "output_type": "stream",
     "text": [
      "--2021-09-28 01:04:28--  http://www.fit.vutbr.cz/~imikolov/rnnlm/simple-examples.tgz\n",
      "Resolving www.fit.vutbr.cz (www.fit.vutbr.cz)... 147.229.9.23, 2001:67c:1220:809::93e5:917\n",
      "Connecting to www.fit.vutbr.cz (www.fit.vutbr.cz)|147.229.9.23|:80... connected.\n",
      "HTTP request sent, awaiting response... 200 OK\n",
      "Length: 34869662 (33M) [application/x-gtar]\n",
      "Saving to: ‘simple-examples.tgz’\n",
      "\n",
      "simple-examples.tgz 100%[===================>]  33.25M  9.38MB/s    in 3.7s    \n",
      "\n",
      "2021-09-28 01:04:32 (8.90 MB/s) - ‘simple-examples.tgz’ saved [34869662/34869662]\n",
      "\n"
     ]
    }
   ],
   "source": [
    "!wget http://www.fit.vutbr.cz/~imikolov/rnnlm/simple-examples.tgz \n",
    "!tar xzf simple-examples.tgz -C data/"
   ]
  },
  {
   "cell_type": "markdown",
   "metadata": {
    "button": false,
    "deletable": true,
    "new_sheet": false,
    "run_control": {
     "read_only": false
    }
   },
   "source": [
    "Additionally, for the sake of making it easy to play around with the model's hyperparameters, we can declare them beforehand. Feel free to change these -- you will see a difference in performance each time you change those!\n"
   ]
  },
  {
   "cell_type": "code",
   "execution_count": 6,
   "metadata": {
    "button": false,
    "deletable": true,
    "new_sheet": false,
    "run_control": {
     "read_only": false
    }
   },
   "outputs": [],
   "source": [
    "#Initial weight scale\n",
    "init_scale = 0.1\n",
    "#Initial learning rate\n",
    "learning_rate = 1.0\n",
    "#Maximum permissible norm for the gradient (For gradient clipping -- another measure against Exploding Gradients)\n",
    "max_grad_norm = 5\n",
    "#The number of layers in our model\n",
    "num_layers = 2\n",
    "#The total number of recurrence steps, also known as the number of layers when our RNN is \"unfolded\"\n",
    "num_steps = 20\n",
    "#The number of processing units (neurons) in the hidden layers\n",
    "hidden_size_l1 = 256\n",
    "hidden_size_l2 = 128\n",
    "#The maximum number of epochs trained with the initial learning rate\n",
    "max_epoch_decay_lr = 4\n",
    "#The total number of epochs in training\n",
    "max_epoch = 15\n",
    "#The probability for keeping data in the Dropout Layer (This is an optimization, but is outside our scope for this notebook!)\n",
    "#At 1, we ignore the Dropout Layer wrapping.\n",
    "keep_prob = 1\n",
    "#The decay for the learning rate\n",
    "decay = 0.5\n",
    "#The size for each batch of data\n",
    "batch_size = 30\n",
    "#The size of our vocabulary\n",
    "vocab_size = 10000\n",
    "embeding_vector_size= 200\n",
    "#Training flag to separate training from testing\n",
    "is_training = 1\n",
    "#Data directory for our dataset\n",
    "data_dir = \"data/simple-examples/data/\""
   ]
  },
  {
   "cell_type": "markdown",
   "metadata": {
    "button": false,
    "new_sheet": false,
    "run_control": {
     "read_only": false
    }
   },
   "source": [
    "Some clarifications for LSTM architecture based on the arguments:\n",
    "\n",
    "Network structure:\n",
    "\n",
    "<ul>\n",
    "    <li>In this network, the number of LSTM cells are 2. To give the model more expressive power, we can add multiple layers of LSTMs to process the data. The output of the first layer will become the input of the second and so on.\n",
    "    </li>\n",
    "    <li>The recurrence steps is 20, that is, when our RNN is \"Unfolded\", the recurrence step is 20.</li>   \n",
    "    <li>the structure is like:\n",
    "        <ul>\n",
    "            <li>200 input units -> [200x200] Weight -> 200 Hidden units (first layer) -> [200x200] Weight matrix  -> 200 Hidden units (second layer) ->  [200] weight Matrix -> 200 unit output</li>\n",
    "        </ul>\n",
    "    </li>\n",
    "</ul>\n",
    "<br>\n",
    "\n",
    "Input layer:\n",
    "\n",
    "<ul>\n",
    "    <li>The network has 200 input units.</li>\n",
    "    <li>Suppose each word is represented by an embedding vector of dimensionality e=200. The input layer of each cell will have 200 linear units. These e=200 linear units are connected to each of the h=200 LSTM units in the hidden layer (assuming there is only one hidden layer, though our case has 2 layers).\n",
    "    </li>\n",
    "    <li>The input shape is [batch_size, num_steps], that is [30x20]. It will turn into [30x20x200] after embedding, and then 20x[30x200]\n",
    "    </li>\n",
    "</ul>\n",
    "<br>\n",
    "\n",
    "Hidden layer:\n",
    "\n",
    "<ul>\n",
    "    <li>Each LSTM has 200 hidden units which is equivalent to the dimensionality of the embedding words and output.</li>\n",
    "</ul>\n",
    "<br>\n"
   ]
  },
  {
   "cell_type": "markdown",
   "metadata": {
    "button": false,
    "deletable": true,
    "new_sheet": false,
    "run_control": {
     "read_only": false
    }
   },
   "source": [
    "There is a lot to be done and a ton of information to process at the same time, so go over this code slowly. It may seem complex at first, but if you try to apply what you just learned about language modelling to the code you see, you should be able to understand it.\n",
    "\n",
    "This code is adapted from the <a href=\"https://github.com/tensorflow/models?utm_medium=Exinfluencer&utm_source=Exinfluencer&utm_content=000026UJ&utm_term=10006555&utm_id=NA-SkillsNetwork-Channel-SkillsNetworkCoursesIBMDeveloperSkillsNetworkDL0120ENSkillsNetwork20629446-2021-01-01\">PTBModel</a> example bundled with the TensorFlow source code.\n",
    "\n",
    "<h3>Training data</h3>\n",
    "The story starts from data:\n",
    "<ul>\n",
    "    <li>Train data is a list of words, of size 929589, represented by numbers, e.g. [9971, 9972, 9974, 9975,...]</li>\n",
    "    <li>We read data as mini-batch of size b=30. Assume the size of each sentence is 20 words (num_steps = 20). Then it will take $$floor(\\frac{N}{b \\times h})+1=1548$$ iterations for the learner to go through all sentences once. Where N is the size of the list of words, b is batch size, and h is size of each sentence. So, the number of iterators is 1548\n",
    "    </li>\n",
    "    <li>Each batch data is read from train dataset of size 600, and shape of [30x20]</li>\n",
    "</ul>\n"
   ]
  },
  {
   "cell_type": "code",
   "execution_count": 7,
   "metadata": {
    "button": false,
    "deletable": true,
    "new_sheet": false,
    "run_control": {
     "read_only": false
    }
   },
   "outputs": [],
   "source": [
    "# Reads the data and separates it into training data, validation data and testing data\n",
    "raw_data = reader.ptb_raw_data(data_dir)\n",
    "train_data, valid_data, test_data, vocab, word_to_id = raw_data"
   ]
  },
  {
   "cell_type": "code",
   "execution_count": 8,
   "metadata": {},
   "outputs": [
    {
     "data": {
      "text/plain": [
       "929589"
      ]
     },
     "execution_count": 8,
     "metadata": {},
     "output_type": "execute_result"
    }
   ],
   "source": [
    "len(train_data)"
   ]
  },
  {
   "cell_type": "code",
   "execution_count": 9,
   "metadata": {
    "tags": []
   },
   "outputs": [
    {
     "name": "stdout",
     "output_type": "stream",
     "text": [
      "['aer', 'banknote', 'berlitz', 'calloway', 'centrust', 'cluett', 'fromstein', 'gitano', 'guterman', 'hydro-quebec', 'ipo', 'kia', 'memotec', 'mlx', 'nahb', 'punts', 'rake', 'regatta', 'rubens', 'sim', 'snack-food', 'ssangyong', 'swapo', 'wachter', '<eos>', 'pierre', '<unk>', 'N', 'years', 'old', 'will', 'join', 'the', 'board', 'as', 'a', 'nonexecutive', 'director', 'nov.', 'N', '<eos>', 'mr.', '<unk>', 'is', 'chairman', 'of', '<unk>', 'n.v.', 'the', 'dutch', 'publishing', 'group', '<eos>', 'rudolph', '<unk>', 'N', 'years', 'old', 'and', 'former', 'chairman', 'of', 'consolidated', 'gold', 'fields', 'plc', 'was', 'named', 'a', 'nonexecutive', 'director', 'of', 'this', 'british', 'industrial', 'conglomerate', '<eos>', 'a', 'form', 'of', 'asbestos', 'once', 'used', 'to', 'make', 'kent', 'cigarette', 'filters', 'has', 'caused', 'a', 'high', 'percentage', 'of', 'cancer', 'deaths', 'among', 'a', 'group', 'of']\n"
     ]
    }
   ],
   "source": [
    "def id_to_word(id_list):\n",
    "    line = []\n",
    "    for w in id_list:\n",
    "        for word, wid in word_to_id.items():\n",
    "            if wid == w:\n",
    "                line.append(word)\n",
    "    return line            \n",
    "                \n",
    "\n",
    "print(id_to_word(train_data[0:100]))"
   ]
  },
  {
   "cell_type": "markdown",
   "metadata": {
    "button": false,
    "deletable": true,
    "new_sheet": false,
    "run_control": {
     "read_only": false
    }
   },
   "source": [
    "Lets just read one mini-batch now and feed our network:\n"
   ]
  },
  {
   "cell_type": "code",
   "execution_count": 10,
   "metadata": {
    "button": false,
    "deletable": true,
    "new_sheet": false,
    "run_control": {
     "read_only": false
    }
   },
   "outputs": [],
   "source": [
    "itera = reader.ptb_iterator(train_data, batch_size, num_steps)\n",
    "first_touple = itera.__next__()\n",
    "_input_data = first_touple[0]\n",
    "_targets = first_touple[1]"
   ]
  },
  {
   "cell_type": "code",
   "execution_count": 11,
   "metadata": {
    "button": false,
    "deletable": true,
    "new_sheet": false,
    "run_control": {
     "read_only": false
    }
   },
   "outputs": [
    {
     "data": {
      "text/plain": [
       "(30, 20)"
      ]
     },
     "execution_count": 11,
     "metadata": {},
     "output_type": "execute_result"
    }
   ],
   "source": [
    "_input_data.shape"
   ]
  },
  {
   "cell_type": "code",
   "execution_count": 12,
   "metadata": {},
   "outputs": [
    {
     "data": {
      "text/plain": [
       "(30, 20)"
      ]
     },
     "execution_count": 12,
     "metadata": {},
     "output_type": "execute_result"
    }
   ],
   "source": [
    "_targets.shape"
   ]
  },
  {
   "cell_type": "markdown",
   "metadata": {
    "button": false,
    "deletable": true,
    "new_sheet": false,
    "run_control": {
     "read_only": false
    }
   },
   "source": [
    "Lets look at 3 sentences of our input x:\n"
   ]
  },
  {
   "cell_type": "code",
   "execution_count": 13,
   "metadata": {
    "button": false,
    "deletable": true,
    "new_sheet": false,
    "run_control": {
     "read_only": false
    }
   },
   "outputs": [
    {
     "data": {
      "text/plain": [
       "array([[9970, 9971, 9972, 9974, 9975, 9976, 9980, 9981, 9982, 9983, 9984,\n",
       "        9986, 9987, 9988, 9989, 9991, 9992, 9993, 9994, 9995],\n",
       "       [2654,    6,  334, 2886,    4,    1,  233,  711,  834,   11,  130,\n",
       "         123,    7,  514,    2,   63,   10,  514,    8,  605],\n",
       "       [   0, 1071,    4,    0,  185,   24,  368,   20,   31, 3109,  954,\n",
       "          12,    3,   21,    2, 2915,    2,   12,    3,   21]],\n",
       "      dtype=int32)"
      ]
     },
     "execution_count": 13,
     "metadata": {},
     "output_type": "execute_result"
    }
   ],
   "source": [
    "_input_data[0:3]"
   ]
  },
  {
   "cell_type": "code",
   "execution_count": 14,
   "metadata": {},
   "outputs": [
    {
     "name": "stdout",
     "output_type": "stream",
     "text": [
      "['aer', 'banknote', 'berlitz', 'calloway', 'centrust', 'cluett', 'fromstein', 'gitano', 'guterman', 'hydro-quebec', 'ipo', 'kia', 'memotec', 'mlx', 'nahb', 'punts', 'rake', 'regatta', 'rubens', 'sim']\n"
     ]
    }
   ],
   "source": [
    "print(id_to_word(_input_data[0,:]))"
   ]
  },
  {
   "cell_type": "markdown",
   "metadata": {
    "button": false,
    "deletable": true,
    "new_sheet": false,
    "run_control": {
     "read_only": false
    }
   },
   "source": [
    "<h3>Embeddings</h3>\n",
    "We have to convert the words in our dataset to vectors of numbers. The traditional approach is to use one-hot encoding method that is usually used for converting categorical values to numerical values. However, One-hot encoded vectors are high-dimensional, sparse and in a big dataset, computationally inefficient. So, we use word2vec approach. It is, in fact, a layer in our LSTM network, where the word IDs will be represented as a dense representation before feeding to the LSTM. \n",
    "\n",
    "The embedded vectors also get updated during the training process of the deep neural network.\n",
    "We create the embeddings for our input data. <b>embedding_vocab</b> is matrix of \\[10000x200] for all 10000 unique words.\n"
   ]
  },
  {
   "cell_type": "markdown",
   "metadata": {
    "button": false,
    "deletable": true,
    "new_sheet": false,
    "run_control": {
     "read_only": false
    }
   },
   "source": [
    "<b>embedding_lookup()</b> finds the embedded values for our batch of 30x20 words. It  goes to each row of <code>input_data</code>, and for each word in the row/sentence, finds the correspond vector in <code>embedding_dic<code>. <br>\n",
    "It creates a \\[30x20x200] tensor, so, the first element of <b>inputs</b> (the first sentence), is a matrix of 20x200, which each row of it, is vector representing a word in the sentence.\n"
   ]
  },
  {
   "cell_type": "code",
   "execution_count": 15,
   "metadata": {},
   "outputs": [],
   "source": [
    "embedding_layer = tf.keras.layers.Embedding(vocab_size, embeding_vector_size,batch_input_shape=(batch_size, num_steps),trainable=True,name=\"embedding_vocab\")  "
   ]
  },
  {
   "cell_type": "code",
   "execution_count": 16,
   "metadata": {},
   "outputs": [
    {
     "data": {
      "text/plain": [
       "<tf.Tensor: shape=(30, 20, 200), dtype=float32, numpy=\n",
       "array([[[-4.21818607e-02,  4.97864820e-02, -4.57085632e-02, ...,\n",
       "          2.81358398e-02, -4.98545282e-02,  1.30970962e-02],\n",
       "        [-2.64526736e-02,  2.40960233e-02, -3.01992297e-02, ...,\n",
       "         -2.35844254e-02, -7.65285641e-03,  2.07957365e-02],\n",
       "        [-1.52352229e-02, -2.66424902e-02,  8.04910809e-03, ...,\n",
       "          4.89934422e-02,  3.59848179e-02, -4.70009223e-02],\n",
       "        ...,\n",
       "        [ 6.18601963e-03, -3.75630744e-02,  2.89054550e-02, ...,\n",
       "          1.90277025e-03,  2.94978283e-02, -2.01254841e-02],\n",
       "        [ 1.75295137e-02,  4.95908596e-02, -3.95435803e-02, ...,\n",
       "         -1.64361112e-02, -2.81476621e-02, -2.32279189e-02],\n",
       "        [-4.13172245e-02,  1.36648156e-02, -1.92286819e-03, ...,\n",
       "         -4.77314480e-02, -2.92057879e-02,  2.00927518e-02]],\n",
       "\n",
       "       [[-3.53219621e-02,  1.17903128e-02,  3.67169864e-02, ...,\n",
       "          3.23644616e-02,  1.45545937e-02, -1.34884119e-02],\n",
       "        [-1.66762471e-02, -9.98359919e-03, -7.18798488e-03, ...,\n",
       "         -1.15786679e-02, -2.84538995e-02,  3.10733058e-02],\n",
       "        [-3.46798673e-02,  4.07235883e-02, -1.56505220e-02, ...,\n",
       "          3.97146381e-02,  2.38151439e-02, -2.84325127e-02],\n",
       "        ...,\n",
       "        [-8.92771408e-03, -2.50562672e-02, -1.48998275e-02, ...,\n",
       "         -3.29087600e-02,  1.23807192e-02,  4.21876200e-02],\n",
       "        [ 3.57380845e-02, -1.21872537e-02, -9.89412144e-03, ...,\n",
       "          9.00400802e-03, -2.81698462e-02, -9.14654881e-03],\n",
       "        [-2.76793130e-02,  2.22102068e-02, -3.57020386e-02, ...,\n",
       "         -4.85358238e-02, -1.07048377e-02, -2.15805657e-02]],\n",
       "\n",
       "       [[ 4.41890955e-03,  9.45441425e-05,  4.54008020e-02, ...,\n",
       "          2.19064988e-02,  2.49796025e-02, -2.23895665e-02],\n",
       "        [-4.90763038e-03, -3.31451669e-02,  2.80929469e-02, ...,\n",
       "          2.86575817e-02,  2.90050544e-02,  3.06315161e-02],\n",
       "        [-3.91009673e-02,  4.14500572e-02,  3.02058794e-02, ...,\n",
       "         -1.97010636e-02,  1.13082156e-02, -4.60149162e-02],\n",
       "        ...,\n",
       "        [-1.66167393e-02,  4.48558070e-02,  1.74555518e-02, ...,\n",
       "         -3.44031230e-02, -4.18911576e-02,  1.74762346e-02],\n",
       "        [ 4.00783904e-02,  7.47394562e-03,  6.22267649e-03, ...,\n",
       "         -1.44409165e-02,  4.86354493e-02,  2.72253193e-02],\n",
       "        [ 2.47284807e-02,  1.04322322e-02, -1.99174881e-02, ...,\n",
       "         -3.04212216e-02, -2.34515313e-02,  2.46026255e-02]],\n",
       "\n",
       "       ...,\n",
       "\n",
       "       [[-1.21455677e-02,  1.19012967e-02,  1.75515525e-02, ...,\n",
       "         -2.73522977e-02, -3.16208154e-02, -4.13283221e-02],\n",
       "        [ 2.24350207e-02,  1.85401700e-02,  2.78473161e-02, ...,\n",
       "         -1.51400790e-02,  1.01238377e-02,  1.87258758e-02],\n",
       "        [ 2.31230147e-02, -3.62508781e-02,  1.31551288e-02, ...,\n",
       "         -2.98347827e-02,  3.06078047e-03, -3.82329710e-02],\n",
       "        ...,\n",
       "        [ 2.69582383e-02, -3.49993482e-02,  2.93870904e-02, ...,\n",
       "          8.21489096e-03,  8.63301754e-03,  3.03202868e-03],\n",
       "        [-1.40411481e-02, -2.56525874e-02,  4.49389853e-02, ...,\n",
       "         -2.81163100e-02, -2.63129119e-02, -3.00673395e-03],\n",
       "        [-3.26513126e-03,  3.06177251e-02,  4.75707166e-02, ...,\n",
       "          4.68238033e-02, -3.01732421e-02,  2.29429267e-02]],\n",
       "\n",
       "       [[ 9.97017696e-03, -7.80506060e-03, -4.06555533e-02, ...,\n",
       "          1.86984278e-02,  4.83024456e-02,  3.19788605e-03],\n",
       "        [-4.27047163e-03, -2.38733888e-02,  4.44652177e-02, ...,\n",
       "         -5.18403202e-03, -4.57041524e-02,  4.27112840e-02],\n",
       "        [-3.91009673e-02,  4.14500572e-02,  3.02058794e-02, ...,\n",
       "         -1.97010636e-02,  1.13082156e-02, -4.60149162e-02],\n",
       "        ...,\n",
       "        [ 4.45507504e-02,  9.41575691e-03,  3.38662416e-04, ...,\n",
       "          2.46203803e-02, -8.26812908e-03,  1.02882162e-02],\n",
       "        [-1.66762471e-02, -9.98359919e-03, -7.18798488e-03, ...,\n",
       "         -1.15786679e-02, -2.84538995e-02,  3.10733058e-02],\n",
       "        [-3.93097289e-02,  4.32123877e-02,  2.34300010e-02, ...,\n",
       "          2.46660970e-02,  4.59136628e-02, -4.51839454e-02]],\n",
       "\n",
       "       [[-4.70150374e-02,  1.33604072e-02,  3.02518941e-02, ...,\n",
       "          3.38775776e-02, -1.02310888e-02,  2.05127485e-02],\n",
       "        [ 3.59422676e-02,  7.28691742e-03, -5.67745417e-04, ...,\n",
       "         -2.55308989e-02, -2.23693606e-02, -3.17676440e-02],\n",
       "        [-1.08878687e-03, -2.18588114e-03, -3.79966609e-02, ...,\n",
       "          1.78907849e-02,  1.91729777e-02, -2.43697409e-02],\n",
       "        ...,\n",
       "        [ 4.06895019e-02,  3.75846364e-02,  1.74860619e-02, ...,\n",
       "          3.98756750e-02,  4.04848494e-02,  4.37486172e-03],\n",
       "        [ 4.90475632e-02, -2.48501189e-02,  4.78949435e-02, ...,\n",
       "          3.07907499e-02,  4.10716273e-02, -3.20653915e-02],\n",
       "        [-2.16388591e-02,  2.63505615e-02,  1.50695778e-02, ...,\n",
       "         -3.97918448e-02, -9.71603394e-03,  4.65268530e-02]]],\n",
       "      dtype=float32)>"
      ]
     },
     "execution_count": 16,
     "metadata": {},
     "output_type": "execute_result"
    }
   ],
   "source": [
    "# Define where to get the data for our embeddings from\n",
    "inputs = embedding_layer(_input_data)\n",
    "inputs"
   ]
  },
  {
   "cell_type": "markdown",
   "metadata": {},
   "source": [
    "<h3>Constructing Recurrent Neural Networks</h3>\n"
   ]
  },
  {
   "cell_type": "markdown",
   "metadata": {
    "button": false,
    "deletable": true,
    "new_sheet": false,
    "run_control": {
     "read_only": false
    }
   },
   "source": [
    "In this step, we create the stacked LSTM using <b>tf.keras.layers.StackedRNNCells</b>, which is a 2 layer LSTM network:\n"
   ]
  },
  {
   "cell_type": "code",
   "execution_count": 17,
   "metadata": {},
   "outputs": [],
   "source": [
    "lstm_cell_l1 = tf.keras.layers.LSTMCell(hidden_size_l1)\n",
    "lstm_cell_l2 = tf.keras.layers.LSTMCell(hidden_size_l2)"
   ]
  },
  {
   "cell_type": "code",
   "execution_count": 18,
   "metadata": {
    "button": false,
    "deletable": true,
    "new_sheet": false,
    "run_control": {
     "read_only": false
    }
   },
   "outputs": [],
   "source": [
    "stacked_lstm = tf.keras.layers.StackedRNNCells([lstm_cell_l1, lstm_cell_l2])"
   ]
  },
  {
   "cell_type": "markdown",
   "metadata": {},
   "source": [
    "<b>tf.keras.layers.RNN</b> creates a recurrent neural network using <b>stacked_lstm</b>.\n",
    "\n",
    "The input should be a Tensor of shape: \\[batch_size, max_time, embedding_vector_size], in our case it would be (30, 20, 200)\n"
   ]
  },
  {
   "cell_type": "code",
   "execution_count": 19,
   "metadata": {},
   "outputs": [],
   "source": [
    "layer  =  tf.keras.layers.RNN(stacked_lstm,[batch_size, num_steps],return_state=False,stateful=True,trainable=True)"
   ]
  },
  {
   "cell_type": "markdown",
   "metadata": {
    "button": false,
    "deletable": true,
    "new_sheet": false,
    "run_control": {
     "read_only": false
    }
   },
   "source": [
    "Also, we initialize the states of the nework:\n",
    "\n",
    "<h4>_initial_state</h4>\n",
    "\n",
    "For each LSTM, there are 2 state matrices, c_state and m_state.  c_state and m_state represent \"Memory State\" and \"Cell State\". Each hidden layer, has a vector of size 30, which keeps the states. so, for 200 hidden units in each LSTM, we have a matrix of size \\[30x200]\n"
   ]
  },
  {
   "cell_type": "code",
   "execution_count": 20,
   "metadata": {},
   "outputs": [],
   "source": [
    "init_state = tf.Variable(tf.zeros([batch_size,embeding_vector_size]),trainable=False)"
   ]
  },
  {
   "cell_type": "code",
   "execution_count": 21,
   "metadata": {},
   "outputs": [],
   "source": [
    "layer.inital_state = init_state"
   ]
  },
  {
   "cell_type": "code",
   "execution_count": 22,
   "metadata": {},
   "outputs": [
    {
     "data": {
      "text/plain": [
       "<tf.Variable 'Variable:0' shape=(30, 200) dtype=float32, numpy=\n",
       "array([[0., 0., 0., ..., 0., 0., 0.],\n",
       "       [0., 0., 0., ..., 0., 0., 0.],\n",
       "       [0., 0., 0., ..., 0., 0., 0.],\n",
       "       ...,\n",
       "       [0., 0., 0., ..., 0., 0., 0.],\n",
       "       [0., 0., 0., ..., 0., 0., 0.],\n",
       "       [0., 0., 0., ..., 0., 0., 0.]], dtype=float32)>"
      ]
     },
     "execution_count": 22,
     "metadata": {},
     "output_type": "execute_result"
    }
   ],
   "source": [
    "layer.inital_state"
   ]
  },
  {
   "cell_type": "markdown",
   "metadata": {},
   "source": [
    "so, lets look at the outputs. The output of the stackedLSTM comes from 128 hidden_layer, and in each time step(=20), one of them get activated. we use the linear activation to map the 128 hidden layer to a \\[30X20 matrix]\n"
   ]
  },
  {
   "cell_type": "code",
   "execution_count": 23,
   "metadata": {},
   "outputs": [],
   "source": [
    "outputs = layer(inputs)"
   ]
  },
  {
   "cell_type": "code",
   "execution_count": 24,
   "metadata": {},
   "outputs": [
    {
     "data": {
      "text/plain": [
       "<tf.Tensor: shape=(30, 20, 128), dtype=float32, numpy=\n",
       "array([[[-1.6261203e-03,  9.0986298e-04, -6.2920066e-04, ...,\n",
       "         -3.7947702e-04,  1.2155267e-03, -5.6673573e-05],\n",
       "        [-2.1690275e-03,  1.3647034e-03,  2.9957080e-06, ...,\n",
       "         -1.9091967e-03,  9.5080660e-04,  6.0536218e-04],\n",
       "        [-1.6712386e-03,  1.2699919e-03,  1.2907013e-04, ...,\n",
       "         -2.0712509e-03,  5.1299547e-04,  1.5541707e-03],\n",
       "        ...,\n",
       "        [ 5.2590868e-03,  2.7492279e-03, -2.4013272e-03, ...,\n",
       "         -5.6001835e-04,  1.4961907e-03, -6.6415896e-04],\n",
       "        [ 5.2867197e-03,  4.1576680e-03, -7.4862351e-04, ...,\n",
       "         -2.5528169e-03,  1.4851858e-03, -1.2322535e-03],\n",
       "        [ 4.8988978e-03,  4.4997586e-03, -8.6038688e-04, ...,\n",
       "         -3.9267959e-03,  9.2509662e-04, -1.1482834e-03]],\n",
       "\n",
       "       [[-4.1310422e-04, -1.0483807e-03, -1.2620934e-03, ...,\n",
       "          6.1552186e-04,  3.7047119e-04, -1.8855624e-04],\n",
       "        [-1.3637209e-03, -9.6657581e-04, -1.4106529e-03, ...,\n",
       "          2.2250523e-03, -4.6079291e-05,  6.2675297e-04],\n",
       "        [-2.8736892e-03, -1.3811996e-03,  4.0288833e-05, ...,\n",
       "          9.3183707e-04, -1.4482978e-03, -1.0381079e-04],\n",
       "        ...,\n",
       "        [-2.5395686e-03,  7.0568924e-03, -5.3704414e-03, ...,\n",
       "         -1.2788274e-03, -2.4704887e-03,  3.2491954e-03],\n",
       "        [-3.8453250e-03,  8.6549157e-03, -4.7598337e-03, ...,\n",
       "          3.6659147e-04, -2.6232849e-03,  3.3806504e-03],\n",
       "        [-4.5574373e-03,  9.6803522e-03, -4.5115361e-03, ...,\n",
       "          8.3726691e-04, -2.1440969e-03,  2.8639175e-03]],\n",
       "\n",
       "       [[-4.0099869e-05,  2.5798157e-03, -1.3200581e-03, ...,\n",
       "          7.9126155e-05,  3.1483803e-05, -1.0512385e-03],\n",
       "        [-1.5751016e-04,  1.5805096e-03, -2.2703500e-03, ...,\n",
       "         -2.2345558e-03,  7.9367717e-04, -2.8772429e-03],\n",
       "        [-6.5255672e-04,  9.9071197e-04, -1.9381960e-03, ...,\n",
       "         -5.0180978e-03,  9.9908083e-04, -3.4640848e-03],\n",
       "        ...,\n",
       "        [ 1.5276029e-03, -7.7271769e-03,  5.7484321e-03, ...,\n",
       "         -7.5310967e-03,  6.3859350e-03, -4.8522516e-03],\n",
       "        [ 1.6168426e-03, -6.8094181e-03,  6.3196081e-03, ...,\n",
       "         -7.0075230e-03,  6.1977608e-03, -4.3921685e-03],\n",
       "        [ 2.6595730e-03, -7.1198526e-03,  6.2604956e-03, ...,\n",
       "         -6.3736336e-03,  6.3097430e-03, -3.3100839e-03]],\n",
       "\n",
       "       ...,\n",
       "\n",
       "       [[-3.5209820e-04,  1.1744974e-03,  3.7702080e-04, ...,\n",
       "         -1.3329409e-04,  7.1916852e-06,  6.5489684e-04],\n",
       "        [-4.2454054e-04,  7.8611996e-04, -3.3068823e-04, ...,\n",
       "         -6.7878811e-04,  7.8013359e-04,  3.5384807e-04],\n",
       "        [ 8.3081890e-05, -1.1805884e-03, -1.1790177e-03, ...,\n",
       "         -1.5127002e-03,  2.1439116e-03,  9.5038826e-04],\n",
       "        ...,\n",
       "        [-1.2964251e-03, -5.7298415e-03,  5.1445547e-03, ...,\n",
       "         -4.9211010e-03,  3.3337879e-03,  5.8389157e-03],\n",
       "        [-1.9037351e-03, -5.8378084e-03,  7.0089614e-03, ...,\n",
       "         -5.8123735e-03,  3.5988803e-03,  5.3305309e-03],\n",
       "        [-3.3639874e-03, -5.7682940e-03,  6.4120069e-03, ...,\n",
       "         -5.4637631e-03,  2.3816053e-03,  3.9148368e-03]],\n",
       "\n",
       "       [[-7.1660010e-04,  9.1839407e-04, -1.2719844e-03, ...,\n",
       "          1.5489964e-03, -6.6841935e-04, -9.2920853e-04],\n",
       "        [-3.1264333e-04, -1.7639500e-04, -2.8980451e-03, ...,\n",
       "          2.9049041e-03, -1.4746789e-03, -2.3098979e-03],\n",
       "        [-5.8852456e-04, -5.5239850e-04, -3.3112839e-03, ...,\n",
       "          2.0020511e-03, -1.5533107e-03, -2.9465798e-03],\n",
       "        ...,\n",
       "        [ 1.8079189e-03,  1.3797786e-03,  1.5907536e-03, ...,\n",
       "          5.2128867e-03, -2.5771258e-03,  5.0856415e-03],\n",
       "        [ 3.0209374e-04,  1.3191743e-03,  2.4627231e-03, ...,\n",
       "          7.6585989e-03, -3.0424108e-03,  7.1356767e-03],\n",
       "        [-7.2268787e-04,  1.2439381e-03,  2.5537966e-03, ...,\n",
       "          8.7329345e-03, -1.8598845e-03,  6.2640058e-03]],\n",
       "\n",
       "       [[-1.2195033e-03, -1.2784183e-03, -6.1110762e-04, ...,\n",
       "         -1.1502496e-03, -3.3748109e-04,  2.5285597e-04],\n",
       "        [-1.6444416e-03, -4.1499161e-04,  1.8749935e-04, ...,\n",
       "         -1.4981992e-03, -1.6466716e-04,  4.7808173e-04],\n",
       "        [-1.1692452e-03,  1.0984534e-03,  8.3198008e-04, ...,\n",
       "         -6.5013877e-04,  2.3572879e-04,  1.0661350e-03],\n",
       "        ...,\n",
       "        [-5.6345118e-03,  5.0892555e-03,  1.9251312e-04, ...,\n",
       "          6.0396222e-04,  7.4765710e-03,  1.0450134e-03],\n",
       "        [-4.3091970e-03,  7.4066324e-03, -1.2795418e-04, ...,\n",
       "         -8.0115296e-04,  7.3087113e-03, -4.1353263e-04],\n",
       "        [-3.0287569e-03,  7.8493180e-03, -6.0241442e-04, ...,\n",
       "         -3.0470430e-03,  8.1902072e-03, -4.4426799e-04]]], dtype=float32)>"
      ]
     },
     "execution_count": 24,
     "metadata": {},
     "output_type": "execute_result"
    }
   ],
   "source": [
    "outputs"
   ]
  },
  {
   "cell_type": "markdown",
   "metadata": {
    "button": false,
    "deletable": true,
    "new_sheet": false,
    "run_control": {
     "read_only": false
    }
   },
   "source": [
    "<h2>Dense layer</h2>\n",
    "We now create densely-connected neural network layer that would reshape the outputs tensor from  [30 x 20 x 128] to [30 x 20 x 10000].\n"
   ]
  },
  {
   "cell_type": "code",
   "execution_count": 25,
   "metadata": {},
   "outputs": [],
   "source": [
    "dense = tf.keras.layers.Dense(vocab_size)"
   ]
  },
  {
   "cell_type": "code",
   "execution_count": 26,
   "metadata": {},
   "outputs": [],
   "source": [
    "logits_outputs  = dense(outputs)"
   ]
  },
  {
   "cell_type": "code",
   "execution_count": 27,
   "metadata": {},
   "outputs": [
    {
     "name": "stdout",
     "output_type": "stream",
     "text": [
      "shape of the output from dense layer:  (30, 20, 10000)\n"
     ]
    }
   ],
   "source": [
    "print(\"shape of the output from dense layer: \", logits_outputs.shape) #(batch_size, sequence_length, vocab_size)"
   ]
  },
  {
   "cell_type": "markdown",
   "metadata": {},
   "source": [
    "<h2>Activation layer</h2>\n",
    "\n",
    "A softmax activation layers is also then applied to derive the probability of the output being in any of the multiclass(10000 in this case) possibilities.\n"
   ]
  },
  {
   "cell_type": "code",
   "execution_count": 28,
   "metadata": {},
   "outputs": [],
   "source": [
    "activation = tf.keras.layers.Activation('softmax')"
   ]
  },
  {
   "cell_type": "code",
   "execution_count": 29,
   "metadata": {},
   "outputs": [],
   "source": [
    "output_words_prob = activation(logits_outputs)"
   ]
  },
  {
   "cell_type": "code",
   "execution_count": 30,
   "metadata": {},
   "outputs": [
    {
     "name": "stdout",
     "output_type": "stream",
     "text": [
      "shape of the output from the activation layer:  (30, 20, 10000)\n"
     ]
    }
   ],
   "source": [
    "print(\"shape of the output from the activation layer: \", output_words_prob.shape) #(batch_size, sequence_length, vocab_size)"
   ]
  },
  {
   "cell_type": "markdown",
   "metadata": {},
   "source": [
    "Lets look at the probability of observing words for t=0 to t=20:\n"
   ]
  },
  {
   "cell_type": "code",
   "execution_count": 31,
   "metadata": {},
   "outputs": [
    {
     "name": "stdout",
     "output_type": "stream",
     "text": [
      "The probability of observing words in t=0 to t=20 tf.Tensor(\n",
      "[[9.99838012e-05 1.00001729e-04 1.00013836e-04 ... 1.00033190e-04\n",
      "  1.00001605e-04 1.00017351e-04]\n",
      " [9.99659314e-05 9.99967087e-05 1.00025769e-04 ... 1.00046374e-04\n",
      "  1.00010591e-04 1.00035671e-04]\n",
      " [9.99330659e-05 9.99971162e-05 1.00038400e-04 ... 1.00046615e-04\n",
      "  1.00004290e-04 1.00046374e-04]\n",
      " ...\n",
      " [9.99193508e-05 9.99650438e-05 1.00004851e-04 ... 9.99850527e-05\n",
      "  1.00056881e-04 1.00124707e-04]\n",
      " [9.99181357e-05 9.99653930e-05 1.00000863e-04 ... 9.99934200e-05\n",
      "  1.00063124e-04 1.00112302e-04]\n",
      " [9.99158001e-05 9.99726690e-05 9.99928670e-05 ... 1.00004690e-04\n",
      "  1.00073463e-04 1.00112869e-04]], shape=(20, 10000), dtype=float32)\n"
     ]
    }
   ],
   "source": [
    "print(\"The probability of observing words in t=0 to t=20\", output_words_prob[0,0:num_steps])"
   ]
  },
  {
   "cell_type": "markdown",
   "metadata": {
    "button": false,
    "deletable": true,
    "new_sheet": false,
    "run_control": {
     "read_only": false
    }
   },
   "source": [
    "<h3>Prediction</h3>\n",
    "What is the word correspond to the probability output? Lets use the maximum probability:\n"
   ]
  },
  {
   "cell_type": "code",
   "execution_count": 32,
   "metadata": {},
   "outputs": [
    {
     "data": {
      "text/plain": [
       "array([7389, 8461,  103, 6081, 6081, 9568, 9568, 3956, 3956, 4482, 4482,\n",
       "       4482, 4482, 4482, 4482, 1384, 9661, 3786, 6692, 6692])"
      ]
     },
     "execution_count": 32,
     "metadata": {},
     "output_type": "execute_result"
    }
   ],
   "source": [
    "np.argmax(output_words_prob[0,0:num_steps], axis=1)"
   ]
  },
  {
   "cell_type": "markdown",
   "metadata": {
    "button": false,
    "deletable": true,
    "new_sheet": false,
    "run_control": {
     "read_only": false
    }
   },
   "source": [
    "So, what is the ground truth for the first word of first sentence? You can get it from target tensor, if you want to find the embedding vector:\n"
   ]
  },
  {
   "cell_type": "code",
   "execution_count": 33,
   "metadata": {
    "button": false,
    "deletable": true,
    "new_sheet": false,
    "run_control": {
     "read_only": false
    }
   },
   "outputs": [
    {
     "data": {
      "text/plain": [
       "array([9971, 9972, 9974, 9975, 9976, 9980, 9981, 9982, 9983, 9984, 9986,\n",
       "       9987, 9988, 9989, 9991, 9992, 9993, 9994, 9995, 9996], dtype=int32)"
      ]
     },
     "execution_count": 33,
     "metadata": {},
     "output_type": "execute_result"
    }
   ],
   "source": [
    "_targets[0]"
   ]
  },
  {
   "cell_type": "markdown",
   "metadata": {
    "button": false,
    "new_sheet": false,
    "run_control": {
     "read_only": false
    }
   },
   "source": [
    "<h4>Objective function</h4>\n",
    "\n",
    "How similar the predicted words are to the target words?\n",
    "\n",
    "Now we have to define our objective function, to calculate the similarity of predicted values to ground truth, and then, penalize the model with the error. Our objective is to minimize loss function, that is, to minimize the average negative log probability of the target words:\n",
    "\n",
    "$$\\text{loss} = -\\frac{1}{N}\\sum\\_{i=1}^{N} \\ln p\\_{\\text{target}\\_i}$$\n",
    "\n",
    "This function is already implemented and available in TensorFlow through *tf.keras.losses.sparse_categorical_crossentropy*. It calculates the categorical cross-entropy loss for <b>logits</b> and the <b>target</b> sequence.\n",
    "\n",
    "The arguments of this function are:\n",
    "\n",
    "<ul>\n",
    "    <li>logits: List of 2D Tensors of shape [batch_size x num_decoder_symbols].</li>  \n",
    "    <li>targets: List of 1D batch-sized int32 Tensors of the same length as logits.</li>   \n",
    "</ul>\n"
   ]
  },
  {
   "cell_type": "code",
   "execution_count": 34,
   "metadata": {},
   "outputs": [],
   "source": [
    "def crossentropy(y_true, y_pred):\n",
    "    return tf.keras.losses.sparse_categorical_crossentropy(y_true, y_pred)"
   ]
  },
  {
   "cell_type": "code",
   "execution_count": 35,
   "metadata": {},
   "outputs": [],
   "source": [
    "loss  = crossentropy(_targets, output_words_prob)"
   ]
  },
  {
   "cell_type": "markdown",
   "metadata": {
    "button": false,
    "new_sheet": false,
    "run_control": {
     "read_only": false
    }
   },
   "source": [
    "Lets look at the first 10 values of loss:\n"
   ]
  },
  {
   "cell_type": "code",
   "execution_count": 36,
   "metadata": {},
   "outputs": [
    {
     "data": {
      "text/plain": [
       "<tf.Tensor: shape=(10,), dtype=float32, numpy=\n",
       "array([9.210295, 9.210112, 9.210502, 9.210169, 9.209343, 9.210249,\n",
       "       9.210214, 9.211445, 9.209758, 9.210239], dtype=float32)>"
      ]
     },
     "execution_count": 36,
     "metadata": {},
     "output_type": "execute_result"
    }
   ],
   "source": [
    "loss[0,:10]"
   ]
  },
  {
   "cell_type": "markdown",
   "metadata": {},
   "source": [
    "Now, we define cost as average of the losses:\n"
   ]
  },
  {
   "cell_type": "code",
   "execution_count": 37,
   "metadata": {},
   "outputs": [
    {
     "data": {
      "text/plain": [
       "<tf.Tensor: shape=(), dtype=float32, numpy=184.20631>"
      ]
     },
     "execution_count": 37,
     "metadata": {},
     "output_type": "execute_result"
    }
   ],
   "source": [
    "cost = tf.reduce_sum(loss / batch_size)\n",
    "cost"
   ]
  },
  {
   "cell_type": "markdown",
   "metadata": {
    "button": false,
    "deletable": true,
    "new_sheet": false,
    "run_control": {
     "read_only": false
    }
   },
   "source": [
    "<h3>Training</h3>\n",
    "\n",
    "To do training for our network, we have to take the following steps:\n",
    "\n",
    "<ol>\n",
    "    <li>Define the optimizer.</li>\n",
    "    <li>Assemble layers to build model.</li>\n",
    "    <li>Calculate the gradients based on the loss function.</li>\n",
    "    <li>Apply the optimizer to the variables/gradients tuple.</li>\n",
    "</ol>\n"
   ]
  },
  {
   "cell_type": "markdown",
   "metadata": {
    "button": false,
    "deletable": true,
    "new_sheet": false,
    "run_control": {
     "read_only": false
    }
   },
   "source": [
    "<h4>1. Define Optimizer</h4>\n"
   ]
  },
  {
   "cell_type": "code",
   "execution_count": 38,
   "metadata": {},
   "outputs": [],
   "source": [
    "# Create a variable for the learning rate\n",
    "lr = tf.Variable(0.0, trainable=False)\n",
    "optimizer = tf.keras.optimizers.SGD(lr=lr, clipnorm=max_grad_norm)"
   ]
  },
  {
   "cell_type": "markdown",
   "metadata": {},
   "source": [
    "<h4>2. Assemble layers to build model.</h4>\n"
   ]
  },
  {
   "cell_type": "code",
   "execution_count": 39,
   "metadata": {},
   "outputs": [
    {
     "name": "stdout",
     "output_type": "stream",
     "text": [
      "Model: \"sequential\"\n",
      "_________________________________________________________________\n",
      "Layer (type)                 Output Shape              Param #   \n",
      "=================================================================\n",
      "embedding_vocab (Embedding)  (30, 20, 200)             2000000   \n",
      "_________________________________________________________________\n",
      "rnn (RNN)                    (30, 20, 128)             671088    \n",
      "_________________________________________________________________\n",
      "dense (Dense)                (30, 20, 10000)           1290000   \n",
      "_________________________________________________________________\n",
      "activation (Activation)      (30, 20, 10000)           0         \n",
      "=================================================================\n",
      "Total params: 3,961,088\n",
      "Trainable params: 3,955,088\n",
      "Non-trainable params: 6,000\n",
      "_________________________________________________________________\n"
     ]
    }
   ],
   "source": [
    "model = tf.keras.Sequential()\n",
    "model.add(embedding_layer)\n",
    "model.add(layer)\n",
    "model.add(dense)\n",
    "model.add(activation)\n",
    "model.compile(loss=crossentropy, optimizer=optimizer)\n",
    "model.summary()"
   ]
  },
  {
   "cell_type": "markdown",
   "metadata": {
    "button": false,
    "new_sheet": false,
    "run_control": {
     "read_only": false
    }
   },
   "source": [
    "<h4>2. Trainable Variables</h4>\n"
   ]
  },
  {
   "cell_type": "markdown",
   "metadata": {
    "button": false,
    "new_sheet": false,
    "run_control": {
     "read_only": false
    }
   },
   "source": [
    "Defining a variable, if you passed <i>trainable=True</i>, the variable constructor automatically adds new variables to the graph collection <b>GraphKeys.TRAINABLE_VARIABLES</b>. Now, using <i>tf.trainable_variables()</i> you can get all variables created with <b>trainable=True</b>.\n"
   ]
  },
  {
   "cell_type": "code",
   "execution_count": 40,
   "metadata": {
    "button": false,
    "new_sheet": false,
    "run_control": {
     "read_only": false
    }
   },
   "outputs": [],
   "source": [
    "# Get all TensorFlow variables marked as \"trainable\" (i.e. all of them except _lr, which we just created)\n",
    "tvars = model.trainable_variables"
   ]
  },
  {
   "cell_type": "markdown",
   "metadata": {
    "button": false,
    "new_sheet": false,
    "run_control": {
     "read_only": false
    }
   },
   "source": [
    "Note: we can find the name and scope of all variables:\n"
   ]
  },
  {
   "cell_type": "code",
   "execution_count": 41,
   "metadata": {
    "button": false,
    "new_sheet": false,
    "run_control": {
     "read_only": false
    }
   },
   "outputs": [
    {
     "data": {
      "text/plain": [
       "['embedding_vocab/embeddings:0',\n",
       " 'rnn/stacked_rnn_cells/lstm_cell/kernel:0',\n",
       " 'rnn/stacked_rnn_cells/lstm_cell/recurrent_kernel:0',\n",
       " 'rnn/stacked_rnn_cells/lstm_cell/bias:0',\n",
       " 'rnn/stacked_rnn_cells/lstm_cell_1/kernel:0',\n",
       " 'rnn/stacked_rnn_cells/lstm_cell_1/recurrent_kernel:0',\n",
       " 'rnn/stacked_rnn_cells/lstm_cell_1/bias:0',\n",
       " 'dense/kernel:0',\n",
       " 'dense/bias:0']"
      ]
     },
     "execution_count": 41,
     "metadata": {},
     "output_type": "execute_result"
    }
   ],
   "source": [
    "[v.name for v in tvars] "
   ]
  },
  {
   "cell_type": "markdown",
   "metadata": {
    "button": false,
    "new_sheet": false,
    "run_control": {
     "read_only": false
    }
   },
   "source": [
    "<h4>3. Calculate the gradients based on the loss function</h4>\n"
   ]
  },
  {
   "cell_type": "markdown",
   "metadata": {
    "button": false,
    "deletable": true,
    "new_sheet": false,
    "run_control": {
     "read_only": false
    }
   },
   "source": [
    "**Gradient**: The gradient of a function is the slope of its derivative (line), or in other words, the rate of change of a function. It's a vector (a direction to move) that points in the direction of greatest increase of the function, and calculated by the <b>derivative</b> operation.\n"
   ]
  },
  {
   "cell_type": "markdown",
   "metadata": {},
   "source": [
    "First lets recall the gradient function using an toy example:\n",
    "$$ z = \\left(2x^2 + 3xy\\right)$$\n"
   ]
  },
  {
   "cell_type": "code",
   "execution_count": 42,
   "metadata": {},
   "outputs": [],
   "source": [
    "x = tf.constant(1.0)\n",
    "y =  tf.constant(2.0)\n",
    "with tf.GradientTape(persistent=True) as g:\n",
    "    g.watch(x)\n",
    "    g.watch(y)\n",
    "    func_test = 2 * x * x + 3 * x * y"
   ]
  },
  {
   "cell_type": "markdown",
   "metadata": {},
   "source": [
    "The <b>tf.gradients()</b> function allows you to compute the symbolic gradient of one tensor with respect to one or more other tensors—including variables. <b>tf.gradients(func, xs)</b> constructs symbolic partial derivatives of sum of <b>func</b> w\\.r.t. <i>x</i> in <b>xs</b>.\n",
    "\n",
    "Now, lets look at the derivitive w\\.r.t. <b>var_x</b>:\n",
    "$$ \\frac{\\partial :}{\\partial \\:x}\\left(2x^2 + 3xy\\right) = 4x + 3y $$\n"
   ]
  },
  {
   "cell_type": "code",
   "execution_count": 43,
   "metadata": {},
   "outputs": [
    {
     "name": "stdout",
     "output_type": "stream",
     "text": [
      "tf.Tensor(10.0, shape=(), dtype=float32)\n"
     ]
    }
   ],
   "source": [
    "var_grad = g.gradient(func_test, x) # Will compute to 10.0\n",
    "print(var_grad)"
   ]
  },
  {
   "cell_type": "markdown",
   "metadata": {},
   "source": [
    "the derivative w\\.r.t. <b>var_y</b>:\n",
    "$$ \\frac{\\partial :}{\\partial \\:y}\\left(2x^2 + 3xy\\right) = 3x $$\n"
   ]
  },
  {
   "cell_type": "code",
   "execution_count": 44,
   "metadata": {},
   "outputs": [
    {
     "name": "stdout",
     "output_type": "stream",
     "text": [
      "tf.Tensor(3.0, shape=(), dtype=float32)\n"
     ]
    }
   ],
   "source": [
    "var_grad = g.gradient(func_test, y) # Will compute to 3.0\n",
    "print(var_grad)"
   ]
  },
  {
   "cell_type": "markdown",
   "metadata": {},
   "source": [
    "Now, we can look at gradients w\\.r.t all variables:\n"
   ]
  },
  {
   "cell_type": "code",
   "execution_count": 45,
   "metadata": {},
   "outputs": [],
   "source": [
    "with tf.GradientTape() as tape:\n",
    "    # Forward pass.\n",
    "    output_words_prob = model(_input_data)\n",
    "    # Loss value for this batch.\n",
    "    loss  = crossentropy(_targets, output_words_prob)\n",
    "    cost = tf.reduce_sum(loss,axis=0) / batch_size"
   ]
  },
  {
   "cell_type": "code",
   "execution_count": 46,
   "metadata": {},
   "outputs": [],
   "source": [
    "# Get gradients of loss wrt the trainable variables.\n",
    "grad_t_list = tape.gradient(cost, tvars)"
   ]
  },
  {
   "cell_type": "code",
   "execution_count": 47,
   "metadata": {},
   "outputs": [
    {
     "name": "stdout",
     "output_type": "stream",
     "text": [
      "[<tensorflow.python.framework.indexed_slices.IndexedSlices object at 0x7f3f26922668>, <tf.Tensor: shape=(200, 1024), dtype=float32, numpy=\n",
      "array([[-5.33404830e-07,  4.38966822e-07,  5.60035062e-07, ...,\n",
      "         1.52249044e-07, -4.88546959e-07,  9.41136449e-08],\n",
      "       [-2.64496634e-07, -2.11191022e-07,  1.92353980e-07, ...,\n",
      "        -1.43547396e-07,  5.62837840e-07,  1.84106497e-07],\n",
      "       [ 3.48541789e-07,  4.35942553e-08, -3.12118146e-07, ...,\n",
      "         1.99890110e-07, -9.12743417e-07, -7.35420329e-08],\n",
      "       ...,\n",
      "       [-1.71019565e-07,  3.59128251e-07, -3.69668783e-07, ...,\n",
      "        -1.08934486e-07, -5.70527561e-07, -1.59550495e-07],\n",
      "       [-7.30656097e-07,  3.66202272e-07,  4.01320051e-07, ...,\n",
      "         7.79618006e-08, -5.41315785e-07,  1.35464887e-07],\n",
      "       [-1.57513455e-07,  7.54848429e-07,  6.45523990e-09, ...,\n",
      "         1.05691626e-07,  4.72564295e-07,  2.58554024e-07]], dtype=float32)>, <tf.Tensor: shape=(256, 1024), dtype=float32, numpy=\n",
      "array([[-5.94382676e-08, -1.21748897e-07, -6.41740954e-08, ...,\n",
      "         3.72371431e-08,  1.77366445e-07, -1.12305244e-07],\n",
      "       [-1.61953167e-07,  4.48835564e-08,  6.99769629e-08, ...,\n",
      "        -4.53412206e-08,  6.19045970e-09,  1.81616230e-07],\n",
      "       [-4.06745357e-08,  2.66669176e-08,  1.82308156e-07, ...,\n",
      "         1.12429568e-08, -4.90503176e-08, -3.11692183e-08],\n",
      "       ...,\n",
      "       [-1.44199177e-08,  6.23246308e-08,  1.29310020e-08, ...,\n",
      "        -1.44431738e-07,  4.68811905e-08, -5.52426656e-08],\n",
      "       [-9.08787641e-08, -6.34796180e-08,  6.92445212e-08, ...,\n",
      "         1.46022234e-08, -4.93655193e-07, -1.88270121e-07],\n",
      "       [-8.17498602e-08,  4.27405418e-08,  9.57712061e-08, ...,\n",
      "         2.32397159e-08,  5.03901134e-08, -2.04753022e-07]], dtype=float32)>, <tf.Tensor: shape=(1024,), dtype=float32, numpy=\n",
      "array([-1.3337618e-05,  2.9130438e-06,  7.1845602e-07, ...,\n",
      "        7.0593642e-06, -4.5919536e-05, -2.9368034e-06], dtype=float32)>, <tf.Tensor: shape=(256, 512), dtype=float32, numpy=\n",
      "array([[ 1.0785662e-07, -1.2430272e-07, -1.0063451e-07, ...,\n",
      "        -1.0963388e-07,  1.1555361e-07, -1.9841023e-07],\n",
      "       [-1.7602616e-07,  1.9741042e-07,  6.7649054e-08, ...,\n",
      "        -1.7861399e-07, -7.6227067e-08, -1.2618693e-07],\n",
      "       [-9.9967771e-08,  1.6543470e-07,  3.4272898e-07, ...,\n",
      "        -1.9786712e-07,  8.8747385e-08,  2.3621965e-07],\n",
      "       ...,\n",
      "       [-2.0108689e-07, -9.5072579e-08, -1.7316427e-07, ...,\n",
      "        -1.9200007e-07, -1.1537528e-07, -2.7411269e-07],\n",
      "       [ 2.9080908e-08,  3.6891471e-08,  2.6015911e-07, ...,\n",
      "        -4.3989070e-07,  1.8819218e-08,  4.1271477e-08],\n",
      "       [-6.2701098e-08, -5.0859061e-08, -2.3902121e-08, ...,\n",
      "         5.0375007e-08, -4.8194462e-09, -1.9810375e-07]], dtype=float32)>, <tf.Tensor: shape=(128, 512), dtype=float32, numpy=\n",
      "array([[-5.00917281e-08, -9.16534049e-08,  8.95494594e-08, ...,\n",
      "         7.73521123e-08,  1.00728286e-07,  1.41783509e-08],\n",
      "       [-1.15767413e-08,  2.36324595e-07,  9.30157285e-09, ...,\n",
      "        -8.84921150e-08,  8.90195508e-08,  9.33636812e-09],\n",
      "       [-1.22038571e-07,  4.05420622e-08,  4.97794765e-08, ...,\n",
      "        -6.99543676e-08, -1.17764188e-07,  1.43685781e-07],\n",
      "       ...,\n",
      "       [ 3.76825682e-08,  6.68701716e-08, -1.23433438e-07, ...,\n",
      "         2.12650676e-07, -2.51305465e-08,  1.30571692e-07],\n",
      "       [ 6.63352751e-08, -2.74101694e-07, -8.40296508e-08, ...,\n",
      "        -8.10227192e-08, -1.45554083e-07,  5.84676698e-08],\n",
      "       [ 2.19737366e-08, -4.96662622e-08, -2.23508092e-08, ...,\n",
      "         4.29984937e-08,  3.35730093e-08, -9.89487887e-08]], dtype=float32)>, <tf.Tensor: shape=(512,), dtype=float32, numpy=\n",
      "array([-3.14884164e-05,  1.06760235e-05,  7.13643794e-06, -3.73326584e-05,\n",
      "       -1.64970206e-05, -5.90246818e-05,  5.58231040e-05, -1.26153336e-05,\n",
      "        3.33013304e-05, -2.32479015e-05, -6.88028831e-06,  1.10165256e-05,\n",
      "        4.60721167e-05, -2.00531531e-06, -1.80935021e-05, -5.92075503e-06,\n",
      "        5.08939629e-05, -1.38093583e-05, -1.16548165e-06, -5.59626133e-05,\n",
      "       -2.07384310e-05,  1.85048193e-05, -7.71272698e-06,  2.42652313e-05,\n",
      "       -2.90067965e-06,  6.92907342e-05, -2.13076382e-05, -1.81000687e-05,\n",
      "        3.19431711e-05, -1.07160577e-05, -4.53079374e-05, -3.19018727e-05,\n",
      "       -3.47974492e-06,  2.10862818e-05, -1.44474216e-05, -2.37265886e-05,\n",
      "        6.17695059e-06, -2.41126145e-05,  3.36994162e-05,  1.47572337e-05,\n",
      "        2.04477856e-05, -4.03813974e-05, -6.13395023e-05, -1.25177430e-05,\n",
      "       -2.97375482e-06,  2.46256059e-06,  2.00473842e-05, -2.86794821e-05,\n",
      "       -1.37106772e-05,  4.94106644e-07, -4.72105748e-05,  1.00562165e-05,\n",
      "       -3.55302218e-05, -1.50140722e-05, -4.43300305e-05,  2.69323373e-05,\n",
      "        5.47788259e-05,  3.77559445e-05, -2.88585616e-05,  1.04719102e-05,\n",
      "       -1.66869431e-05,  1.26987106e-06, -1.49547850e-05, -3.85614876e-05,\n",
      "       -1.93365195e-05, -8.54488098e-06,  7.82158440e-06, -1.26987034e-05,\n",
      "       -2.06571094e-05,  4.19199705e-06,  2.43812210e-05, -5.66412891e-05,\n",
      "        4.81365350e-05,  7.59329578e-06,  5.86933493e-06, -2.09249993e-06,\n",
      "       -9.38847006e-06,  1.15925559e-06, -2.42169317e-05,  4.35195252e-05,\n",
      "       -2.94171514e-07,  2.46500549e-05,  6.23483356e-05,  2.45702486e-05,\n",
      "       -1.32632686e-05,  2.08816436e-05,  2.46014351e-05,  5.96107202e-06,\n",
      "       -2.18664463e-05, -2.90794924e-05,  2.75358943e-05,  6.85298146e-05,\n",
      "       -2.70927230e-05,  4.95922832e-05, -7.73023930e-06, -7.49350420e-06,\n",
      "       -3.78838604e-06, -1.24074595e-05,  3.84411906e-05, -1.78115351e-05,\n",
      "       -6.70070585e-06,  2.52684476e-05,  1.40409302e-05, -1.12043172e-05,\n",
      "       -1.59425326e-05,  6.28139333e-06,  1.81655887e-05,  3.47344176e-05,\n",
      "       -3.18430757e-05,  1.38741098e-05, -2.83851841e-05,  1.18253793e-05,\n",
      "        1.84529417e-05,  2.03901891e-07,  2.35664775e-05, -4.91705723e-05,\n",
      "        5.42657253e-05, -7.91308776e-06,  3.19900573e-05, -1.87439182e-05,\n",
      "        2.05317301e-05, -2.48662291e-05, -5.13622508e-05,  1.81953583e-05,\n",
      "        1.30734052e-05, -3.36560115e-05, -1.52898810e-05,  2.25761469e-05,\n",
      "       -2.77971521e-05,  7.03422074e-06,  1.95627599e-05, -3.37258462e-05,\n",
      "       -2.67411360e-05, -4.15149007e-05,  5.91766584e-05, -1.75013774e-05,\n",
      "        4.74695189e-05,  1.34620495e-06, -1.13669375e-05,  1.34355205e-05,\n",
      "        4.60611991e-05,  1.34719430e-05, -8.87628812e-06, -1.38895084e-05,\n",
      "        6.61494123e-05,  1.34838037e-05,  3.60759041e-05, -1.01489655e-04,\n",
      "       -3.82804319e-05,  4.61564778e-05, -4.53552711e-05,  4.98690351e-05,\n",
      "        4.38093775e-06,  1.02349324e-04, -1.75413479e-05, -5.25492142e-05,\n",
      "        2.24252217e-05, -3.18411621e-05, -4.05136743e-05, -2.03342370e-05,\n",
      "       -1.04038072e-05,  2.32830644e-05,  5.05016988e-06,  6.05693549e-06,\n",
      "        2.91178567e-05, -3.52557181e-05,  5.89609517e-05,  8.89827334e-07,\n",
      "        4.18132149e-05, -5.80681444e-05, -3.38231112e-05, -5.88717921e-06,\n",
      "        2.99156454e-06,  3.39456165e-07,  7.63983462e-06, -4.04203165e-05,\n",
      "       -6.24556633e-05,  2.02470837e-05, -3.73447401e-05,  4.65678204e-06,\n",
      "       -2.73044916e-05, -3.40237493e-05, -4.12711124e-05,  4.85101773e-05,\n",
      "        6.05879832e-05,  4.06125400e-05, -5.05807657e-05, -2.91560100e-05,\n",
      "       -1.40508637e-05,  1.54426580e-05, -3.30674338e-05, -3.04889836e-05,\n",
      "       -6.71969519e-06, -1.01854021e-05, -1.16613019e-05, -3.30974617e-05,\n",
      "       -9.23807147e-06, -1.67984363e-05,  2.76847777e-06, -5.75360245e-05,\n",
      "        6.35003526e-05,  2.34292634e-06, -4.24035534e-06, -1.70609437e-05,\n",
      "        5.85559474e-06,  2.35572188e-05, -4.23844504e-05,  4.00642020e-05,\n",
      "       -7.08178050e-09,  2.62374760e-05,  3.79264930e-05,  1.28939655e-05,\n",
      "       -8.02700379e-06,  2.11161314e-05,  3.94723647e-05, -3.17515005e-05,\n",
      "       -3.84340310e-05, -3.46645102e-05,  2.92067616e-05,  8.23809169e-05,\n",
      "       -3.13134478e-05,  5.04916388e-05, -1.09758848e-05, -1.81863979e-05,\n",
      "       -2.14000793e-05, -1.00928710e-05,  5.45335643e-05,  1.40431757e-05,\n",
      "       -2.12762789e-05,  3.40282313e-05,  1.82771128e-05, -5.11215330e-06,\n",
      "       -3.26672962e-05,  1.54668542e-05,  5.78681429e-05,  6.07229667e-05,\n",
      "       -3.33581884e-05,  3.01585042e-05, -3.45281369e-05,  5.29150348e-05,\n",
      "        5.57503881e-05,  8.49066237e-06,  3.40112820e-06, -6.44464162e-05,\n",
      "        6.24087988e-05,  1.40308775e-05,  4.34002941e-05, -8.70873464e-06,\n",
      "        7.87848148e-06, -1.02932008e-05, -1.11888105e-04, -1.03164748e-05,\n",
      "        3.01924356e-05, -4.77565482e-05, -1.06778898e-05,  1.91638319e-05,\n",
      "       -5.69817377e-04,  2.00520139e-02,  3.51497158e-02,  3.41456160e-02,\n",
      "        1.54923592e-02, -1.45391766e-02, -3.48294526e-02,  7.25115975e-03,\n",
      "       -8.15905258e-03,  2.48310436e-03, -6.28710240e-02, -7.21486635e-04,\n",
      "        3.73801365e-02, -2.58441418e-02,  1.42522540e-03,  4.22383659e-03,\n",
      "       -2.58950070e-02, -2.82730348e-02, -1.55120157e-03, -4.80852537e-02,\n",
      "       -2.34538876e-02,  5.85795045e-02, -2.42719017e-02,  1.44429272e-02,\n",
      "       -1.97021142e-02,  4.04027253e-02,  1.71230584e-02,  2.41497420e-02,\n",
      "       -2.38153823e-02,  5.16972970e-03,  1.19951612e-03, -6.31213486e-02,\n",
      "       -3.39084561e-03, -5.73693216e-02,  5.30651584e-03, -1.21341832e-02,\n",
      "        4.16679084e-02,  9.52980109e-03, -9.71125904e-03, -4.55543771e-03,\n",
      "        3.07912603e-02,  3.76295038e-02, -2.50386540e-04,  1.95221566e-02,\n",
      "        1.01967715e-02, -2.92246491e-02,  1.58379157e-03, -4.27430347e-02,\n",
      "       -1.46822231e-02, -2.11975407e-02,  5.89319924e-03,  5.11231925e-03,\n",
      "        1.51028223e-02, -2.14326642e-02, -1.58038605e-02,  3.24193239e-02,\n",
      "        3.29827666e-02, -6.10839343e-05,  7.24901212e-03,  4.80375439e-03,\n",
      "        5.10710180e-02,  3.73200141e-03,  1.23770386e-02, -6.84019029e-02,\n",
      "       -5.11172926e-04, -2.80927401e-02, -6.31482340e-03, -8.33367649e-03,\n",
      "        2.86050327e-02,  2.61289179e-02,  6.52487390e-03, -4.95115109e-02,\n",
      "        2.69512292e-02,  2.66774800e-02,  1.00064669e-02,  2.40592174e-02,\n",
      "        4.24824953e-02, -3.16832103e-02,  4.98623252e-02, -2.12062187e-02,\n",
      "       -1.42876040e-02,  4.48651006e-03, -1.92370545e-02, -1.63660794e-02,\n",
      "        3.24322917e-02, -1.10298544e-02, -4.24246304e-02, -1.34416297e-02,\n",
      "       -6.14227541e-03, -2.48460621e-02,  3.40995342e-02,  5.00707775e-02,\n",
      "       -3.00260540e-03, -2.56239772e-02, -2.09046956e-02, -1.31210238e-02,\n",
      "       -2.73260884e-02, -6.02548942e-04,  3.93042788e-02, -6.34130230e-03,\n",
      "        7.26609863e-03,  3.96705233e-03,  1.65123418e-02, -3.48735601e-02,\n",
      "       -3.22490744e-02, -1.80130508e-02, -5.27274981e-03, -3.66822109e-02,\n",
      "       -8.91362410e-03, -3.71216908e-02, -1.99306104e-02,  8.21375102e-03,\n",
      "        1.63527727e-02,  1.45614911e-02,  3.46204452e-02,  2.89477855e-02,\n",
      "        2.54220013e-02, -3.52059002e-03, -3.86750884e-02,  1.05963368e-03,\n",
      "        4.79567498e-02, -2.95277964e-03,  2.09207162e-02,  1.97645873e-02,\n",
      "        1.08920913e-02,  1.29161905e-02, -1.93650238e-02, -1.80245638e-02,\n",
      "       -3.00656502e-05,  4.54640667e-06,  6.46918988e-06, -4.15292998e-05,\n",
      "       -1.41719584e-05, -6.47977140e-05,  5.85514426e-05, -2.08751480e-05,\n",
      "        3.45564913e-05, -3.06091642e-05, -1.09942312e-05,  1.51154636e-05,\n",
      "        4.18225645e-05, -8.92537173e-07, -1.73400258e-05, -1.79541057e-05,\n",
      "        7.09114393e-05, -5.85728185e-06,  6.02960881e-07, -7.62455893e-05,\n",
      "       -2.18392506e-05,  2.59177323e-05, -1.33191188e-05,  3.28719070e-05,\n",
      "       -7.31537511e-06,  7.40751420e-05, -2.62314497e-05, -1.56514106e-05,\n",
      "        3.56681994e-05, -1.60956279e-05, -5.39992470e-05, -3.52120915e-05,\n",
      "       -9.08253605e-06,  1.55262351e-05, -2.17812376e-05, -1.50330688e-05,\n",
      "        9.86687883e-06, -2.38680332e-05,  3.58111429e-05,  9.85372026e-06,\n",
      "        2.17442848e-05, -3.92879374e-05, -5.01216018e-05, -9.21587798e-06,\n",
      "        8.27609620e-06,  1.12130238e-05,  1.79991821e-05, -4.05657411e-05,\n",
      "       -2.72131911e-05,  7.68984137e-06, -4.71195053e-05,  4.22670519e-06,\n",
      "       -4.26277256e-05, -1.53944966e-05, -4.75031629e-05,  2.94223610e-05,\n",
      "        5.69759286e-05,  3.57917561e-05, -2.66380375e-05,  4.07398602e-07,\n",
      "       -2.39556539e-05, -9.09075789e-06, -1.58850125e-05, -3.69778500e-05,\n",
      "       -2.17471625e-05, -1.26675768e-05,  3.81549307e-06, -2.25165713e-05,\n",
      "       -1.83897228e-05, -2.69368002e-07,  2.60033758e-05, -5.77261744e-05,\n",
      "        7.21632678e-05,  1.01658616e-05, -6.34589014e-07, -8.10914207e-06,\n",
      "       -9.18974911e-06,  1.16763968e-05, -3.14482604e-05,  4.40137737e-05,\n",
      "       -1.08710910e-05,  3.00022602e-05,  6.33839518e-05,  3.76436983e-05,\n",
      "       -4.49045183e-06,  1.40092361e-05,  3.11513286e-05, -1.28368847e-05,\n",
      "       -2.68013955e-05, -3.11741132e-05,  3.34778961e-05,  6.45322580e-05,\n",
      "       -2.93611265e-05,  5.24960815e-05, -8.55265353e-06, -5.02655121e-06,\n",
      "        1.69733448e-06, -7.12190194e-06,  4.42476448e-05, -2.65907092e-05,\n",
      "       -1.04031451e-05,  3.27497692e-05,  1.39416070e-05, -1.36857116e-05,\n",
      "       -2.17559427e-05,  2.43733302e-06,  2.40756563e-05,  4.76068926e-05,\n",
      "       -2.52987302e-05,  2.08552374e-05, -2.96051803e-05,  1.92826883e-05,\n",
      "        2.08532892e-05,  3.52111601e-06,  8.77019374e-06, -4.99791422e-05,\n",
      "        7.29098465e-05, -3.39411417e-06,  4.37161434e-05, -2.02598694e-05,\n",
      "        2.49576187e-05, -2.54432780e-05, -5.56046434e-05,  1.92727384e-05,\n",
      "        1.18690232e-05, -3.72791692e-05, -7.60697094e-06,  1.69954619e-05],\n",
      "      dtype=float32)>, <tf.Tensor: shape=(128, 10000), dtype=float32, numpy=\n",
      "array([[ 1.5843762e-03,  5.7340629e-04,  7.2285306e-04, ...,\n",
      "        -2.7735264e-06, -2.7751412e-06, -2.7731630e-06],\n",
      "       [-2.5802099e-03, -5.8587184e-03, -3.4832314e-03, ...,\n",
      "         6.9493326e-06,  6.9482785e-06,  6.9536018e-06],\n",
      "       [-1.1227489e-03, -1.3768468e-04, -1.2164324e-03, ...,\n",
      "         1.8077155e-06,  1.8079105e-06,  1.8090013e-06],\n",
      "       ...,\n",
      "       [ 1.9488372e-03,  8.7334379e-04,  1.9959661e-03, ...,\n",
      "        -3.8995513e-06, -3.8986068e-06, -3.9008773e-06],\n",
      "       [ 3.8270254e-04,  7.5968349e-04,  1.6694381e-03, ...,\n",
      "        -1.4821043e-06, -1.4787288e-06, -1.4822688e-06],\n",
      "       [ 1.0796865e-03,  1.0046425e-03,  9.9370559e-04, ...,\n",
      "        -2.0235891e-06, -2.0230284e-06, -2.0242117e-06]], dtype=float32)>, <tf.Tensor: shape=(10000,), dtype=float32, numpy=\n",
      "array([-0.79799813, -1.0313313 , -1.0313315 , ...,  0.00199989,\n",
      "        0.00199987,  0.00200034], dtype=float32)>]\n"
     ]
    }
   ],
   "source": [
    "print(grad_t_list)"
   ]
  },
  {
   "cell_type": "markdown",
   "metadata": {
    "button": false,
    "new_sheet": false,
    "run_control": {
     "read_only": false
    }
   },
   "source": [
    "now, we have a list of tensors, t-list. We can use it to find clipped tensors. <b>clip_by_global_norm</b> clips values of multiple tensors by the ratio of the sum of their norms.\n",
    "\n",
    "<b>clip_by_global_norm</b> get <i>t-list</i> as input and returns 2 things:\n",
    "\n",
    "<ul>\n",
    "    <li>a list of clipped tensors, so called <i>list_clipped</i></li> \n",
    "    <li>the global norm (global_norm) of all tensors in t_list</li> \n",
    "</ul>\n"
   ]
  },
  {
   "cell_type": "code",
   "execution_count": 48,
   "metadata": {},
   "outputs": [
    {
     "data": {
      "text/plain": [
       "[<tensorflow.python.framework.indexed_slices.IndexedSlices at 0x7f4008937a58>,\n",
       " <tf.Tensor: shape=(200, 1024), dtype=float32, numpy=\n",
       " array([[-5.33404830e-07,  4.38966822e-07,  5.60035062e-07, ...,\n",
       "          1.52249044e-07, -4.88546959e-07,  9.41136449e-08],\n",
       "        [-2.64496634e-07, -2.11191022e-07,  1.92353980e-07, ...,\n",
       "         -1.43547396e-07,  5.62837840e-07,  1.84106497e-07],\n",
       "        [ 3.48541789e-07,  4.35942553e-08, -3.12118146e-07, ...,\n",
       "          1.99890110e-07, -9.12743417e-07, -7.35420329e-08],\n",
       "        ...,\n",
       "        [-1.71019565e-07,  3.59128251e-07, -3.69668783e-07, ...,\n",
       "         -1.08934486e-07, -5.70527561e-07, -1.59550495e-07],\n",
       "        [-7.30656097e-07,  3.66202272e-07,  4.01320051e-07, ...,\n",
       "          7.79618006e-08, -5.41315785e-07,  1.35464887e-07],\n",
       "        [-1.57513455e-07,  7.54848429e-07,  6.45523990e-09, ...,\n",
       "          1.05691626e-07,  4.72564295e-07,  2.58554024e-07]], dtype=float32)>,\n",
       " <tf.Tensor: shape=(256, 1024), dtype=float32, numpy=\n",
       " array([[-5.94382676e-08, -1.21748897e-07, -6.41740954e-08, ...,\n",
       "          3.72371431e-08,  1.77366445e-07, -1.12305244e-07],\n",
       "        [-1.61953167e-07,  4.48835564e-08,  6.99769629e-08, ...,\n",
       "         -4.53412206e-08,  6.19045970e-09,  1.81616230e-07],\n",
       "        [-4.06745357e-08,  2.66669176e-08,  1.82308156e-07, ...,\n",
       "          1.12429568e-08, -4.90503176e-08, -3.11692183e-08],\n",
       "        ...,\n",
       "        [-1.44199177e-08,  6.23246308e-08,  1.29310020e-08, ...,\n",
       "         -1.44431738e-07,  4.68811905e-08, -5.52426656e-08],\n",
       "        [-9.08787641e-08, -6.34796180e-08,  6.92445212e-08, ...,\n",
       "          1.46022234e-08, -4.93655193e-07, -1.88270121e-07],\n",
       "        [-8.17498602e-08,  4.27405418e-08,  9.57712061e-08, ...,\n",
       "          2.32397159e-08,  5.03901134e-08, -2.04753022e-07]], dtype=float32)>,\n",
       " <tf.Tensor: shape=(1024,), dtype=float32, numpy=\n",
       " array([-1.3337618e-05,  2.9130438e-06,  7.1845602e-07, ...,\n",
       "         7.0593642e-06, -4.5919536e-05, -2.9368034e-06], dtype=float32)>,\n",
       " <tf.Tensor: shape=(256, 512), dtype=float32, numpy=\n",
       " array([[ 1.0785662e-07, -1.2430272e-07, -1.0063451e-07, ...,\n",
       "         -1.0963388e-07,  1.1555361e-07, -1.9841023e-07],\n",
       "        [-1.7602616e-07,  1.9741042e-07,  6.7649054e-08, ...,\n",
       "         -1.7861399e-07, -7.6227067e-08, -1.2618693e-07],\n",
       "        [-9.9967771e-08,  1.6543470e-07,  3.4272898e-07, ...,\n",
       "         -1.9786712e-07,  8.8747385e-08,  2.3621965e-07],\n",
       "        ...,\n",
       "        [-2.0108689e-07, -9.5072579e-08, -1.7316427e-07, ...,\n",
       "         -1.9200007e-07, -1.1537528e-07, -2.7411269e-07],\n",
       "        [ 2.9080908e-08,  3.6891471e-08,  2.6015911e-07, ...,\n",
       "         -4.3989070e-07,  1.8819218e-08,  4.1271477e-08],\n",
       "        [-6.2701098e-08, -5.0859061e-08, -2.3902121e-08, ...,\n",
       "          5.0375007e-08, -4.8194462e-09, -1.9810375e-07]], dtype=float32)>,\n",
       " <tf.Tensor: shape=(128, 512), dtype=float32, numpy=\n",
       " array([[-5.00917281e-08, -9.16534049e-08,  8.95494594e-08, ...,\n",
       "          7.73521123e-08,  1.00728286e-07,  1.41783509e-08],\n",
       "        [-1.15767413e-08,  2.36324595e-07,  9.30157285e-09, ...,\n",
       "         -8.84921150e-08,  8.90195508e-08,  9.33636812e-09],\n",
       "        [-1.22038571e-07,  4.05420622e-08,  4.97794765e-08, ...,\n",
       "         -6.99543676e-08, -1.17764188e-07,  1.43685781e-07],\n",
       "        ...,\n",
       "        [ 3.76825682e-08,  6.68701716e-08, -1.23433438e-07, ...,\n",
       "          2.12650676e-07, -2.51305465e-08,  1.30571692e-07],\n",
       "        [ 6.63352751e-08, -2.74101694e-07, -8.40296508e-08, ...,\n",
       "         -8.10227192e-08, -1.45554083e-07,  5.84676698e-08],\n",
       "        [ 2.19737366e-08, -4.96662622e-08, -2.23508092e-08, ...,\n",
       "          4.29984937e-08,  3.35730093e-08, -9.89487887e-08]], dtype=float32)>,\n",
       " <tf.Tensor: shape=(512,), dtype=float32, numpy=\n",
       " array([-3.14884164e-05,  1.06760235e-05,  7.13643794e-06, -3.73326584e-05,\n",
       "        -1.64970206e-05, -5.90246818e-05,  5.58231040e-05, -1.26153336e-05,\n",
       "         3.33013304e-05, -2.32479015e-05, -6.88028831e-06,  1.10165256e-05,\n",
       "         4.60721167e-05, -2.00531531e-06, -1.80935021e-05, -5.92075503e-06,\n",
       "         5.08939629e-05, -1.38093583e-05, -1.16548165e-06, -5.59626133e-05,\n",
       "        -2.07384310e-05,  1.85048193e-05, -7.71272698e-06,  2.42652313e-05,\n",
       "        -2.90067965e-06,  6.92907342e-05, -2.13076382e-05, -1.81000687e-05,\n",
       "         3.19431711e-05, -1.07160577e-05, -4.53079374e-05, -3.19018727e-05,\n",
       "        -3.47974492e-06,  2.10862818e-05, -1.44474216e-05, -2.37265886e-05,\n",
       "         6.17695059e-06, -2.41126145e-05,  3.36994162e-05,  1.47572337e-05,\n",
       "         2.04477856e-05, -4.03813974e-05, -6.13395023e-05, -1.25177430e-05,\n",
       "        -2.97375482e-06,  2.46256059e-06,  2.00473842e-05, -2.86794821e-05,\n",
       "        -1.37106772e-05,  4.94106644e-07, -4.72105748e-05,  1.00562165e-05,\n",
       "        -3.55302218e-05, -1.50140722e-05, -4.43300305e-05,  2.69323373e-05,\n",
       "         5.47788259e-05,  3.77559445e-05, -2.88585616e-05,  1.04719102e-05,\n",
       "        -1.66869431e-05,  1.26987106e-06, -1.49547850e-05, -3.85614876e-05,\n",
       "        -1.93365195e-05, -8.54488098e-06,  7.82158440e-06, -1.26987034e-05,\n",
       "        -2.06571094e-05,  4.19199705e-06,  2.43812210e-05, -5.66412891e-05,\n",
       "         4.81365350e-05,  7.59329578e-06,  5.86933493e-06, -2.09249993e-06,\n",
       "        -9.38847006e-06,  1.15925559e-06, -2.42169317e-05,  4.35195252e-05,\n",
       "        -2.94171514e-07,  2.46500549e-05,  6.23483356e-05,  2.45702486e-05,\n",
       "        -1.32632686e-05,  2.08816436e-05,  2.46014351e-05,  5.96107202e-06,\n",
       "        -2.18664463e-05, -2.90794924e-05,  2.75358943e-05,  6.85298146e-05,\n",
       "        -2.70927230e-05,  4.95922832e-05, -7.73023930e-06, -7.49350420e-06,\n",
       "        -3.78838604e-06, -1.24074595e-05,  3.84411906e-05, -1.78115351e-05,\n",
       "        -6.70070585e-06,  2.52684476e-05,  1.40409302e-05, -1.12043172e-05,\n",
       "        -1.59425326e-05,  6.28139333e-06,  1.81655887e-05,  3.47344176e-05,\n",
       "        -3.18430757e-05,  1.38741098e-05, -2.83851841e-05,  1.18253793e-05,\n",
       "         1.84529417e-05,  2.03901891e-07,  2.35664775e-05, -4.91705723e-05,\n",
       "         5.42657253e-05, -7.91308776e-06,  3.19900573e-05, -1.87439182e-05,\n",
       "         2.05317301e-05, -2.48662291e-05, -5.13622508e-05,  1.81953583e-05,\n",
       "         1.30734052e-05, -3.36560115e-05, -1.52898810e-05,  2.25761469e-05,\n",
       "        -2.77971521e-05,  7.03422074e-06,  1.95627599e-05, -3.37258462e-05,\n",
       "        -2.67411360e-05, -4.15149007e-05,  5.91766584e-05, -1.75013774e-05,\n",
       "         4.74695189e-05,  1.34620495e-06, -1.13669375e-05,  1.34355205e-05,\n",
       "         4.60611991e-05,  1.34719430e-05, -8.87628812e-06, -1.38895084e-05,\n",
       "         6.61494123e-05,  1.34838037e-05,  3.60759041e-05, -1.01489655e-04,\n",
       "        -3.82804319e-05,  4.61564778e-05, -4.53552711e-05,  4.98690351e-05,\n",
       "         4.38093775e-06,  1.02349324e-04, -1.75413479e-05, -5.25492142e-05,\n",
       "         2.24252217e-05, -3.18411621e-05, -4.05136743e-05, -2.03342370e-05,\n",
       "        -1.04038072e-05,  2.32830644e-05,  5.05016988e-06,  6.05693549e-06,\n",
       "         2.91178567e-05, -3.52557181e-05,  5.89609517e-05,  8.89827334e-07,\n",
       "         4.18132149e-05, -5.80681444e-05, -3.38231112e-05, -5.88717921e-06,\n",
       "         2.99156454e-06,  3.39456165e-07,  7.63983462e-06, -4.04203165e-05,\n",
       "        -6.24556633e-05,  2.02470837e-05, -3.73447401e-05,  4.65678204e-06,\n",
       "        -2.73044916e-05, -3.40237493e-05, -4.12711124e-05,  4.85101773e-05,\n",
       "         6.05879832e-05,  4.06125400e-05, -5.05807657e-05, -2.91560100e-05,\n",
       "        -1.40508637e-05,  1.54426580e-05, -3.30674338e-05, -3.04889836e-05,\n",
       "        -6.71969519e-06, -1.01854021e-05, -1.16613019e-05, -3.30974617e-05,\n",
       "        -9.23807147e-06, -1.67984363e-05,  2.76847777e-06, -5.75360245e-05,\n",
       "         6.35003526e-05,  2.34292634e-06, -4.24035534e-06, -1.70609437e-05,\n",
       "         5.85559474e-06,  2.35572188e-05, -4.23844504e-05,  4.00642020e-05,\n",
       "        -7.08178050e-09,  2.62374760e-05,  3.79264930e-05,  1.28939655e-05,\n",
       "        -8.02700379e-06,  2.11161314e-05,  3.94723647e-05, -3.17515005e-05,\n",
       "        -3.84340310e-05, -3.46645102e-05,  2.92067616e-05,  8.23809169e-05,\n",
       "        -3.13134478e-05,  5.04916388e-05, -1.09758848e-05, -1.81863979e-05,\n",
       "        -2.14000793e-05, -1.00928710e-05,  5.45335643e-05,  1.40431757e-05,\n",
       "        -2.12762789e-05,  3.40282313e-05,  1.82771128e-05, -5.11215330e-06,\n",
       "        -3.26672962e-05,  1.54668542e-05,  5.78681429e-05,  6.07229667e-05,\n",
       "        -3.33581884e-05,  3.01585042e-05, -3.45281369e-05,  5.29150348e-05,\n",
       "         5.57503881e-05,  8.49066237e-06,  3.40112820e-06, -6.44464162e-05,\n",
       "         6.24087988e-05,  1.40308775e-05,  4.34002941e-05, -8.70873464e-06,\n",
       "         7.87848148e-06, -1.02932008e-05, -1.11888105e-04, -1.03164748e-05,\n",
       "         3.01924356e-05, -4.77565482e-05, -1.06778898e-05,  1.91638319e-05,\n",
       "        -5.69817377e-04,  2.00520139e-02,  3.51497158e-02,  3.41456160e-02,\n",
       "         1.54923592e-02, -1.45391766e-02, -3.48294526e-02,  7.25115975e-03,\n",
       "        -8.15905258e-03,  2.48310436e-03, -6.28710240e-02, -7.21486635e-04,\n",
       "         3.73801365e-02, -2.58441418e-02,  1.42522540e-03,  4.22383659e-03,\n",
       "        -2.58950070e-02, -2.82730348e-02, -1.55120157e-03, -4.80852537e-02,\n",
       "        -2.34538876e-02,  5.85795045e-02, -2.42719017e-02,  1.44429272e-02,\n",
       "        -1.97021142e-02,  4.04027253e-02,  1.71230584e-02,  2.41497420e-02,\n",
       "        -2.38153823e-02,  5.16972970e-03,  1.19951612e-03, -6.31213486e-02,\n",
       "        -3.39084561e-03, -5.73693216e-02,  5.30651584e-03, -1.21341832e-02,\n",
       "         4.16679084e-02,  9.52980109e-03, -9.71125904e-03, -4.55543771e-03,\n",
       "         3.07912603e-02,  3.76295038e-02, -2.50386540e-04,  1.95221566e-02,\n",
       "         1.01967715e-02, -2.92246491e-02,  1.58379157e-03, -4.27430347e-02,\n",
       "        -1.46822231e-02, -2.11975407e-02,  5.89319924e-03,  5.11231925e-03,\n",
       "         1.51028223e-02, -2.14326642e-02, -1.58038605e-02,  3.24193239e-02,\n",
       "         3.29827666e-02, -6.10839343e-05,  7.24901212e-03,  4.80375439e-03,\n",
       "         5.10710180e-02,  3.73200141e-03,  1.23770386e-02, -6.84019029e-02,\n",
       "        -5.11172926e-04, -2.80927401e-02, -6.31482340e-03, -8.33367649e-03,\n",
       "         2.86050327e-02,  2.61289179e-02,  6.52487390e-03, -4.95115109e-02,\n",
       "         2.69512292e-02,  2.66774800e-02,  1.00064669e-02,  2.40592174e-02,\n",
       "         4.24824953e-02, -3.16832103e-02,  4.98623252e-02, -2.12062187e-02,\n",
       "        -1.42876040e-02,  4.48651006e-03, -1.92370545e-02, -1.63660794e-02,\n",
       "         3.24322917e-02, -1.10298544e-02, -4.24246304e-02, -1.34416297e-02,\n",
       "        -6.14227541e-03, -2.48460621e-02,  3.40995342e-02,  5.00707775e-02,\n",
       "        -3.00260540e-03, -2.56239772e-02, -2.09046956e-02, -1.31210238e-02,\n",
       "        -2.73260884e-02, -6.02548942e-04,  3.93042788e-02, -6.34130230e-03,\n",
       "         7.26609863e-03,  3.96705233e-03,  1.65123418e-02, -3.48735601e-02,\n",
       "        -3.22490744e-02, -1.80130508e-02, -5.27274981e-03, -3.66822109e-02,\n",
       "        -8.91362410e-03, -3.71216908e-02, -1.99306104e-02,  8.21375102e-03,\n",
       "         1.63527727e-02,  1.45614911e-02,  3.46204452e-02,  2.89477855e-02,\n",
       "         2.54220013e-02, -3.52059002e-03, -3.86750884e-02,  1.05963368e-03,\n",
       "         4.79567498e-02, -2.95277964e-03,  2.09207162e-02,  1.97645873e-02,\n",
       "         1.08920913e-02,  1.29161905e-02, -1.93650238e-02, -1.80245638e-02,\n",
       "        -3.00656502e-05,  4.54640667e-06,  6.46918988e-06, -4.15292998e-05,\n",
       "        -1.41719584e-05, -6.47977140e-05,  5.85514426e-05, -2.08751480e-05,\n",
       "         3.45564913e-05, -3.06091642e-05, -1.09942312e-05,  1.51154636e-05,\n",
       "         4.18225645e-05, -8.92537173e-07, -1.73400258e-05, -1.79541057e-05,\n",
       "         7.09114393e-05, -5.85728185e-06,  6.02960881e-07, -7.62455893e-05,\n",
       "        -2.18392506e-05,  2.59177323e-05, -1.33191188e-05,  3.28719070e-05,\n",
       "        -7.31537511e-06,  7.40751420e-05, -2.62314497e-05, -1.56514106e-05,\n",
       "         3.56681994e-05, -1.60956279e-05, -5.39992470e-05, -3.52120915e-05,\n",
       "        -9.08253605e-06,  1.55262351e-05, -2.17812376e-05, -1.50330688e-05,\n",
       "         9.86687883e-06, -2.38680332e-05,  3.58111429e-05,  9.85372026e-06,\n",
       "         2.17442848e-05, -3.92879374e-05, -5.01216018e-05, -9.21587798e-06,\n",
       "         8.27609620e-06,  1.12130238e-05,  1.79991821e-05, -4.05657411e-05,\n",
       "        -2.72131911e-05,  7.68984137e-06, -4.71195053e-05,  4.22670519e-06,\n",
       "        -4.26277256e-05, -1.53944966e-05, -4.75031629e-05,  2.94223610e-05,\n",
       "         5.69759286e-05,  3.57917561e-05, -2.66380375e-05,  4.07398602e-07,\n",
       "        -2.39556539e-05, -9.09075789e-06, -1.58850125e-05, -3.69778500e-05,\n",
       "        -2.17471625e-05, -1.26675768e-05,  3.81549307e-06, -2.25165713e-05,\n",
       "        -1.83897228e-05, -2.69368002e-07,  2.60033758e-05, -5.77261744e-05,\n",
       "         7.21632678e-05,  1.01658616e-05, -6.34589014e-07, -8.10914207e-06,\n",
       "        -9.18974911e-06,  1.16763968e-05, -3.14482604e-05,  4.40137737e-05,\n",
       "        -1.08710910e-05,  3.00022602e-05,  6.33839518e-05,  3.76436983e-05,\n",
       "        -4.49045183e-06,  1.40092361e-05,  3.11513286e-05, -1.28368847e-05,\n",
       "        -2.68013955e-05, -3.11741132e-05,  3.34778961e-05,  6.45322580e-05,\n",
       "        -2.93611265e-05,  5.24960815e-05, -8.55265353e-06, -5.02655121e-06,\n",
       "         1.69733448e-06, -7.12190194e-06,  4.42476448e-05, -2.65907092e-05,\n",
       "        -1.04031451e-05,  3.27497692e-05,  1.39416070e-05, -1.36857116e-05,\n",
       "        -2.17559427e-05,  2.43733302e-06,  2.40756563e-05,  4.76068926e-05,\n",
       "        -2.52987302e-05,  2.08552374e-05, -2.96051803e-05,  1.92826883e-05,\n",
       "         2.08532892e-05,  3.52111601e-06,  8.77019374e-06, -4.99791422e-05,\n",
       "         7.29098465e-05, -3.39411417e-06,  4.37161434e-05, -2.02598694e-05,\n",
       "         2.49576187e-05, -2.54432780e-05, -5.56046434e-05,  1.92727384e-05,\n",
       "         1.18690232e-05, -3.72791692e-05, -7.60697094e-06,  1.69954619e-05],\n",
       "       dtype=float32)>,\n",
       " <tf.Tensor: shape=(128, 10000), dtype=float32, numpy=\n",
       " array([[ 1.5843762e-03,  5.7340629e-04,  7.2285306e-04, ...,\n",
       "         -2.7735264e-06, -2.7751412e-06, -2.7731630e-06],\n",
       "        [-2.5802099e-03, -5.8587184e-03, -3.4832314e-03, ...,\n",
       "          6.9493326e-06,  6.9482785e-06,  6.9536018e-06],\n",
       "        [-1.1227489e-03, -1.3768468e-04, -1.2164324e-03, ...,\n",
       "          1.8077155e-06,  1.8079105e-06,  1.8090013e-06],\n",
       "        ...,\n",
       "        [ 1.9488372e-03,  8.7334379e-04,  1.9959661e-03, ...,\n",
       "         -3.8995513e-06, -3.8986068e-06, -3.9008773e-06],\n",
       "        [ 3.8270254e-04,  7.5968349e-04,  1.6694381e-03, ...,\n",
       "         -1.4821043e-06, -1.4787288e-06, -1.4822688e-06],\n",
       "        [ 1.0796865e-03,  1.0046425e-03,  9.9370559e-04, ...,\n",
       "         -2.0235891e-06, -2.0230284e-06, -2.0242117e-06]], dtype=float32)>,\n",
       " <tf.Tensor: shape=(10000,), dtype=float32, numpy=\n",
       " array([-0.79799813, -1.0313313 , -1.0313315 , ...,  0.00199989,\n",
       "         0.00199987,  0.00200034], dtype=float32)>]"
      ]
     },
     "execution_count": 48,
     "metadata": {},
     "output_type": "execute_result"
    }
   ],
   "source": [
    "# Define the gradient clipping threshold\n",
    "grads, _ = tf.clip_by_global_norm(grad_t_list, max_grad_norm)\n",
    "grads"
   ]
  },
  {
   "cell_type": "markdown",
   "metadata": {},
   "source": [
    "<h4> 4.Apply the optimizer to the variables/gradients tuple. </h4>\n"
   ]
  },
  {
   "cell_type": "code",
   "execution_count": 49,
   "metadata": {},
   "outputs": [],
   "source": [
    "# Create the training TensorFlow Operation through our optimizer\n",
    "train_op = optimizer.apply_gradients(zip(grads, tvars))"
   ]
  },
  {
   "cell_type": "markdown",
   "metadata": {},
   "source": [
    "<a id=\"ltsm\"></a>\n",
    "\n",
    "<h2>LSTM</h2>\n"
   ]
  },
  {
   "cell_type": "markdown",
   "metadata": {
    "button": false,
    "deletable": true,
    "new_sheet": false,
    "run_control": {
     "read_only": false
    }
   },
   "source": [
    "We learned how the model is build step by step. Noe, let's then create a Class that represents our model. This class needs a few things:\n",
    "\n",
    "<ul>\n",
    "    <li>We have to create the model in accordance with our defined hyperparameters</li>\n",
    "    <li>We have to create the LSTM cell structure and connect them with our RNN structure</li>\n",
    "    <li>We have to create the word embeddings and point them to the input data</li>\n",
    "    <li>We have to create the input structure for our RNN</li>\n",
    "    <li>We need to create a logistic structure to return the probability of our words</li>\n",
    "    <li>We need to create the loss and cost functions for our optimizer to work, and then create the optimizer</li>\n",
    "    <li>And finally, we need to create a training operation that can be run to actually train our model</li>\n",
    "</ul>\n"
   ]
  },
  {
   "cell_type": "code",
   "execution_count": 50,
   "metadata": {
    "button": false,
    "deletable": true,
    "new_sheet": false,
    "run_control": {
     "read_only": false
    },
    "tags": []
   },
   "outputs": [],
   "source": [
    "class PTBModel(object):\n",
    "\n",
    "\n",
    "    def __init__(self):\n",
    "        ######################################\n",
    "        # Setting parameters for ease of use #\n",
    "        ######################################\n",
    "        self.batch_size = batch_size\n",
    "        self.num_steps = num_steps\n",
    "        self.hidden_size_l1 = hidden_size_l1\n",
    "        self.hidden_size_l2 = hidden_size_l2\n",
    "        self.vocab_size = vocab_size\n",
    "        self.embeding_vector_size = embeding_vector_size\n",
    "        # Create a variable for the learning rate\n",
    "        self._lr = 1.0\n",
    "        \n",
    "        ###############################################################################\n",
    "        # Initializing the model using keras Sequential API  #\n",
    "        ###############################################################################\n",
    "        \n",
    "        self._model = tf.keras.models.Sequential()\n",
    "        \n",
    "        ####################################################################\n",
    "        # Creating the word embeddings layer and adding it to the sequence #\n",
    "        ####################################################################\n",
    "        with tf.device(\"/cpu:0\"):\n",
    "            # Create the embeddings for our input data. Size is hidden size.\n",
    "            self._embedding_layer = tf.keras.layers.Embedding(self.vocab_size, self.embeding_vector_size,batch_input_shape=(self.batch_size, self.num_steps),trainable=True,name=\"embedding_vocab\")  #[10000x200]\n",
    "            self._model.add(self._embedding_layer)\n",
    "            \n",
    "\n",
    "        ##########################################################################\n",
    "        # Creating the LSTM cell structure and connect it with the RNN structure #\n",
    "        ##########################################################################\n",
    "        # Create the LSTM Cells. \n",
    "        # This creates only the structure for the LSTM and has to be associated with a RNN unit still.\n",
    "        # The argument  of LSTMCell is size of hidden layer, that is, the number of hidden units of the LSTM (inside A). \n",
    "        # LSTM cell processes one word at a time and computes probabilities of the possible continuations of the sentence.\n",
    "        lstm_cell_l1 = tf.keras.layers.LSTMCell(hidden_size_l1)\n",
    "        lstm_cell_l2 = tf.keras.layers.LSTMCell(hidden_size_l2)\n",
    "        \n",
    "\n",
    "        \n",
    "        # By taking in the LSTM cells as parameters, the StackedRNNCells function junctions the LSTM units to the RNN units.\n",
    "        # RNN cell composed sequentially of stacked simple cells.\n",
    "        stacked_lstm = tf.keras.layers.StackedRNNCells([lstm_cell_l1, lstm_cell_l2])\n",
    "\n",
    "\n",
    "        \n",
    "\n",
    "        ############################################\n",
    "        # Creating the input structure for our RNN #\n",
    "        ############################################\n",
    "        # Input structure is 20x[30x200]\n",
    "        # Considering each word is represended by a 200 dimentional vector, and we have 30 batchs, we create 30 word-vectors of size [30xx2000]\n",
    "        # The input structure is fed from the embeddings, which are filled in by the input data\n",
    "        # Feeding a batch of b sentences to a RNN:\n",
    "        # In step 1,  first word of each of the b sentences (in a batch) is input in parallel.  \n",
    "        # In step 2,  second word of each of the b sentences is input in parallel. \n",
    "        # The parallelism is only for efficiency.  \n",
    "        # Each sentence in a batch is handled in parallel, but the network sees one word of a sentence at a time and does the computations accordingly. \n",
    "        # All the computations involving the words of all sentences in a batch at a given time step are done in parallel. \n",
    "\n",
    "        ########################################################################################################\n",
    "        # Instantiating our RNN model and setting stateful to True to feed forward the state to the next layer #\n",
    "        ########################################################################################################\n",
    "        \n",
    "        self._RNNlayer  =  tf.keras.layers.RNN(stacked_lstm,[batch_size, num_steps],return_state=False,stateful=True,trainable=True)\n",
    "        \n",
    "        # Define the initial state, i.e., the model state for the very first data point\n",
    "        # It initialize the state of the LSTM memory. The memory state of the network is initialized with a vector of zeros and gets updated after reading each word.\n",
    "        self._initial_state = tf.Variable(tf.zeros([batch_size,embeding_vector_size]),trainable=False)\n",
    "        self._RNNlayer.inital_state = self._initial_state\n",
    "    \n",
    "        ############################################\n",
    "        # Adding RNN layer to keras sequential API #\n",
    "        ############################################        \n",
    "        self._model.add(self._RNNlayer)\n",
    "        \n",
    "        #self._model.add(tf.keras.layers.LSTM(hidden_size_l1,return_sequences=True,stateful=True))\n",
    "        #self._model.add(tf.keras.layers.LSTM(hidden_size_l2,return_sequences=True))\n",
    "        \n",
    "        \n",
    "        ####################################################################################################\n",
    "        # Instantiating a Dense layer that connects the output to the vocab_size  and adding layer to model#\n",
    "        ####################################################################################################\n",
    "        self._dense = tf.keras.layers.Dense(self.vocab_size)\n",
    "        self._model.add(self._dense)\n",
    " \n",
    "        \n",
    "        ####################################################################################################\n",
    "        # Adding softmax activation layer and deriving probability to each class and adding layer to model #\n",
    "        ####################################################################################################\n",
    "        self._activation = tf.keras.layers.Activation('softmax')\n",
    "        self._model.add(self._activation)\n",
    "\n",
    "        ##########################################################\n",
    "        # Instantiating the stochastic gradient decent optimizer #\n",
    "        ########################################################## \n",
    "        self._optimizer = tf.keras.optimizers.SGD(lr=self._lr, clipnorm=max_grad_norm)\n",
    "        \n",
    "        \n",
    "        ##############################################################################\n",
    "        # Compiling and summarizing the model stacked using the keras sequential API #\n",
    "        ##############################################################################\n",
    "        self._model.compile(loss=self.crossentropy, optimizer=self._optimizer)\n",
    "        self._model.summary()\n",
    "\n",
    "\n",
    "    def crossentropy(self,y_true, y_pred):\n",
    "        return tf.keras.losses.sparse_categorical_crossentropy(y_true, y_pred)\n",
    "\n",
    "    def train_batch(self,_input_data,_targets):\n",
    "        #################################################\n",
    "        # Creating the Training Operation for our Model #\n",
    "        #################################################\n",
    "        # Create a variable for the learning rate\n",
    "        self._lr = tf.Variable(0.0, trainable=False)\n",
    "        # Get all TensorFlow variables marked as \"trainable\" (i.e. all of them except _lr, which we just created)\n",
    "        tvars = self._model.trainable_variables\n",
    "        # Define the gradient clipping threshold\n",
    "        with tf.GradientTape() as tape:\n",
    "            # Forward pass.\n",
    "            output_words_prob = self._model(_input_data)\n",
    "            # Loss value for this batch.\n",
    "            loss  = self.crossentropy(_targets, output_words_prob)\n",
    "            # average across batch and reduce sum\n",
    "            cost = tf.reduce_sum(loss/ self.batch_size)\n",
    "        # Get gradients of loss wrt the trainable variables.\n",
    "        grad_t_list = tape.gradient(cost, tvars)\n",
    "        # Define the gradient clipping threshold\n",
    "        grads, _ = tf.clip_by_global_norm(grad_t_list, max_grad_norm)\n",
    "        # Create the training TensorFlow Operation through our optimizer\n",
    "        train_op = self._optimizer.apply_gradients(zip(grads, tvars))\n",
    "        return cost\n",
    "        \n",
    "    def test_batch(self,_input_data,_targets):\n",
    "        #################################################\n",
    "        # Creating the Testing Operation for our Model #\n",
    "        #################################################\n",
    "        output_words_prob = self._model(_input_data)\n",
    "        loss  = self.crossentropy(_targets, output_words_prob)\n",
    "        # average across batch and reduce sum\n",
    "        cost = tf.reduce_sum(loss/ self.batch_size)\n",
    "\n",
    "        return cost\n",
    "    @classmethod\n",
    "    def instance(cls) : \n",
    "        return PTBModel()"
   ]
  },
  {
   "cell_type": "markdown",
   "metadata": {
    "button": false,
    "deletable": true,
    "new_sheet": false,
    "run_control": {
     "read_only": false
    }
   },
   "source": [
    "With that, the actual structure of our Recurrent Neural Network with Long Short-Term Memory is finished. What remains for us to do is to actually create the methods to run through time -- that is, the <code>run_epoch</code> method to be run at each epoch and a <code>main</code> script which ties all of this together.\n",
    "\n",
    "What our <code>run_epoch</code> method should do is take our input data and feed it to the relevant operations. This will return at the very least the current result for the cost function.\n"
   ]
  },
  {
   "cell_type": "code",
   "execution_count": 51,
   "metadata": {
    "button": false,
    "deletable": true,
    "new_sheet": false,
    "run_control": {
     "read_only": false
    }
   },
   "outputs": [],
   "source": [
    "\n",
    "########################################################################################################################\n",
    "# run_one_epoch takes as parameters  the model instance, the data to be fed, training or testing mode and verbose info #\n",
    "########################################################################################################################\n",
    "def run_one_epoch(m, data,is_training=True,verbose=False):\n",
    "\n",
    "    #Define the epoch size based on the length of the data, batch size and the number of steps\n",
    "    epoch_size = ((len(data) // m.batch_size) - 1) // m.num_steps\n",
    "    start_time = time.time()\n",
    "    costs = 0.\n",
    "    iters = 0\n",
    "    \n",
    "    m._model.reset_states()\n",
    "    \n",
    "    #For each step and data point\n",
    "    for step, (x, y) in enumerate(reader.ptb_iterator(data, m.batch_size, m.num_steps)):\n",
    "        \n",
    "        #Evaluate and return cost, state by running cost, final_state and the function passed as parameter\n",
    "        #y = tf.keras.utils.to_categorical(y, num_classes=vocab_size)\n",
    "        if is_training : \n",
    "            loss=  m.train_batch(x, y)\n",
    "        else :\n",
    "            loss = m.test_batch(x, y)\n",
    "                                   \n",
    "\n",
    "        #Add returned cost to costs (which keeps track of the total costs for this epoch)\n",
    "        costs += loss\n",
    "        \n",
    "        #Add number of steps to iteration counter\n",
    "        iters += m.num_steps\n",
    "\n",
    "        if verbose and step % (epoch_size // 10) == 10:\n",
    "            print(\"Itr %d of %d, perplexity: %.3f speed: %.0f wps\" % (step , epoch_size, np.exp(costs / iters), iters * m.batch_size / (time.time() - start_time)))\n",
    "        \n",
    "\n",
    "\n",
    "    # Returns the Perplexity rating for us to keep track of how the model is evolving\n",
    "    return np.exp(costs / iters)\n"
   ]
  },
  {
   "cell_type": "markdown",
   "metadata": {
    "button": false,
    "deletable": true,
    "new_sheet": false,
    "run_control": {
     "read_only": false
    }
   },
   "source": [
    "Now, we create the <code>main</code> method to tie everything together. The code here reads the data from the directory, using the <code>reader</code> helper module, and then trains and evaluates the model on both a testing and a validating subset of data.\n"
   ]
  },
  {
   "cell_type": "code",
   "execution_count": 52,
   "metadata": {
    "button": false,
    "deletable": true,
    "new_sheet": false,
    "run_control": {
     "read_only": false
    },
    "tags": []
   },
   "outputs": [],
   "source": [
    "# Reads the data and separates it into training data, validation data and testing data\n",
    "raw_data = reader.ptb_raw_data(data_dir)\n",
    "train_data, valid_data, test_data, _, _ = raw_data"
   ]
  },
  {
   "cell_type": "code",
   "execution_count": null,
   "metadata": {
    "tags": []
   },
   "outputs": [],
   "source": [
    "# Instantiates the PTBModel class\n",
    "m=PTBModel.instance()   \n",
    "K = tf.keras.backend \n",
    "for i in range(max_epoch):\n",
    "    # Define the decay for this epoch\n",
    "    lr_decay = decay ** max(i - max_epoch_decay_lr, 0.0)\n",
    "    dcr = learning_rate * lr_decay\n",
    "    m._lr = dcr\n",
    "    K.set_value(m._model.optimizer.learning_rate,m._lr)\n",
    "    print(\"Epoch %d : Learning rate: %.3f\" % (i + 1, m._model.optimizer.learning_rate))\n",
    "    # Run the loop for this epoch in the training mode\n",
    "    train_perplexity = run_one_epoch(m, train_data,is_training=True,verbose=True)\n",
    "    print(\"Epoch %d : Train Perplexity: %.3f\" % (i + 1, train_perplexity))\n",
    "        \n",
    "    # Run the loop for this epoch in the validation mode\n",
    "    valid_perplexity = run_one_epoch(m, valid_data,is_training=False,verbose=False)\n",
    "    print(\"Epoch %d : Valid Perplexity: %.3f\" % (i + 1, valid_perplexity))\n",
    "    \n",
    "# Run the loop in the testing mode to see how effective was our training\n",
    "test_perplexity = run_one_epoch(m, test_data,is_training=False,verbose=False)\n",
    "print(\"Test Perplexity: %.3f\" % test_perplexity)\n",
    "\n"
   ]
  },
  {
   "cell_type": "markdown",
   "metadata": {
    "button": false,
    "deletable": true,
    "new_sheet": false,
    "run_control": {
     "read_only": false
    }
   },
   "source": [
    "As you can see, the model's perplexity rating drops very quickly after a few iterations. As was elaborated before, <b>lower Perplexity means that the model is more certain about its prediction</b>. As such, we can be sure that this model is performing well!\n"
   ]
  },
  {
   "cell_type": "markdown",
   "metadata": {
    "button": false,
    "deletable": true,
    "new_sheet": false,
    "run_control": {
     "read_only": false
    }
   },
   "source": [
    "***\n"
   ]
  },
  {
   "cell_type": "markdown",
   "metadata": {
    "button": false,
    "deletable": true,
    "new_sheet": false,
    "run_control": {
     "read_only": false
    }
   },
   "source": [
    "This is the end of the <b>Applying Recurrent Neural Networks to Text Processing</b> notebook. Hopefully you now have a better understanding of Recurrent Neural Networks and how to implement one utilizing TensorFlow. Thank you for reading this notebook, and good luck on your studies.\n"
   ]
  },
  {
   "cell_type": "markdown",
   "metadata": {
    "button": false,
    "deletable": true,
    "new_sheet": false,
    "run_control": {
     "read_only": false
    }
   },
   "source": [
    "## Want to learn more?\n",
    "\n",
    "Also, you can use **Watson Studio** to run these notebooks faster with bigger datasets.**Watson Studio** is IBM’s leading cloud solution for data scientists, built by data scientists. With Jupyter notebooks, RStudio, Apache Spark and popular libraries pre-packaged in the cloud, **Watson Studio** enables data scientists to collaborate on their projects without having to install anything. Join the fast-growing community of **Watson Studio** users today with a free account at [Watson Studio](https://cocl.us/ML0120EN_DSX).This is the end of this lesson. Thank you for reading this notebook, and good luck on your studies.\n"
   ]
  },
  {
   "cell_type": "markdown",
   "metadata": {
    "button": false,
    "deletable": true,
    "new_sheet": false,
    "run_control": {
     "read_only": false
    }
   },
   "source": [
    "### Thanks for completing this lesson!\n",
    "\n",
    "Notebook created by <a href=\"https://br.linkedin.com/in/walter-gomes-de-amorim-junior-624726121?utm_medium=Exinfluencer&utm_source=Exinfluencer&utm_content=000026UJ&utm_term=10006555&utm_id=NA-SkillsNetwork-Channel-SkillsNetworkCoursesIBMDeveloperSkillsNetworkDL0120ENSkillsNetwork20629446-2021-01-01\">Walter Gomes de Amorim Junior</a>, <a href = \"https://linkedin.com/in/saeedaghabozorgi?utm_medium=Exinfluencer&utm_source=Exinfluencer&utm_content=000026UJ&utm_term=10006555&utm_id=NA-SkillsNetwork-Channel-SkillsNetworkCoursesIBMDeveloperSkillsNetworkDL0120ENSkillsNetwork20629446-2021-01-01\"> Saeed Aghabozorgi </a></h4>\n",
    "\n",
    "Updated to TF 2.X by  <a href=\"https://www.linkedin.com/in/samaya-madhavan?utm_medium=Exinfluencer&utm_source=Exinfluencer&utm_content=000026UJ&utm_term=10006555&utm_id=NA-SkillsNetwork-Channel-SkillsNetworkCoursesIBMDeveloperSkillsNetworkDL0120ENSkillsNetwork20629446-2021-01-01\"> Samaya Madhavan </a>\n"
   ]
  },
  {
   "cell_type": "markdown",
   "metadata": {
    "button": false,
    "deletable": true,
    "new_sheet": false,
    "run_control": {
     "read_only": false
    }
   },
   "source": [
    "<hr>\n",
    "\n",
    "Copyright © 2018 [Cognitive Class](https://cocl.us/DX0108EN_CC). This notebook and its source code are released under the terms of the [MIT License](https://bigdatauniversity.com/mit-license/?utm_medium=Exinfluencer&utm_source=Exinfluencer&utm_content=000026UJ&utm_term=10006555&utm_id=NA-SkillsNetwork-Channel-SkillsNetworkCoursesIBMDeveloperSkillsNetworkDL0120ENSkillsNetwork20629446-2021-01-01).\n"
   ]
  }
 ],
 "metadata": {
  "anaconda-cloud": {},
  "kernelspec": {
   "display_name": "Python",
   "language": "python",
   "name": "conda-env-python-py"
  },
  "language_info": {
   "codemirror_mode": {
    "name": "ipython",
    "version": 3
   },
   "file_extension": ".py",
   "mimetype": "text/x-python",
   "name": "python",
   "nbconvert_exporter": "python",
   "pygments_lexer": "ipython3",
   "version": "3.6.13"
  },
  "widgets": {
   "state": {},
   "version": "1.1.2"
  }
 },
 "nbformat": 4,
 "nbformat_minor": 4
}
